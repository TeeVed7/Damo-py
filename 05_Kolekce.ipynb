{
 "cells": [
  {
   "cell_type": "markdown",
   "metadata": {},
   "source": [
    "<style> li { margin-bottom: 1em; } code { font-family: Consolas, monospace; } h2 { margin-top: 1em; } table { width: 100%; } td, th { border: none!important; } </style>\n",
    "\n",
    "# 5. Kolekce\n",
    "\n",
    "<hr>"
   ]
  },
  {
   "cell_type": "markdown",
   "metadata": {},
   "source": [
    "<style> li { margin-bottom: 1em; } code { font-family: Consolas, monospace; } h2 { margin-top: 1em; } table { width: 100%; } td, th { border: none!important; } </style>\n",
    "\n",
    "## Kolekce"
   ]
  },
  {
   "cell_type": "markdown",
   "metadata": {},
   "source": [
    "<style> li { margin-bottom: 1em; } code { font-family: Consolas, monospace; } h2 { margin-top: 1em; } table { width: 100%; } td, th { border: none!important; } </style>\n",
    "\n",
    "Kolekce jsou objekty, které obsahují strukturovaně více hodnot. \n",
    "\n",
    "Mezi základní typy kolekcí patří:\n",
    "\n",
    "- **seznam** (`list`) – upravovatelný soubor hodnot s daným pořadím, `[1, 5, 1]`\n",
    "\n",
    "- **n-tice** (`tuple`) – neupravovatelný soubor hodnot s daným pořadím, `(1, 5, 1)`\n",
    "\n",
    "- **množina** (`set`) – upravovatelný soubor unikátních hodnot bez pořadí, `{1, 5}`\n",
    "\n",
    "- **slovník** (`dict`) – upravovatelný soubor pojmenovaných hodnot, `{'x': 1, 'y': 5}`\n",
    "\n",
    "Všechny kolekce jsou iterovatelné objekty."
   ]
  },
  {
   "cell_type": "markdown",
   "metadata": {},
   "source": [
    "<style> li { margin-bottom: 1em; } code { font-family: Consolas, monospace; } h2 { margin-top: 1em; } table { width: 100%; } td, th { border: none!important; } </style>\n",
    "\n",
    "<hr>"
   ]
  },
  {
   "cell_type": "markdown",
   "metadata": {},
   "source": [
    "<style> li { margin-bottom: 1em; } code { font-family: Consolas, monospace; } h2 { margin-top: 1em; } table { width: 100%; } td, th { border: none!important; } </style>\n",
    "\n",
    "## Seznam (`list`)"
   ]
  },
  {
   "cell_type": "markdown",
   "metadata": {},
   "source": [
    "<style> li { margin-bottom: 1em; } code { font-family: Consolas, monospace; } h2 { margin-top: 1em; } table { width: 100%; } td, th { border: none!important; } </style>\n",
    "\n",
    "- **Upravovatelný** soubor hodnot **s daným pořadím**\n",
    "\n",
    "- Vytváříme je:\n",
    "\n",
    "  - pomocí `[]` z jednotlivých prvků\n",
    "  \n",
    "  - pomocí funkce `list` z jiného iterovatelného objektu\n",
    "\n",
    "- Seznam lze modifikovat (narozdíl od řetězce): měnit, přidávat, odebírat prvky\n",
    "\n",
    "- Používáme, když máme více obdobných objektů, např. seznam čísel, seznam studentů\n",
    "\n",
    "- Nejčastěji používaný typ kolekce"
   ]
  },
  {
   "cell_type": "code",
   "execution_count": 1,
   "metadata": {},
   "outputs": [
    {
     "data": {
      "text/plain": [
       "[1, 2, 3, 4, 5]"
      ]
     },
     "execution_count": 1,
     "metadata": {},
     "output_type": "execute_result"
    }
   ],
   "source": [
    "numbers = [1, 2, 3, 4, 5]\n",
    "numbers"
   ]
  },
  {
   "cell_type": "code",
   "execution_count": 2,
   "metadata": {},
   "outputs": [
    {
     "data": {
      "text/plain": [
       "[]"
      ]
     },
     "execution_count": 2,
     "metadata": {},
     "output_type": "execute_result"
    }
   ],
   "source": [
    "numbers = []  # Prázdný seznam\n",
    "numbers"
   ]
  },
  {
   "cell_type": "code",
   "execution_count": 3,
   "metadata": {
    "slideshow": {
     "slide_type": "fragment"
    }
   },
   "outputs": [
    {
     "data": {
      "text/plain": [
       "['h', 'e', 'l', 'l', 'o']"
      ]
     },
     "execution_count": 3,
     "metadata": {},
     "output_type": "execute_result"
    }
   ],
   "source": [
    "letters = list('hello')\n",
    "letters"
   ]
  },
  {
   "cell_type": "code",
   "execution_count": 4,
   "metadata": {},
   "outputs": [
    {
     "name": "stdout",
     "output_type": "stream",
     "text": [
      "01234\n"
     ]
    }
   ],
   "source": [
    "numbers = list(range(5))\n",
    "print(*numbers, sep=\"\")"
   ]
  },
  {
   "cell_type": "markdown",
   "metadata": {},
   "source": [
    "<style> li { margin-bottom: 1em; } code { font-family: Consolas, monospace; } h2 { margin-top: 1em; } table { width: 100%; } td, th { border: none!important; } </style>\n",
    "\n",
    "- Některé funkce vrací seznam"
   ]
  },
  {
   "cell_type": "code",
   "execution_count": 5,
   "metadata": {},
   "outputs": [
    {
     "data": {
      "text/plain": [
       "['Prasátko', 'Peppa']"
      ]
     },
     "execution_count": 5,
     "metadata": {},
     "output_type": "execute_result"
    }
   ],
   "source": [
    "words = 'Prasátko Peppa'.split()\n",
    "words"
   ]
  },
  {
   "cell_type": "markdown",
   "metadata": {},
   "source": [
    "<style> li { margin-bottom: 1em; } code { font-family: Consolas, monospace; } h2 { margin-top: 1em; } table { width: 100%; } td, th { border: none!important; } </style>\n",
    "\n",
    "- Na pořadí záleží"
   ]
  },
  {
   "cell_type": "code",
   "execution_count": 6,
   "metadata": {},
   "outputs": [
    {
     "data": {
      "text/plain": [
       "True"
      ]
     },
     "execution_count": 6,
     "metadata": {},
     "output_type": "execute_result"
    }
   ],
   "source": [
    "[1, 2, 3] == [1, 2, 3]"
   ]
  },
  {
   "cell_type": "code",
   "execution_count": 7,
   "metadata": {},
   "outputs": [
    {
     "data": {
      "text/plain": [
       "False"
      ]
     },
     "execution_count": 7,
     "metadata": {},
     "output_type": "execute_result"
    }
   ],
   "source": [
    "[1, 2, 3] == [3, 2, 1]"
   ]
  },
  {
   "cell_type": "markdown",
   "metadata": {},
   "source": [
    "<style> li { margin-bottom: 1em; } code { font-family: Consolas, monospace; } h2 { margin-top: 1em; } table { width: 100%; } td, th { border: none!important; } </style>\n",
    "\n",
    "### Indexování\n",
    "\n",
    "- Jako u řetězců, počítáme zleva od 0, zprava od -1"
   ]
  },
  {
   "cell_type": "code",
   "execution_count": 8,
   "metadata": {},
   "outputs": [
    {
     "data": {
      "text/plain": [
       "3"
      ]
     },
     "execution_count": 8,
     "metadata": {},
     "output_type": "execute_result"
    }
   ],
   "source": [
    "numbers = [1, 2, 3, 4, 5]\n",
    "numbers[2]"
   ]
  },
  {
   "cell_type": "code",
   "execution_count": 9,
   "metadata": {},
   "outputs": [
    {
     "data": {
      "text/plain": [
       "5"
      ]
     },
     "execution_count": 9,
     "metadata": {},
     "output_type": "execute_result"
    }
   ],
   "source": [
    "numbers[-1]"
   ]
  },
  {
   "cell_type": "code",
   "execution_count": 10,
   "metadata": {},
   "outputs": [
    {
     "data": {
      "text/plain": [
       "[2, 3, 4]"
      ]
     },
     "execution_count": 10,
     "metadata": {},
     "output_type": "execute_result"
    }
   ],
   "source": [
    "numbers[1:4]"
   ]
  },
  {
   "cell_type": "code",
   "execution_count": 11,
   "metadata": {},
   "outputs": [
    {
     "data": {
      "text/plain": [
       "[1, 2, 3]"
      ]
     },
     "execution_count": 11,
     "metadata": {},
     "output_type": "execute_result"
    }
   ],
   "source": [
    "numbers[:-2]"
   ]
  },
  {
   "cell_type": "markdown",
   "metadata": {},
   "source": [
    "<style> li { margin-bottom: 1em; } code { font-family: Consolas, monospace; } h2 { margin-top: 1em; } table { width: 100%; } td, th { border: none!important; } </style>\n",
    "\n",
    "### Operace se seznamy\n",
    "\n",
    "Podobné jako u řetězců\n",
    "\n",
    "- `len` – délka\n",
    "\n",
    "- `in` / `not in` – přítomnost prvku\n",
    "\n",
    "- `.count` – počet výskytů prvku\n",
    "\n",
    "- `.index` – první výskyt prvku"
   ]
  },
  {
   "cell_type": "code",
   "execution_count": 12,
   "metadata": {},
   "outputs": [
    {
     "data": {
      "text/plain": [
       "4"
      ]
     },
     "execution_count": 12,
     "metadata": {},
     "output_type": "execute_result"
    }
   ],
   "source": [
    "numbers = [1, 2, 5, 2]\n",
    "len(numbers)"
   ]
  },
  {
   "cell_type": "code",
   "execution_count": 13,
   "metadata": {},
   "outputs": [
    {
     "data": {
      "text/plain": [
       "True"
      ]
     },
     "execution_count": 13,
     "metadata": {},
     "output_type": "execute_result"
    }
   ],
   "source": [
    "5 in numbers"
   ]
  },
  {
   "cell_type": "code",
   "execution_count": 17,
   "metadata": {},
   "outputs": [
    {
     "data": {
      "text/plain": [
       "2"
      ]
     },
     "execution_count": 17,
     "metadata": {},
     "output_type": "execute_result"
    }
   ],
   "source": [
    "numbers.count(2)"
   ]
  },
  {
   "cell_type": "code",
   "execution_count": 18,
   "metadata": {},
   "outputs": [
    {
     "data": {
      "text/plain": [
       "1"
      ]
     },
     "execution_count": 18,
     "metadata": {},
     "output_type": "execute_result"
    }
   ],
   "source": [
    "numbers.index(2)"
   ]
  },
  {
   "cell_type": "markdown",
   "metadata": {},
   "source": [
    "<style> li { margin-bottom: 1em; } code { font-family: Consolas, monospace; } h2 { margin-top: 1em; } table { width: 100%; } td, th { border: none!important; } </style>\n",
    "\n",
    "- Sřetězení"
   ]
  },
  {
   "cell_type": "code",
   "execution_count": 19,
   "metadata": {},
   "outputs": [
    {
     "data": {
      "text/plain": [
       "[1, 2, 5, 2, 8]"
      ]
     },
     "execution_count": 19,
     "metadata": {},
     "output_type": "execute_result"
    }
   ],
   "source": [
    "[1, 2] + [5, 2, 8]"
   ]
  },
  {
   "cell_type": "markdown",
   "metadata": {
    "slideshow": {
     "slide_type": "fragment"
    }
   },
   "source": [
    "<style> li { margin-bottom: 1em; } code { font-family: Consolas, monospace; } h2 { margin-top: 1em; } table { width: 100%; } td, th { border: none!important; } </style>\n",
    "\n",
    "- Opakování"
   ]
  },
  {
   "cell_type": "code",
   "execution_count": 20,
   "metadata": {},
   "outputs": [
    {
     "data": {
      "text/plain": [
       "[1, 2, 1, 2, 1, 2]"
      ]
     },
     "execution_count": 20,
     "metadata": {},
     "output_type": "execute_result"
    }
   ],
   "source": [
    "[1, 2] * 3"
   ]
  },
  {
   "cell_type": "markdown",
   "metadata": {},
   "source": [
    "<style> li { margin-bottom: 1em; } code { font-family: Consolas, monospace; } h2 { margin-top: 1em; } table { width: 100%; } td, th { border: none!important; } </style>\n",
    "\n",
    "- Matematické operace `sum`, `min`, `max`"
   ]
  },
  {
   "cell_type": "code",
   "execution_count": 24,
   "metadata": {},
   "outputs": [
    {
     "data": {
      "text/plain": [
       "10"
      ]
     },
     "execution_count": 24,
     "metadata": {},
     "output_type": "execute_result"
    }
   ],
   "source": [
    "numbers = [1, 2, 5, 2]\n",
    "sum(numbers)"
   ]
  },
  {
   "cell_type": "code",
   "execution_count": 25,
   "metadata": {},
   "outputs": [
    {
     "data": {
      "text/plain": [
       "1"
      ]
     },
     "execution_count": 25,
     "metadata": {},
     "output_type": "execute_result"
    }
   ],
   "source": [
    "min(numbers)"
   ]
  },
  {
   "cell_type": "code",
   "execution_count": 26,
   "metadata": {},
   "outputs": [
    {
     "data": {
      "text/plain": [
       "5"
      ]
     },
     "execution_count": 26,
     "metadata": {},
     "output_type": "execute_result"
    }
   ],
   "source": [
    "max(numbers)"
   ]
  },
  {
   "cell_type": "markdown",
   "metadata": {},
   "source": [
    "<style> li { margin-bottom: 1em; } code { font-family: Consolas, monospace; } h2 { margin-top: 1em; } table { width: 100%; } td, th { border: none!important; } </style>\n",
    "\n",
    "- Logické funkce `all` (všechny prvky pravdivé) a `any` (aspoň jeden prvek pravdivý)"
   ]
  },
  {
   "cell_type": "code",
   "execution_count": 28,
   "metadata": {},
   "outputs": [
    {
     "data": {
      "text/plain": [
       "False"
      ]
     },
     "execution_count": 28,
     "metadata": {},
     "output_type": "execute_result"
    }
   ],
   "source": [
    "all([True, True, True, False])"
   ]
  },
  {
   "cell_type": "code",
   "execution_count": 27,
   "metadata": {},
   "outputs": [
    {
     "data": {
      "text/plain": [
       "True"
      ]
     },
     "execution_count": 27,
     "metadata": {},
     "output_type": "execute_result"
    }
   ],
   "source": [
    "any([True, True, True, False])"
   ]
  },
  {
   "cell_type": "markdown",
   "metadata": {
    "slideshow": {
     "slide_type": "fragment"
    }
   },
   "source": [
    "<style> li { margin-bottom: 1em; } code { font-family: Consolas, monospace; } h2 { margin-top: 1em; } table { width: 100%; } td, th { border: none!important; } </style>\n",
    "\n",
    "- (Tyto operace fungují na všech iterovatelných objektech, pokud to typově dává smysl.)"
   ]
  },
  {
   "cell_type": "code",
   "execution_count": 29,
   "metadata": {},
   "outputs": [
    {
     "data": {
      "text/plain": [
       "10"
      ]
     },
     "execution_count": 29,
     "metadata": {},
     "output_type": "execute_result"
    }
   ],
   "source": [
    "sum(range(5))"
   ]
  },
  {
   "cell_type": "code",
   "execution_count": 30,
   "metadata": {},
   "outputs": [
    {
     "data": {
      "text/plain": [
       "'e'"
      ]
     },
     "execution_count": 30,
     "metadata": {},
     "output_type": "execute_result"
    }
   ],
   "source": [
    "min('hello')  # Minimum u řetězců = první v abecedě"
   ]
  },
  {
   "cell_type": "markdown",
   "metadata": {},
   "source": [
    "<style> li { margin-bottom: 1em; } code { font-family: Consolas, monospace; } h2 { margin-top: 1em; } table { width: 100%; } td, th { border: none!important; } </style>\n",
    "\n",
    "### Metoda `join`\n",
    "\n",
    "- Opak `split`\n",
    "\n",
    "- Spojuje prvky pomocí separatoru\n",
    "\n",
    "- Funguje na seznamy i jiné iterovatelné objekty, ale prvky musí být typu `str`\n"
   ]
  },
  {
   "cell_type": "code",
   "execution_count": 28,
   "metadata": {},
   "outputs": [
    {
     "data": {
      "text/plain": [
       "'1 - 2 - 3'"
      ]
     },
     "execution_count": 28,
     "metadata": {},
     "output_type": "execute_result"
    }
   ],
   "source": [
    "' - '.join(['1', '2', '3'])"
   ]
  },
  {
   "cell_type": "code",
   "execution_count": 29,
   "metadata": {},
   "outputs": [
    {
     "data": {
      "text/plain": [
       "'123'"
      ]
     },
     "execution_count": 29,
     "metadata": {},
     "output_type": "execute_result"
    }
   ],
   "source": [
    "''.join(['1', '2', '3'])"
   ]
  },
  {
   "cell_type": "markdown",
   "metadata": {},
   "source": [
    "<style> li { margin-bottom: 1em; } code { font-family: Consolas, monospace; } h2 { margin-top: 1em; } table { width: 100%; } td, th { border: none!important; } </style>\n",
    "\n",
    "### Modifikace seznamů"
   ]
  },
  {
   "cell_type": "code",
   "execution_count": 36,
   "metadata": {},
   "outputs": [
    {
     "data": {
      "text/plain": [
       "[1, 2, 3, 4, 5]"
      ]
     },
     "execution_count": 36,
     "metadata": {},
     "output_type": "execute_result"
    }
   ],
   "source": [
    "numbers = [1, 2, 3, 4, 5]\n",
    "numbers"
   ]
  },
  {
   "cell_type": "code",
   "execution_count": 37,
   "metadata": {},
   "outputs": [],
   "source": [
    "numbers[2] = 8"
   ]
  },
  {
   "cell_type": "code",
   "execution_count": 38,
   "metadata": {},
   "outputs": [
    {
     "data": {
      "text/plain": [
       "[1, 2, 8, 4, 5]"
      ]
     },
     "execution_count": 38,
     "metadata": {},
     "output_type": "execute_result"
    }
   ],
   "source": [
    "numbers"
   ]
  },
  {
   "cell_type": "markdown",
   "metadata": {},
   "source": [
    "<style> li { margin-bottom: 1em; } code { font-family: Consolas, monospace; } h2 { margin-top: 1em; } table { width: 100%; } td, th { border: none!important; } </style>\n",
    "\n",
    "### Přidávání prvků\n",
    "\n",
    "- Metoda `.append(item)` přidá nový prvek `item` na konec seznamu\n",
    "\n",
    "- Metoda `.insert(i, item)` přidá prvek `item` na pozici `i` (následující prvky se posouvají o 1 doprava)"
   ]
  },
  {
   "cell_type": "code",
   "execution_count": 36,
   "metadata": {},
   "outputs": [
    {
     "data": {
      "text/plain": [
       "[1, 2, 3]"
      ]
     },
     "execution_count": 36,
     "metadata": {},
     "output_type": "execute_result"
    }
   ],
   "source": [
    "numbers = [1, 2, 3]\n",
    "numbers"
   ]
  },
  {
   "cell_type": "code",
   "execution_count": 37,
   "metadata": {},
   "outputs": [],
   "source": [
    "numbers.append(4)"
   ]
  },
  {
   "cell_type": "code",
   "execution_count": 38,
   "metadata": {},
   "outputs": [
    {
     "data": {
      "text/plain": [
       "[1, 2, 3, 4]"
      ]
     },
     "execution_count": 38,
     "metadata": {},
     "output_type": "execute_result"
    }
   ],
   "source": [
    "numbers"
   ]
  },
  {
   "cell_type": "code",
   "execution_count": 39,
   "metadata": {},
   "outputs": [],
   "source": [
    "numbers.insert(2, 10)"
   ]
  },
  {
   "cell_type": "code",
   "execution_count": 40,
   "metadata": {},
   "outputs": [
    {
     "data": {
      "text/plain": [
       "[1, 2, 10, 3, 4]"
      ]
     },
     "execution_count": 40,
     "metadata": {},
     "output_type": "execute_result"
    }
   ],
   "source": [
    "numbers"
   ]
  },
  {
   "cell_type": "markdown",
   "metadata": {},
   "source": [
    "<style> li { margin-bottom: 1em; } code { font-family: Consolas, monospace; } h2 { margin-top: 1em; } table { width: 100%; } td, th { border: none!important; } </style>\n",
    "\n",
    "- Metoda `.extend(iterable)` přidá na konec seznamu všechny prvky z jiného iterovatelného objektu"
   ]
  },
  {
   "cell_type": "code",
   "execution_count": 5,
   "metadata": {},
   "outputs": [],
   "source": [
    "numbers.extend([1, 2, 3])"
   ]
  },
  {
   "cell_type": "code",
   "execution_count": 6,
   "metadata": {},
   "outputs": [
    {
     "data": {
      "text/plain": [
       "[0, 1, 2, 3, 4, 1, 2, 3]"
      ]
     },
     "execution_count": 6,
     "metadata": {},
     "output_type": "execute_result"
    }
   ],
   "source": [
    "numbers"
   ]
  },
  {
   "cell_type": "markdown",
   "metadata": {},
   "source": [
    "<style> li { margin-bottom: 1em; } code { font-family: Consolas, monospace; } h2 { margin-top: 1em; } table { width: 100%; } td, th { border: none!important; } </style>\n",
    "\n",
    "### Odebírání prvků\n",
    "\n",
    "- Metoda `.pop()` odebere poslední prvek a vrátí ho jako výsledek\n",
    "\n",
    "- Metoda `.pop(i)` odebere *i*-tý prvek a vrátí ho jako výsledek (následující prvky se posouvají o 1 doleva)"
   ]
  },
  {
   "cell_type": "code",
   "execution_count": 43,
   "metadata": {},
   "outputs": [
    {
     "name": "stdout",
     "output_type": "stream",
     "text": [
      "3\n",
      "[1, 2, 10, 3, 4, 1, 2]\n"
     ]
    }
   ],
   "source": [
    "x = numbers.pop()\n",
    "print(x)\n",
    "print(numbers)"
   ]
  },
  {
   "cell_type": "code",
   "execution_count": 44,
   "metadata": {},
   "outputs": [
    {
     "name": "stdout",
     "output_type": "stream",
     "text": [
      "10\n",
      "[1, 2, 3, 4, 1, 2]\n"
     ]
    }
   ],
   "source": [
    "x = numbers.pop(2)\n",
    "print(x)\n",
    "print(numbers)"
   ]
  },
  {
   "cell_type": "markdown",
   "metadata": {},
   "source": [
    "<style> li { margin-bottom: 1em; } code { font-family: Consolas, monospace; } h2 { margin-top: 1em; } table { width: 100%; } td, th { border: none!important; } </style>\n",
    "\n",
    "- Metoda `.remove(item)` odebere první výskyt prvku `item` (následující prvky se posouvají o 1 doleva)"
   ]
  },
  {
   "cell_type": "code",
   "execution_count": 45,
   "metadata": {},
   "outputs": [],
   "source": [
    "numbers.remove(2)"
   ]
  },
  {
   "cell_type": "code",
   "execution_count": 46,
   "metadata": {},
   "outputs": [
    {
     "data": {
      "text/plain": [
       "[1, 3, 4, 1, 2]"
      ]
     },
     "execution_count": 46,
     "metadata": {},
     "output_type": "execute_result"
    }
   ],
   "source": [
    "numbers"
   ]
  },
  {
   "cell_type": "markdown",
   "metadata": {},
   "source": [
    "<style> li { margin-bottom: 1em; } code { font-family: Consolas, monospace; } h2 { margin-top: 1em; } table { width: 100%; } td, th { border: none!important; } </style>\n",
    "\n",
    "- Metoda `.clear()` odstraní všechny prvky"
   ]
  },
  {
   "cell_type": "code",
   "execution_count": 47,
   "metadata": {},
   "outputs": [],
   "source": [
    "numbers.clear()"
   ]
  },
  {
   "cell_type": "code",
   "execution_count": 48,
   "metadata": {},
   "outputs": [
    {
     "data": {
      "text/plain": [
       "[]"
      ]
     },
     "execution_count": 48,
     "metadata": {},
     "output_type": "execute_result"
    }
   ],
   "source": [
    "numbers"
   ]
  },
  {
   "cell_type": "markdown",
   "metadata": {},
   "source": [
    "<style> li { margin-bottom: 1em; } code { font-family: Consolas, monospace; } h2 { margin-top: 1em; } table { width: 100%; } td, th { border: none!important; } </style>\n",
    "\n",
    "### Změna směru\n",
    "\n",
    "- Metoda `.reverse()`"
   ]
  },
  {
   "cell_type": "code",
   "execution_count": 49,
   "metadata": {},
   "outputs": [],
   "source": [
    "numbers = [1, 2, 3, 0, 0]"
   ]
  },
  {
   "cell_type": "code",
   "execution_count": 50,
   "metadata": {},
   "outputs": [],
   "source": [
    "numbers.reverse()"
   ]
  },
  {
   "cell_type": "code",
   "execution_count": 51,
   "metadata": {},
   "outputs": [
    {
     "data": {
      "text/plain": [
       "[0, 0, 3, 2, 1]"
      ]
     },
     "execution_count": 51,
     "metadata": {},
     "output_type": "execute_result"
    }
   ],
   "source": [
    "numbers"
   ]
  },
  {
   "cell_type": "markdown",
   "metadata": {},
   "source": [
    "<style> li { margin-bottom: 1em; } code { font-family: Consolas, monospace; } h2 { margin-top: 1em; } table { width: 100%; } td, th { border: none!important; } </style>\n",
    "\n",
    "### Řazení\n",
    "\n",
    "- Metoda `.sort()`"
   ]
  },
  {
   "cell_type": "code",
   "execution_count": 52,
   "metadata": {},
   "outputs": [],
   "source": [
    "numbers.sort()"
   ]
  },
  {
   "cell_type": "code",
   "execution_count": 53,
   "metadata": {},
   "outputs": [
    {
     "data": {
      "text/plain": [
       "[0, 0, 1, 2, 3]"
      ]
     },
     "execution_count": 53,
     "metadata": {},
     "output_type": "execute_result"
    }
   ],
   "source": [
    "numbers"
   ]
  },
  {
   "cell_type": "code",
   "execution_count": 54,
   "metadata": {
    "slideshow": {
     "slide_type": "fragment"
    }
   },
   "outputs": [],
   "source": [
    "numbers.sort(reverse=True)"
   ]
  },
  {
   "cell_type": "code",
   "execution_count": 55,
   "metadata": {},
   "outputs": [
    {
     "data": {
      "text/plain": [
       "[3, 2, 1, 0, 0]"
      ]
     },
     "execution_count": 55,
     "metadata": {},
     "output_type": "execute_result"
    }
   ],
   "source": [
    "numbers"
   ]
  },
  {
   "cell_type": "markdown",
   "metadata": {},
   "source": [
    "<style> li { margin-bottom: 1em; } code { font-family: Consolas, monospace; } h2 { margin-top: 1em; } table { width: 100%; } td, th { border: none!important; } </style>\n",
    "\n",
    "- Řazení řetězců – podle abecedy (pozor, nefunguje pro smíšenou velikost písmen a diakritiku)"
   ]
  },
  {
   "cell_type": "code",
   "execution_count": 56,
   "metadata": {
    "slideshow": {
     "slide_type": "fragment"
    }
   },
   "outputs": [
    {
     "data": {
      "text/plain": [
       "['butterfly', 'dog', 'elephant', 'python']"
      ]
     },
     "execution_count": 56,
     "metadata": {},
     "output_type": "execute_result"
    }
   ],
   "source": [
    "animals = ['python', 'dog', 'elephant', 'butterfly']\n",
    "animals.sort()\n",
    "animals"
   ]
  },
  {
   "cell_type": "code",
   "execution_count": 57,
   "metadata": {
    "slideshow": {
     "slide_type": "fragment"
    }
   },
   "outputs": [
    {
     "data": {
      "text/plain": [
       "['dog', 'python', 'elephant', 'butterfly']"
      ]
     },
     "execution_count": 57,
     "metadata": {},
     "output_type": "execute_result"
    }
   ],
   "source": [
    "animals.sort(key=len)  # řadíme podle délky\n",
    "animals"
   ]
  },
  {
   "cell_type": "markdown",
   "metadata": {},
   "source": [
    "<style> li { margin-bottom: 1em; } code { font-family: Consolas, monospace; } h2 { margin-top: 1em; } table { width: 100%; } td, th { border: none!important; } </style>\n",
    "\n",
    "### Příklady použití seznamu\n",
    "\n",
    "- V řetězci najděte všechny číslice a spočítejte jejich součin."
   ]
  },
  {
   "cell_type": "code",
   "execution_count": 58,
   "metadata": {},
   "outputs": [
    {
     "name": "stdout",
     "output_type": "stream",
     "text": [
      "[5, 2, 1, 4, 8, 2, 1]\n",
      "640\n"
     ]
    }
   ],
   "source": [
    "string = 'j52s1f4hdas8jlkd21f'\n",
    "\n",
    "numbers = []\n",
    "for char in string:\n",
    "    if char.isdigit():\n",
    "        numbers.append(int(char))\n",
    "print(numbers)\n",
    "\n",
    "product = 1\n",
    "for number in numbers:\n",
    "    product *= number\n",
    "print(product)"
   ]
  },
  {
   "cell_type": "markdown",
   "metadata": {},
   "source": [
    "<style> li { margin-bottom: 1em; } code { font-family: Consolas, monospace; } h2 { margin-top: 1em; } table { width: 100%; } td, th { border: none!important; } </style>\n",
    "\n",
    "- V větě nahraďte čtvrté slovo slovem SPAM."
   ]
  },
  {
   "cell_type": "code",
   "execution_count": 59,
   "metadata": {},
   "outputs": [
    {
     "name": "stdout",
     "output_type": "stream",
     "text": [
      "We interrupt this SPAM to annoy you and make things generally more irritating. "
     ]
    }
   ],
   "source": [
    "sentence = 'We interrupt this program to annoy you and make things generally more irritating.'\n",
    "words = sentence.split()\n",
    "words[3] = 'SPAM'\n",
    "for word in words:\n",
    "    print(word, end=' ')"
   ]
  },
  {
   "cell_type": "markdown",
   "metadata": {},
   "source": [
    "<style> li { margin-bottom: 1em; } code { font-family: Consolas, monospace; } h2 { margin-top: 1em; } table { width: 100%; } td, th { border: none!important; } </style>\n",
    "\n",
    "<hr>"
   ]
  },
  {
   "cell_type": "markdown",
   "metadata": {},
   "source": [
    "<style> li { margin-bottom: 1em; } code { font-family: Consolas, monospace; } h2 { margin-top: 1em; } table { width: 100%; } td, th { border: none!important; } </style>\n",
    "\n",
    "## n-tice (`tuple`)"
   ]
  },
  {
   "cell_type": "markdown",
   "metadata": {},
   "source": [
    "<style> li { margin-bottom: 1em; } code { font-family: Consolas, monospace; } h2 { margin-top: 1em; } table { width: 100%; } td, th { border: none!important; } </style>\n",
    "\n",
    "- **Neupravovatelný** soubor *n* hodnot s daným pořadím\n",
    "\n",
    "- Vytváříme je:\n",
    "\n",
    "  - pomocí `()` z jednotlivých prvků\n",
    "\n",
    "  - pomocí funkce `tuple` z jiného iterovatelného objektu\n",
    "\n",
    "- n-tici nelze modifikovat\n",
    "\n",
    "- Používáme, když jednotlivé prvky mají svůj specifický význam a není nutné přidávat/odebírat prvky, např. `address = (street, number, city)`"
   ]
  },
  {
   "cell_type": "code",
   "execution_count": 60,
   "metadata": {},
   "outputs": [
    {
     "data": {
      "text/plain": [
       "('Vlhká', 5, 'Brno')"
      ]
     },
     "execution_count": 60,
     "metadata": {},
     "output_type": "execute_result"
    }
   ],
   "source": [
    "address = ('Vlhká', 5, 'Brno')\n",
    "address"
   ]
  },
  {
   "cell_type": "code",
   "execution_count": 61,
   "metadata": {},
   "outputs": [
    {
     "data": {
      "text/plain": [
       "(1.0, 2.5)"
      ]
     },
     "execution_count": 61,
     "metadata": {},
     "output_type": "execute_result"
    }
   ],
   "source": [
    "coordinates = (1.0, 2.5)\n",
    "coordinates"
   ]
  },
  {
   "cell_type": "code",
   "execution_count": 62,
   "metadata": {},
   "outputs": [
    {
     "data": {
      "text/plain": [
       "['dog', 'python', 'elephant', 'butterfly']"
      ]
     },
     "execution_count": 62,
     "metadata": {},
     "output_type": "execute_result"
    }
   ],
   "source": [
    "animals"
   ]
  },
  {
   "cell_type": "code",
   "execution_count": 63,
   "metadata": {},
   "outputs": [
    {
     "data": {
      "text/plain": [
       "('dog', 'python', 'elephant', 'butterfly')"
      ]
     },
     "execution_count": 63,
     "metadata": {},
     "output_type": "execute_result"
    }
   ],
   "source": [
    "animals_tuple = tuple(animals)\n",
    "animals_tuple"
   ]
  },
  {
   "cell_type": "markdown",
   "metadata": {},
   "source": [
    "<style> li { margin-bottom: 1em; } code { font-family: Consolas, monospace; } h2 { margin-top: 1em; } table { width: 100%; } td, th { border: none!important; } </style>\n",
    "\n",
    "### Indexování n-tic\n",
    "\n",
    "- Jako u řetězců a seznamů"
   ]
  },
  {
   "cell_type": "code",
   "execution_count": 64,
   "metadata": {},
   "outputs": [
    {
     "data": {
      "text/plain": [
       "'Vlhká'"
      ]
     },
     "execution_count": 64,
     "metadata": {},
     "output_type": "execute_result"
    }
   ],
   "source": [
    "address[0]"
   ]
  },
  {
   "cell_type": "code",
   "execution_count": 65,
   "metadata": {},
   "outputs": [
    {
     "data": {
      "text/plain": [
       "5"
      ]
     },
     "execution_count": 65,
     "metadata": {},
     "output_type": "execute_result"
    }
   ],
   "source": [
    "address[1]"
   ]
  },
  {
   "cell_type": "code",
   "execution_count": 34,
   "metadata": {},
   "outputs": [
    {
     "ename": "NameError",
     "evalue": "name 'address' is not defined",
     "output_type": "error",
     "traceback": [
      "\u001b[1;31m---------------------------------------------------------------------------\u001b[0m",
      "\u001b[1;31mNameError\u001b[0m                                 Traceback (most recent call last)",
      "Cell \u001b[1;32mIn[34], line 1\u001b[0m\n\u001b[1;32m----> 1\u001b[0m \u001b[43maddress\u001b[49m[\u001b[38;5;241m2\u001b[39m]\n",
      "\u001b[1;31mNameError\u001b[0m: name 'address' is not defined"
     ]
    }
   ],
   "source": [
    "address[2]"
   ]
  },
  {
   "cell_type": "code",
   "execution_count": 68,
   "metadata": {},
   "outputs": [
    {
     "data": {
      "text/plain": [
       "('Brno', 5, 'Vlhká')"
      ]
     },
     "execution_count": 68,
     "metadata": {},
     "output_type": "execute_result"
    }
   ],
   "source": [
    "address[:2]"
   ]
  },
  {
   "cell_type": "markdown",
   "metadata": {},
   "source": [
    "<style> li { margin-bottom: 1em; } code { font-family: Consolas, monospace; } h2 { margin-top: 1em; } table { width: 100%; } td, th { border: none!important; } </style>\n",
    "\n",
    "### \"Nultice\" (*empty tuple*)"
   ]
  },
  {
   "cell_type": "code",
   "execution_count": 69,
   "metadata": {},
   "outputs": [
    {
     "data": {
      "text/plain": [
       "()"
      ]
     },
     "execution_count": 69,
     "metadata": {},
     "output_type": "execute_result"
    }
   ],
   "source": [
    "empty = ()\n",
    "empty"
   ]
  },
  {
   "cell_type": "markdown",
   "metadata": {
    "slideshow": {
     "slide_type": "fragment"
    }
   },
   "source": [
    "<style> li { margin-bottom: 1em; } code { font-family: Consolas, monospace; } h2 { margin-top: 1em; } table { width: 100%; } td, th { border: none!important; } </style>\n",
    "\n",
    "### \"Jednice\" (*singleton*)"
   ]
  },
  {
   "cell_type": "code",
   "execution_count": 70,
   "metadata": {},
   "outputs": [
    {
     "data": {
      "text/plain": [
       "(5,)"
      ]
     },
     "execution_count": 70,
     "metadata": {},
     "output_type": "execute_result"
    }
   ],
   "source": [
    "singleton = (5,)  # Zápis n-tice s jedním prvkem\n",
    "singleton"
   ]
  },
  {
   "cell_type": "code",
   "execution_count": 71,
   "metadata": {},
   "outputs": [
    {
     "data": {
      "text/plain": [
       "5"
      ]
     },
     "execution_count": 71,
     "metadata": {},
     "output_type": "execute_result"
    }
   ],
   "source": [
    "number = (5)  # Pouze zápis čísla v závorce\n",
    "number"
   ]
  },
  {
   "cell_type": "markdown",
   "metadata": {
    "slideshow": {
     "slide_type": "fragment"
    }
   },
   "source": [
    "<style> li { margin-bottom: 1em; } code { font-family: Consolas, monospace; } h2 { margin-top: 1em; } table { width: 100%; } td, th { border: none!important; } </style>\n",
    "\n",
    "- Pozor na rozdíl mezi \"jednicí\" a samotným prvkem"
   ]
  },
  {
   "cell_type": "code",
   "execution_count": 72,
   "metadata": {},
   "outputs": [
    {
     "data": {
      "text/plain": [
       "False"
      ]
     },
     "execution_count": 72,
     "metadata": {},
     "output_type": "execute_result"
    }
   ],
   "source": [
    "(5,) == 5"
   ]
  },
  {
   "cell_type": "markdown",
   "metadata": {},
   "source": [
    "<style> li { margin-bottom: 1em; } code { font-family: Consolas, monospace; } h2 { margin-top: 1em; } table { width: 100%; } td, th { border: none!important; } </style>\n",
    "\n",
    "### Operace s n-ticemi\n",
    "\n",
    "- Jako u seznamů"
   ]
  },
  {
   "cell_type": "code",
   "execution_count": 73,
   "metadata": {},
   "outputs": [
    {
     "data": {
      "text/plain": [
       "('Vlhká', 5, 'Brno')"
      ]
     },
     "execution_count": 73,
     "metadata": {},
     "output_type": "execute_result"
    }
   ],
   "source": [
    "address"
   ]
  },
  {
   "cell_type": "code",
   "execution_count": 74,
   "metadata": {},
   "outputs": [
    {
     "data": {
      "text/plain": [
       "3"
      ]
     },
     "execution_count": 74,
     "metadata": {},
     "output_type": "execute_result"
    }
   ],
   "source": [
    "len(address)"
   ]
  },
  {
   "cell_type": "code",
   "execution_count": 75,
   "metadata": {},
   "outputs": [
    {
     "data": {
      "text/plain": [
       "0"
      ]
     },
     "execution_count": 75,
     "metadata": {},
     "output_type": "execute_result"
    }
   ],
   "source": [
    "address.count(8)"
   ]
  },
  {
   "cell_type": "code",
   "execution_count": 76,
   "metadata": {},
   "outputs": [
    {
     "data": {
      "text/plain": [
       "('Vlhká', 5, 'Brno', 'Brno', 5, 'Vlhká')"
      ]
     },
     "execution_count": 76,
     "metadata": {},
     "output_type": "execute_result"
    }
   ],
   "source": [
    "address + address[::-1]"
   ]
  },
  {
   "cell_type": "markdown",
   "metadata": {},
   "source": [
    "<style> li { margin-bottom: 1em; } code { font-family: Consolas, monospace; } h2 { margin-top: 1em; } table { width: 100%; } td, th { border: none!important; } </style>\n",
    "\n",
    "<hr>"
   ]
  },
  {
   "cell_type": "markdown",
   "metadata": {},
   "source": [
    "<style> li { margin-bottom: 1em; } code { font-family: Consolas, monospace; } h2 { margin-top: 1em; } table { width: 100%; } td, th { border: none!important; } </style>\n",
    "\n",
    "## Množina (`set`)"
   ]
  },
  {
   "cell_type": "markdown",
   "metadata": {},
   "source": [
    "<style> li { margin-bottom: 1em; } code { font-family: Consolas, monospace; } h2 { margin-top: 1em; } table { width: 100%; } td, th { border: none!important; } </style>\n",
    "\n",
    "- Upravovatelný soubor **unikátních** hodnot **bez daného pořadí**\n",
    "\n",
    "- Vytváříme je:\n",
    "\n",
    "  - pomocí `{}` z jednotlivých prvků\n",
    "  \n",
    "  - pomocí funkce `set` z jiného iterovatelného objektu\n",
    "\n",
    "- Množinu lze modifikovat\n",
    "\n",
    "- Každý prvek obsažen nejvíc jednou\n",
    "\n",
    "- Nemá dané pořadí, tudíž nelze ji indexovat"
   ]
  },
  {
   "cell_type": "code",
   "execution_count": null,
   "metadata": {
    "slideshow": {
     "slide_type": "fragment"
    }
   },
   "outputs": [],
   "source": [
    "colors = {'red', 'yellow', 'brown'}\n",
    "colors"
   ]
  },
  {
   "cell_type": "code",
   "execution_count": null,
   "metadata": {},
   "outputs": [],
   "source": [
    "letters = set('hello')\n",
    "letters"
   ]
  },
  {
   "cell_type": "markdown",
   "metadata": {},
   "source": [
    "<style> li { margin-bottom: 1em; } code { font-family: Consolas, monospace; } h2 { margin-top: 1em; } table { width: 100%; } td, th { border: none!important; } </style>\n",
    "\n",
    "- Každý prvek je obsažen nejvíc jednou"
   ]
  },
  {
   "cell_type": "code",
   "execution_count": 7,
   "metadata": {},
   "outputs": [
    {
     "data": {
      "text/plain": [
       "{1, 2, 3}"
      ]
     },
     "execution_count": 7,
     "metadata": {},
     "output_type": "execute_result"
    }
   ],
   "source": [
    "{1, 1, 2, 2, 2, 3}"
   ]
  },
  {
   "cell_type": "markdown",
   "metadata": {
    "slideshow": {
     "slide_type": "fragment"
    }
   },
   "source": [
    "<style> li { margin-bottom: 1em; } code { font-family: Consolas, monospace; } h2 { margin-top: 1em; } table { width: 100%; } td, th { border: none!important; } </style>\n",
    "\n",
    "- Pořadí není dané"
   ]
  },
  {
   "cell_type": "code",
   "execution_count": null,
   "metadata": {},
   "outputs": [],
   "source": [
    "{1, 2, 3} == {3, 2, 1}"
   ]
  },
  {
   "cell_type": "markdown",
   "metadata": {
    "slideshow": {
     "slide_type": "fragment"
    }
   },
   "source": [
    "<style> li { margin-bottom: 1em; } code { font-family: Consolas, monospace; } h2 { margin-top: 1em; } table { width: 100%; } td, th { border: none!important; } </style>\n",
    "\n",
    "- Nelze indexovat"
   ]
  },
  {
   "cell_type": "code",
   "execution_count": 33,
   "metadata": {},
   "outputs": [
    {
     "ename": "TypeError",
     "evalue": "'set' object is not subscriptable",
     "output_type": "error",
     "traceback": [
      "\u001b[1;31m---------------------------------------------------------------------------\u001b[0m",
      "\u001b[1;31mTypeError\u001b[0m                                 Traceback (most recent call last)",
      "Cell \u001b[1;32mIn[33], line 2\u001b[0m\n\u001b[0;32m      1\u001b[0m numbers \u001b[38;5;241m=\u001b[39m {\u001b[38;5;241m1\u001b[39m, \u001b[38;5;241m2\u001b[39m, \u001b[38;5;241m3\u001b[39m}\n\u001b[1;32m----> 2\u001b[0m \u001b[43mnumbers\u001b[49m\u001b[43m[\u001b[49m\u001b[38;5;241;43m0\u001b[39;49m\u001b[43m]\u001b[49m\n",
      "\u001b[1;31mTypeError\u001b[0m: 'set' object is not subscriptable"
     ]
    }
   ],
   "source": [
    "numbers = {1, 2, 3}\n",
    "numbers[0]"
   ]
  },
  {
   "cell_type": "markdown",
   "metadata": {},
   "source": [
    "<style> li { margin-bottom: 1em; } code { font-family: Consolas, monospace; } h2 { margin-top: 1em; } table { width: 100%; } td, th { border: none!important; } </style>\n",
    "\n",
    "- Prázdná množina se zapisuje `set()`, protože `{}` je rezervováno pro prázdný slovník"
   ]
  },
  {
   "cell_type": "code",
   "execution_count": 8,
   "metadata": {},
   "outputs": [
    {
     "data": {
      "text/plain": [
       "set"
      ]
     },
     "execution_count": 8,
     "metadata": {},
     "output_type": "execute_result"
    }
   ],
   "source": [
    "type(set())"
   ]
  },
  {
   "cell_type": "code",
   "execution_count": 9,
   "metadata": {},
   "outputs": [
    {
     "data": {
      "text/plain": [
       "dict"
      ]
     },
     "execution_count": 9,
     "metadata": {},
     "output_type": "execute_result"
    }
   ],
   "source": [
    "type({})"
   ]
  },
  {
   "cell_type": "markdown",
   "metadata": {},
   "source": [
    "<style> li { margin-bottom: 1em; } code { font-family: Consolas, monospace; } h2 { margin-top: 1em; } table { width: 100%; } td, th { border: none!important; } </style>\n",
    "\n",
    "### Množinové operace\n",
    "\n",
    "- `len()` – počet prvků\n",
    "\n",
    "- `in` / `not in` – přítomnost prvku (efektivnější než u seznamu, nemusí se kontrolovat všechny prvky)"
   ]
  },
  {
   "cell_type": "code",
   "execution_count": null,
   "metadata": {},
   "outputs": [],
   "source": [
    "A = {1, 2, 3}"
   ]
  },
  {
   "cell_type": "code",
   "execution_count": null,
   "metadata": {},
   "outputs": [],
   "source": [
    "len(A)"
   ]
  },
  {
   "cell_type": "code",
   "execution_count": null,
   "metadata": {},
   "outputs": [],
   "source": [
    "2 in A"
   ]
  },
  {
   "cell_type": "code",
   "execution_count": null,
   "metadata": {},
   "outputs": [],
   "source": [
    "5 in A"
   ]
  },
  {
   "cell_type": "markdown",
   "metadata": {},
   "source": [
    "<style> li { margin-bottom: 1em; } code { font-family: Consolas, monospace; } h2 { margin-top: 1em; } table { width: 100%; } td, th { border: none!important; } </style>\n",
    "\n",
    "- `&`, `set.intersection()` – průnik $A \\cap B$\n",
    "\n",
    "- `|`, `set.union()` – sjednocení $A \\cup B$\n",
    "\n",
    "- `-`, `set.difference()` – množinový rozdíl $A \\setminus B$\n",
    "\n",
    "- `^`, `set.symmetric_difference()` – symetrický rozdíl $A \\triangle B$ = ($A \\setminus B) \\cup (B \\setminus A$)\n",
    "\n",
    "- `<=` – inkluze $A \\subseteq B$\n",
    "\n",
    "- `<` – ostrá inkluze $A \\subset B$"
   ]
  },
  {
   "cell_type": "code",
   "execution_count": 26,
   "metadata": {},
   "outputs": [],
   "source": [
    "A = {1, 2, 3}\n",
    "B = {2, 4, 6}"
   ]
  },
  {
   "cell_type": "code",
   "execution_count": 27,
   "metadata": {},
   "outputs": [
    {
     "data": {
      "text/plain": [
       "{2}"
      ]
     },
     "execution_count": 27,
     "metadata": {},
     "output_type": "execute_result"
    }
   ],
   "source": [
    "A & B  # Průnik A ∩ B"
   ]
  },
  {
   "cell_type": "code",
   "execution_count": 28,
   "metadata": {},
   "outputs": [
    {
     "data": {
      "text/plain": [
       "{1, 2, 3, 4, 6}"
      ]
     },
     "execution_count": 28,
     "metadata": {},
     "output_type": "execute_result"
    }
   ],
   "source": [
    "A | B  # Sjednocení A ∪ B"
   ]
  },
  {
   "cell_type": "code",
   "execution_count": 29,
   "metadata": {},
   "outputs": [
    {
     "data": {
      "text/plain": [
       "{1, 3}"
      ]
     },
     "execution_count": 29,
     "metadata": {},
     "output_type": "execute_result"
    }
   ],
   "source": [
    "A - B  # Rozdíl množin A - B (prvky A kromě prvků B)"
   ]
  },
  {
   "cell_type": "code",
   "execution_count": 30,
   "metadata": {},
   "outputs": [
    {
     "data": {
      "text/plain": [
       "{1, 3, 4, 6}"
      ]
     },
     "execution_count": 30,
     "metadata": {},
     "output_type": "execute_result"
    }
   ],
   "source": [
    "A ^ B  # Symetrický rozdíl A ∆ B (prvky A kromě prvků B plus prvky B kromě prvků A)"
   ]
  },
  {
   "cell_type": "code",
   "execution_count": 31,
   "metadata": {},
   "outputs": [
    {
     "data": {
      "text/plain": [
       "False"
      ]
     },
     "execution_count": 31,
     "metadata": {},
     "output_type": "execute_result"
    }
   ],
   "source": [
    "A <= B  # A je podmnožinou B (A ⊆ B, tj. B obsahuje všechno z A)"
   ]
  },
  {
   "cell_type": "code",
   "execution_count": 32,
   "metadata": {},
   "outputs": [
    {
     "data": {
      "text/plain": [
       "False"
      ]
     },
     "execution_count": 32,
     "metadata": {},
     "output_type": "execute_result"
    }
   ],
   "source": [
    "A < B  # A je vlastní podmnožinou B (A ⊂ B, tj. B obsahuje všechno z A a ještě něco navíc)"
   ]
  },
  {
   "cell_type": "markdown",
   "metadata": {},
   "source": [
    "<style> li { margin-bottom: 1em; } code { font-family: Consolas, monospace; } h2 { margin-top: 1em; } table { width: 100%; } td, th { border: none!important; } </style>\n",
    "\n",
    "### Přidávání prvků\n",
    "\n",
    "- Metoda `.add(x)` přidá prvek `x`"
   ]
  },
  {
   "cell_type": "code",
   "execution_count": 10,
   "metadata": {},
   "outputs": [
    {
     "data": {
      "text/plain": [
       "{5, 6}"
      ]
     },
     "execution_count": 10,
     "metadata": {},
     "output_type": "execute_result"
    }
   ],
   "source": [
    "A = set()\n",
    "A.add(5)\n",
    "A.add(6)\n",
    "A"
   ]
  },
  {
   "cell_type": "code",
   "execution_count": 11,
   "metadata": {},
   "outputs": [
    {
     "data": {
      "text/plain": [
       "{5, 6}"
      ]
     },
     "execution_count": 11,
     "metadata": {},
     "output_type": "execute_result"
    }
   ],
   "source": [
    "A.add(5)\n",
    "A"
   ]
  },
  {
   "cell_type": "markdown",
   "metadata": {},
   "source": [
    "<style> li { margin-bottom: 1em; } code { font-family: Consolas, monospace; } h2 { margin-top: 1em; } table { width: 100%; } td, th { border: none!important; } </style>\n",
    "\n",
    "### Odebírání prvků\n",
    "\n",
    "- Metoda `.discard(x)` odebere prvek `x` (neudělá nic, pokud tam `x` není)\n",
    "\n",
    "- Metoda `.remove(x)` odebere prvek `x` (skončí chybou, pokud tam `x` není)"
   ]
  },
  {
   "cell_type": "code",
   "execution_count": 16,
   "metadata": {},
   "outputs": [
    {
     "data": {
      "text/plain": [
       "{0, 1, 2, 3, 4}"
      ]
     },
     "execution_count": 16,
     "metadata": {},
     "output_type": "execute_result"
    }
   ],
   "source": [
    "A = set(range(5))\n",
    "A"
   ]
  },
  {
   "cell_type": "code",
   "execution_count": 17,
   "metadata": {},
   "outputs": [],
   "source": [
    "A.discard(2)"
   ]
  },
  {
   "cell_type": "code",
   "execution_count": 18,
   "metadata": {},
   "outputs": [
    {
     "data": {
      "text/plain": [
       "{0, 1, 3, 4}"
      ]
     },
     "execution_count": 18,
     "metadata": {},
     "output_type": "execute_result"
    }
   ],
   "source": [
    "A"
   ]
  },
  {
   "cell_type": "markdown",
   "metadata": {},
   "source": [
    "<style> li { margin-bottom: 1em; } code { font-family: Consolas, monospace; } h2 { margin-top: 1em; } table { width: 100%; } td, th { border: none!important; } </style>\n",
    "\n",
    "- Metoda `.pop()` odebere jeden libovolný prvek a vrátí ho jako výsledek"
   ]
  },
  {
   "cell_type": "code",
   "execution_count": 19,
   "metadata": {},
   "outputs": [
    {
     "name": "stdout",
     "output_type": "stream",
     "text": [
      "0\n",
      "{1, 3, 4}\n"
     ]
    }
   ],
   "source": [
    "x = A.pop()\n",
    "print(x)\n",
    "print(A)"
   ]
  },
  {
   "cell_type": "markdown",
   "metadata": {
    "slideshow": {
     "slide_type": "fragment"
    }
   },
   "source": [
    "<style> li { margin-bottom: 1em; } code { font-family: Consolas, monospace; } h2 { margin-top: 1em; } table { width: 100%; } td, th { border: none!important; } </style>\n",
    "\n",
    "- Metoda `.clear()` odebere všechny prvky"
   ]
  },
  {
   "cell_type": "code",
   "execution_count": 20,
   "metadata": {},
   "outputs": [],
   "source": [
    "A.clear()"
   ]
  },
  {
   "cell_type": "code",
   "execution_count": 21,
   "metadata": {},
   "outputs": [
    {
     "data": {
      "text/plain": [
       "set()"
      ]
     },
     "execution_count": 21,
     "metadata": {},
     "output_type": "execute_result"
    }
   ],
   "source": [
    "A"
   ]
  },
  {
   "cell_type": "markdown",
   "metadata": {},
   "source": [
    "<style> li { margin-bottom: 1em; } code { font-family: Consolas, monospace; } h2 { margin-top: 1em; } table { width: 100%; } td, th { border: none!important; } </style>\n",
    "\n",
    "<hr>"
   ]
  },
  {
   "cell_type": "markdown",
   "metadata": {},
   "source": [
    "<style> li { margin-bottom: 1em; } code { font-family: Consolas, monospace; } h2 { margin-top: 1em; } table { width: 100%; } td, th { border: none!important; } </style>\n",
    "\n",
    "## Slovník (`dict`, *dictionary*)"
   ]
  },
  {
   "cell_type": "markdown",
   "metadata": {},
   "source": [
    "<style> li { margin-bottom: 1em; } code { font-family: Consolas, monospace; } h2 { margin-top: 1em; } table { width: 100%; } td, th { border: none!important; } </style>\n",
    "\n",
    "- Upravovatelný soubor dvojic **klíč:hodnota**\n",
    "\n",
    "- Vytváříme je:\n",
    "\n",
    "  - pomocí `{}` z jednotlivých dvojic klíč:hodnota\n",
    "  \n",
    "  - pomocí funkce `dict` z jiného iterovatelného objektu\n",
    "\n",
    "- Slovník lze modifikovat\n",
    "\n",
    "- Každý klíč obsažen nejvíc jednou\n",
    "\n",
    "- Na pořadí nezáleží\n",
    "\n",
    "- Indexujeme podle klíčů (ne podle pořadí)"
   ]
  },
  {
   "cell_type": "code",
   "execution_count": null,
   "metadata": {},
   "outputs": [],
   "source": [
    "en2cz = {'apple': 'jablko', 'carrot': 'mrkev'}\n",
    "en2cz"
   ]
  },
  {
   "cell_type": "code",
   "execution_count": null,
   "metadata": {},
   "outputs": [],
   "source": [
    "my_vocabulary = {}  # Prázdný slovník\n",
    "my_vocabulary"
   ]
  },
  {
   "cell_type": "code",
   "execution_count": 11,
   "metadata": {
    "slideshow": {
     "slide_type": "fragment"
    }
   },
   "outputs": [
    {
     "data": {
      "text/plain": [
       "{'jack': 4098, 'sape': 4139, 'guido': 4127}"
      ]
     },
     "execution_count": 11,
     "metadata": {},
     "output_type": "execute_result"
    }
   ],
   "source": [
    "tuples = [('jack', 4098), ('sape', 4139), ('guido', 4127)]\n",
    "phonebook = dict(tuples)\n",
    "phonebook"
   ]
  },
  {
   "cell_type": "markdown",
   "metadata": {},
   "source": [
    "<style> li { margin-bottom: 1em; } code { font-family: Consolas, monospace; } h2 { margin-top: 1em; } table { width: 100%; } td, th { border: none!important; } </style>\n",
    "\n",
    "### Indexování slovníku\n",
    "\n",
    "- Pomocí klíče"
   ]
  },
  {
   "cell_type": "code",
   "execution_count": 12,
   "metadata": {},
   "outputs": [
    {
     "data": {
      "text/plain": [
       "{'jack': 4098, 'sape': 4139, 'guido': 4127}"
      ]
     },
     "execution_count": 12,
     "metadata": {},
     "output_type": "execute_result"
    }
   ],
   "source": [
    "phonebook"
   ]
  },
  {
   "cell_type": "code",
   "execution_count": 13,
   "metadata": {},
   "outputs": [
    {
     "data": {
      "text/plain": [
       "4098"
      ]
     },
     "execution_count": 13,
     "metadata": {},
     "output_type": "execute_result"
    }
   ],
   "source": [
    "phonebook['jack']"
   ]
  },
  {
   "cell_type": "code",
   "execution_count": 14,
   "metadata": {},
   "outputs": [
    {
     "ename": "KeyError",
     "evalue": "'bob'",
     "output_type": "error",
     "traceback": [
      "\u001b[1;31m---------------------------------------------------------------------------\u001b[0m",
      "\u001b[1;31mKeyError\u001b[0m                                  Traceback (most recent call last)",
      "Cell \u001b[1;32mIn[14], line 1\u001b[0m\n\u001b[1;32m----> 1\u001b[0m \u001b[43mphonebook\u001b[49m\u001b[43m[\u001b[49m\u001b[38;5;124;43m'\u001b[39;49m\u001b[38;5;124;43mbob\u001b[39;49m\u001b[38;5;124;43m'\u001b[39;49m\u001b[43m]\u001b[49m\n",
      "\u001b[1;31mKeyError\u001b[0m: 'bob'"
     ]
    }
   ],
   "source": [
    "phonebook['bob']"
   ]
  },
  {
   "cell_type": "markdown",
   "metadata": {},
   "source": [
    "<style> li { margin-bottom: 1em; } code { font-family: Consolas, monospace; } h2 { margin-top: 1em; } table { width: 100%; } td, th { border: none!important; } </style>\n",
    "\n",
    "- Metoda `.get()` je jako `[]`, ale řeší i chybějící klíče "
   ]
  },
  {
   "cell_type": "code",
   "execution_count": 15,
   "metadata": {},
   "outputs": [
    {
     "name": "stdout",
     "output_type": "stream",
     "text": [
      "4098\n"
     ]
    }
   ],
   "source": [
    "print(phonebook.get('jack'))"
   ]
  },
  {
   "cell_type": "code",
   "execution_count": 16,
   "metadata": {},
   "outputs": [
    {
     "name": "stdout",
     "output_type": "stream",
     "text": [
      "None\n"
     ]
    }
   ],
   "source": [
    "print(phonebook.get('bob'))"
   ]
  },
  {
   "cell_type": "code",
   "execution_count": 17,
   "metadata": {},
   "outputs": [
    {
     "name": "stdout",
     "output_type": "stream",
     "text": [
      "???\n"
     ]
    }
   ],
   "source": [
    "print(phonebook.get('bob', '???'))  # nastavujeme defaultní hodnotu '???'"
   ]
  },
  {
   "cell_type": "markdown",
   "metadata": {},
   "source": [
    "<style> li { margin-bottom: 1em; } code { font-family: Consolas, monospace; } h2 { margin-top: 1em; } table { width: 100%; } td, th { border: none!important; } </style>\n",
    "\n",
    "### Testování přítomnosti klíče\n",
    "\n",
    "- U slovníku se pomocí `in` dotazujeme na klíče (ne na hodnoty)"
   ]
  },
  {
   "cell_type": "code",
   "execution_count": 18,
   "metadata": {},
   "outputs": [
    {
     "data": {
      "text/plain": [
       "True"
      ]
     },
     "execution_count": 18,
     "metadata": {},
     "output_type": "execute_result"
    }
   ],
   "source": [
    "'jack' in phonebook"
   ]
  },
  {
   "cell_type": "code",
   "execution_count": 19,
   "metadata": {},
   "outputs": [
    {
     "data": {
      "text/plain": [
       "False"
      ]
     },
     "execution_count": 19,
     "metadata": {},
     "output_type": "execute_result"
    }
   ],
   "source": [
    "4127 in phonebook"
   ]
  },
  {
   "cell_type": "code",
   "execution_count": 20,
   "metadata": {},
   "outputs": [
    {
     "data": {
      "text/plain": [
       "True"
      ]
     },
     "execution_count": 20,
     "metadata": {},
     "output_type": "execute_result"
    }
   ],
   "source": [
    "4127 in phonebook.values()"
   ]
  },
  {
   "cell_type": "markdown",
   "metadata": {},
   "source": [
    "<style> li { margin-bottom: 1em; } code { font-family: Consolas, monospace; } h2 { margin-top: 1em; } table { width: 100%; } td, th { border: none!important; } </style>\n",
    "\n",
    "### Přidání nebo úprava stávajících hodnot\n",
    "\n",
    "- Pokud klíč není ve slovníku, přidá se a přiřadí se mu hodnota\n",
    "\n",
    "- Pokud klíč je ve slovníku, stará hodnota se zahodí a přiřadí se nová"
   ]
  },
  {
   "cell_type": "code",
   "execution_count": 21,
   "metadata": {},
   "outputs": [
    {
     "data": {
      "text/plain": [
       "{'jack': 4098, 'sape': 4139, 'guido': 4127}"
      ]
     },
     "execution_count": 21,
     "metadata": {},
     "output_type": "execute_result"
    }
   ],
   "source": [
    "phonebook"
   ]
  },
  {
   "cell_type": "code",
   "execution_count": 22,
   "metadata": {},
   "outputs": [
    {
     "data": {
      "text/plain": [
       "{'jack': 4098, 'sape': 4139, 'guido': 4127, 'bob': 1234}"
      ]
     },
     "execution_count": 22,
     "metadata": {},
     "output_type": "execute_result"
    }
   ],
   "source": [
    "phonebook['bob'] = 1234\n",
    "phonebook"
   ]
  },
  {
   "cell_type": "code",
   "execution_count": 23,
   "metadata": {},
   "outputs": [
    {
     "data": {
      "text/plain": [
       "{'jack': 4098, 'sape': 4139, 'guido': 666, 'bob': 1234}"
      ]
     },
     "execution_count": 23,
     "metadata": {},
     "output_type": "execute_result"
    }
   ],
   "source": [
    "phonebook['guido'] = 666\n",
    "phonebook"
   ]
  },
  {
   "cell_type": "markdown",
   "metadata": {},
   "source": [
    "<style> li { margin-bottom: 1em; } code { font-family: Consolas, monospace; } h2 { margin-top: 1em; } table { width: 100%; } td, th { border: none!important; } </style>\n",
    "\n",
    "- Metoda `.update()` přijímá jako parametr další slovník, kterým upraví stávající "
   ]
  },
  {
   "cell_type": "code",
   "execution_count": 24,
   "metadata": {},
   "outputs": [
    {
     "data": {
      "text/plain": [
       "{'jack': 4098, 'sape': 4139, 'guido': 1111, 'bob': 1234, 'alice': 9876}"
      ]
     },
     "execution_count": 24,
     "metadata": {},
     "output_type": "execute_result"
    }
   ],
   "source": [
    "phonebook.update({'guido': 1111, 'alice': 9876})\n",
    "phonebook"
   ]
  },
  {
   "cell_type": "markdown",
   "metadata": {},
   "source": [
    "<style> li { margin-bottom: 1em; } code { font-family: Consolas, monospace; } h2 { margin-top: 1em; } table { width: 100%; } td, th { border: none!important; } </style>\n",
    "\n",
    "### Odebírání hodnot\n",
    "\n",
    "- Pomocí metody `.pop()` jako u seznamů"
   ]
  },
  {
   "cell_type": "code",
   "execution_count": null,
   "metadata": {},
   "outputs": [],
   "source": [
    "jacks_phone = phonebook.pop('jack')\n",
    "print(jacks_phone)\n",
    "print(phonebook)"
   ]
  },
  {
   "cell_type": "markdown",
   "metadata": {
    "slideshow": {
     "slide_type": "fragment"
    }
   },
   "source": [
    "<style> li { margin-bottom: 1em; } code { font-family: Consolas, monospace; } h2 { margin-top: 1em; } table { width: 100%; } td, th { border: none!important; } </style>\n",
    "\n",
    "- Metoda `.clear()` vyprázdní celý slovník"
   ]
  },
  {
   "cell_type": "code",
   "execution_count": null,
   "metadata": {},
   "outputs": [],
   "source": [
    "phonebook.clear()\n",
    "phonebook"
   ]
  },
  {
   "cell_type": "markdown",
   "metadata": {},
   "source": [
    "<style> li { margin-bottom: 1em; } code { font-family: Consolas, monospace; } h2 { margin-top: 1em; } table { width: 100%; } td, th { border: none!important; } </style>\n",
    "\n",
    "### Pořadí v slovníku\n",
    "\n",
    "- Nezáleží na pořadí"
   ]
  },
  {
   "cell_type": "code",
   "execution_count": 12,
   "metadata": {},
   "outputs": [
    {
     "data": {
      "text/plain": [
       "True"
      ]
     },
     "execution_count": 12,
     "metadata": {},
     "output_type": "execute_result"
    }
   ],
   "source": [
    "{1: 10, 2: 20} == {2: 20, 1: 10}"
   ]
  },
  {
   "cell_type": "markdown",
   "metadata": {},
   "source": [
    "<style> li { margin-bottom: 1em; } code { font-family: Consolas, monospace; } h2 { margin-top: 1em; } table { width: 100%; } td, th { border: none!important; } </style>\n",
    "\n",
    "- Slovník si pamatuje, v jakém pořadí byly klíče přidány (platí pouze od Pythonu 3.6)"
   ]
  },
  {
   "cell_type": "code",
   "execution_count": 13,
   "metadata": {},
   "outputs": [
    {
     "name": "stdout",
     "output_type": "stream",
     "text": [
      "{1: 10, 2: 20}\n",
      "{2: 20, 1: 10}\n"
     ]
    }
   ],
   "source": [
    "print({1: 10, 2: 20})\n",
    "print({2: 20, 1: 10})"
   ]
  },
  {
   "cell_type": "markdown",
   "metadata": {},
   "source": [
    "<style> li { margin-bottom: 1em; } code { font-family: Consolas, monospace; } h2 { margin-top: 1em; } table { width: 100%; } td, th { border: none!important; } </style>\n",
    "\n",
    "### Příklad použití slovníku\n",
    "\n",
    "- V proměnné `winners` máme pořadí účastníků závodu. Vypište jejich jména abecedně a k nim jejich pořadí."
   ]
  },
  {
   "cell_type": "code",
   "execution_count": 25,
   "metadata": {},
   "outputs": [
    {
     "name": "stdout",
     "output_type": "stream",
     "text": [
      "Alice 2\n",
      "Bob 1\n",
      "Cyril 4\n",
      "Dana 3\n",
      "Emil 6\n",
      "Filoména 7\n",
      "Gustáv 5\n"
     ]
    }
   ],
   "source": [
    "winners = 'Bob Alice Dana Cyril Gustáv Emil Filoména'\n",
    "\n",
    "names = winners.split()\n",
    "positions = {}\n",
    "for i, name in enumerate(names):\n",
    "    positions[name] = i\n",
    "\n",
    "names.sort()\n",
    "for name in names:\n",
    "    print(name, positions[name]+1)\n",
    "\n",
    "# Šlo by řešit i pomocí seznamu a metody index, ale bylo by méně efektivní"
   ]
  },
  {
   "cell_type": "markdown",
   "metadata": {},
   "source": [
    "<style> li { margin-bottom: 1em; } code { font-family: Consolas, monospace; } h2 { margin-top: 1em; } table { width: 100%; } td, th { border: none!important; } </style>\n",
    "\n",
    "<hr>"
   ]
  },
  {
   "cell_type": "markdown",
   "metadata": {},
   "source": [
    "<style> li { margin-bottom: 1em; } code { font-family: Consolas, monospace; } h2 { margin-top: 1em; } table { width: 100%; } td, th { border: none!important; } </style>\n",
    "\n",
    "## Homogenní a heterogenní kolekce, kolekce v kolekci"
   ]
  },
  {
   "cell_type": "markdown",
   "metadata": {},
   "source": [
    "<style> li { margin-bottom: 1em; } code { font-family: Consolas, monospace; } h2 { margin-top: 1em; } table { width: 100%; } td, th { border: none!important; } </style>\n",
    "\n",
    "- *Homogenní kolekce* – hodnoty stejného typu, `[1, 2, 3]`\n",
    "\n",
    "- *Heterogenní kolekce* – hodnoty smíšeného typu, `[1, 'ahoj', True]`\n",
    "\n",
    "- Kolekce mohou v sobě obsahovat další kolekce\n",
    "\n",
    "  - Výjimka: Klíče v slovníku a prvky v množině mohou být pouze nemodifikovatelné objekty."
   ]
  },
  {
   "cell_type": "code",
   "execution_count": null,
   "metadata": {},
   "outputs": [],
   "source": [
    "# list of tuples\n",
    "addresses = [('Kamenice', 5, 62500, 'Brno'), ('Kotlářská', 2, 61137, 'Brno'), ('Botanická', 68, 30200, 'Brno')]"
   ]
  },
  {
   "cell_type": "code",
   "execution_count": null,
   "metadata": {},
   "outputs": [],
   "source": [
    "# dict of lists\n",
    "telephones = {\n",
    "    'LF': ['549 49 1305', '549 49 5346', '549 49 6855', '549 49 7179'],\n",
    "    'PřF': ['549 49 3303', '549 49 6039', '549 49 3577', '549 49 6628', '549 49 5549', '549 49 5918'],\n",
    "    'FI': ['549 49 1816', '549 49 1805'],\n",
    "}"
   ]
  },
  {
   "cell_type": "code",
   "execution_count": null,
   "metadata": {},
   "outputs": [],
   "source": [
    "# dict of tuples with lists\n",
    "contacts = {\n",
    "    'LF': ('Kamenice', 5, 62500, 'Brno', ['549 49 1305', '549 49 5346', '549 49 6855', '549 49 7179']),\n",
    "    'PřF': ('Kotlářská', 2, 61137, 'Brno', ['549 49 3303', '549 49 6039', '549 49 3577', '549 49 6628', '549 49 5549', '549 49 5918']),\n",
    "    'FI': ('Botanická', 68, 30200, 'Brno', ['549 49 1816', '549 49 1805']),\n",
    "}"
   ]
  },
  {
   "cell_type": "markdown",
   "metadata": {},
   "source": [
    "<style> li { margin-bottom: 1em; } code { font-family: Consolas, monospace; } h2 { margin-top: 1em; } table { width: 100%; } td, th { border: none!important; } </style>\n",
    "\n",
    "<hr>"
   ]
  },
  {
   "cell_type": "markdown",
   "metadata": {},
   "source": [
    "<style> li { margin-bottom: 1em; } code { font-family: Consolas, monospace; } h2 { margin-top: 1em; } table { width: 100%; } td, th { border: none!important; } </style>\n",
    "\n",
    "## Shrnutí"
   ]
  },
  {
   "cell_type": "markdown",
   "metadata": {},
   "source": [
    "<style> li { margin-bottom: 1em; } code { font-family: Consolas, monospace; } h2 { margin-top: 1em; } table { width: 100%; } td, th { border: none!important; } </style>\n",
    "\n",
    "|          | Seznam  | n-tice  | Množina | Slovník          |\n",
    "|:--------:|:-------:|:-------:|:-------:|:----------------:|\n",
    "| Typ      | `list`  | `tuple` | `set`   | `dict` |\n",
    "| Prázdná  | `[]`     | `()`    | `set()` | `{}` |\n",
    "| S prvky  | `[1, 2, 3]`  | `(1, 2, 3)` | `{1, 2, 3}` | `{1: 10, 2: 20}` |\n",
    "| Pořadí            | `✔` | `✔` | `✘` | `✘`nezáleží / `✔`drží |\n",
    "| Duplikáty         | `✔` | `✔` | `✘` | `✘`klíč / `✔`hodnota |\n",
    "| Modifikace        | `✔` | `✘` | `✔` | `✔` |\n",
    "| Využití           | obdobné objekty v pevném pořadí | spojení hodnot se specifickým významem | obdobné objekty bez pořadí | asociace klíčů s hodnotami |\n",
    "| Efektivní operace | `[]`, `append`, `pop`           | `[]`                                    | `in`, `add`, `discard`, `pop`         | `[]`, `in`, `pop`          |"
   ]
  },
  {
   "cell_type": "markdown",
   "metadata": {},
   "source": [
    "<style> li { margin-bottom: 1em; } code { font-family: Consolas, monospace; } h2 { margin-top: 1em; } table { width: 100%; } td, th { border: none!important; } </style>\n",
    "\n",
    "### Další typy kolekcí\n",
    "\n",
    "Další specializované typy kolekcí nabízí modul `collections`: \n",
    "\n",
    "- `namedtuple`\n",
    "\n",
    "  - jako `tuple`, jednotlivé prvky lze pojmenovat (`address.street` místo `address[0]`)\n",
    "\n",
    "- `defaultdict`\n",
    "\n",
    "  - jako `dict`, chybějící hodnotu umí doplnit podle zadané factory funkce\n",
    "\n",
    "- `Counter`\n",
    "\n",
    "  - jako `dict`, vhodný k počítání různých typů něčeho\n",
    "\n",
    "- `frozenset`\n",
    "  \n",
    "  - jako `set`, nemodifikovatelný\n",
    "\n",
    "- `deque`\n",
    " \n",
    "  - jako `list`, umí efektivně pridávat/mazat z obou stran\n",
    "\n",
    "- ..."
   ]
  },
  {
   "cell_type": "markdown",
   "metadata": {},
   "source": [
    "<style> li { margin-bottom: 1em; } code { font-family: Consolas, monospace; } h2 { margin-top: 1em; } table { width: 100%; } td, th { border: none!important; } </style>\n",
    "\n",
    "### Volba typu kolekce\n",
    "\n",
    "Jaké typy kolekcí byste použili v těchto případech? Jaké budou typy hodnot (klíčů)?\n",
    "\n",
    "1. Každý den měříme teplotu vzduchu, chceme uložit naměřené hodnoty za celý měsíc.\n",
    "\n",
    "2. Měříme teplotu vzduchu 25.9. v Brně, Praze, Plzni a Ostravě.\n",
    "\n",
    "3. Ve třídě je několik studentů, u každého si chceme pamatovat jméno, příjmení a UČO.\n",
    "\n",
    "4. Vedeme si seznam zemí, které jsme navštívili.\n",
    "\n",
    "5. Čteme knihu a počítáme, kolikrát byla zmíněna každá z postav.\n",
    "\n",
    "6. Fakulta má několik ústavů, u každého si potřebujeme pamatovat jména zaměstnanců."
   ]
  },
  {
   "cell_type": "markdown",
   "metadata": {},
   "source": [
    "<style> li { margin-bottom: 1em; } code { font-family: Consolas, monospace; } h2 { margin-top: 1em; } table { width: 100%; } td, th { border: none!important; } </style>\n",
    "\n",
    "<hr>"
   ]
  },
  {
   "cell_type": "markdown",
   "metadata": {},
   "source": [
    "<style> li { margin-bottom: 1em; } code { font-family: Consolas, monospace; } h2 { margin-top: 1em; } table { width: 100%; } td, th { border: none!important; } </style>\n",
    "\n",
    "## Rozbalování (*unpacking*)"
   ]
  },
  {
   "cell_type": "markdown",
   "metadata": {},
   "source": [
    "<style> li { margin-bottom: 1em; } code { font-family: Consolas, monospace; } h2 { margin-top: 1em; } table { width: 100%; } td, th { border: none!important; } </style>\n",
    "\n",
    "- Pomocí operátoru `*`\n",
    "\n",
    "- Vytáhneme všechny prvky z iterovatelného objektu"
   ]
  },
  {
   "cell_type": "code",
   "execution_count": null,
   "metadata": {},
   "outputs": [],
   "source": [
    "numbers = [1, 2, 3, 4]\n",
    "print(numbers)"
   ]
  },
  {
   "cell_type": "code",
   "execution_count": null,
   "metadata": {},
   "outputs": [],
   "source": [
    "print(*numbers)  # Stejné jako print(1, 2, 3, 4)"
   ]
  },
  {
   "cell_type": "code",
   "execution_count": null,
   "metadata": {},
   "outputs": [],
   "source": [
    "[0, numbers, 5, 6]"
   ]
  },
  {
   "cell_type": "code",
   "execution_count": null,
   "metadata": {},
   "outputs": [],
   "source": [
    "[0, *numbers, 5, 6]  # Stejné jako [0, 1, 2, 3, 4, 5, 6]"
   ]
  },
  {
   "cell_type": "markdown",
   "metadata": {},
   "source": [
    "<style> li { margin-bottom: 1em; } code { font-family: Consolas, monospace; } h2 { margin-top: 1em; } table { width: 100%; } td, th { border: none!important; } </style>\n",
    "\n",
    "- Pomocí více proměnných na levé straně přiřazení"
   ]
  },
  {
   "cell_type": "code",
   "execution_count": null,
   "metadata": {},
   "outputs": [],
   "source": [
    "a, b, c, d = numbers\n",
    "print('a:', a)\n",
    "print('b:', b)\n",
    "print('c:', c)\n",
    "print('d:', d)"
   ]
  },
  {
   "cell_type": "code",
   "execution_count": null,
   "metadata": {},
   "outputs": [],
   "source": [
    "name, middle_name, surname = 'Karel Hynek Mácha'.split()\n",
    "print('name:', name)\n",
    "print('middle_name:', middle_name)\n",
    "print('surname:', surname)"
   ]
  },
  {
   "cell_type": "code",
   "execution_count": null,
   "metadata": {},
   "outputs": [],
   "source": [
    "first, second, *rest, last = range(10)\n",
    "print('first:', first)\n",
    "print('second:', second)\n",
    "print('rest:', rest)\n",
    "print('last:', last)"
   ]
  },
  {
   "cell_type": "markdown",
   "metadata": {},
   "source": [
    "<style> li { margin-bottom: 1em; } code { font-family: Consolas, monospace; } h2 { margin-top: 1em; } table { width: 100%; } td, th { border: none!important; } </style>\n",
    "\n",
    "<hr>"
   ]
  },
  {
   "cell_type": "markdown",
   "metadata": {},
   "source": [
    "<style> li { margin-bottom: 1em; } code { font-family: Consolas, monospace; } h2 { margin-top: 1em; } table { width: 100%; } td, th { border: none!important; } </style>\n",
    "\n",
    "## Procházení kolekcí"
   ]
  },
  {
   "cell_type": "markdown",
   "metadata": {},
   "source": [
    "<style> li { margin-bottom: 1em; } code { font-family: Consolas, monospace; } h2 { margin-top: 1em; } table { width: 100%; } td, th { border: none!important; } </style>\n",
    "\n",
    "- Pomocí cyklu `for`"
   ]
  },
  {
   "cell_type": "code",
   "execution_count": 32,
   "metadata": {},
   "outputs": [
    {
     "name": "stdout",
     "output_type": "stream",
     "text": [
      "10\n",
      "32\n",
      "9\n"
     ]
    }
   ],
   "source": [
    "for number in [10, 32, 9]:\n",
    "    print(number)"
   ]
  },
  {
   "cell_type": "code",
   "execution_count": 33,
   "metadata": {},
   "outputs": [
    {
     "name": "stdout",
     "output_type": "stream",
     "text": [
      "10\n",
      "32\n",
      "9\n"
     ]
    }
   ],
   "source": [
    "for number in (10, 32, 9):\n",
    "    print(number)"
   ]
  },
  {
   "cell_type": "code",
   "execution_count": 34,
   "metadata": {},
   "outputs": [
    {
     "name": "stdout",
     "output_type": "stream",
     "text": [
      "32\n",
      "9\n",
      "10\n"
     ]
    }
   ],
   "source": [
    "for number in {10, 32, 9}:\n",
    "    print(number)"
   ]
  },
  {
   "cell_type": "markdown",
   "metadata": {},
   "source": [
    "<style> li { margin-bottom: 1em; } code { font-family: Consolas, monospace; } h2 { margin-top: 1em; } table { width: 100%; } td, th { border: none!important; } </style>\n",
    "\n",
    "### Procházení slovníků\n",
    "\n",
    "- Přes klíče"
   ]
  },
  {
   "cell_type": "code",
   "execution_count": null,
   "metadata": {},
   "outputs": [],
   "source": [
    "phonebook = {'guido': 4127, 'jack': 4098}"
   ]
  },
  {
   "cell_type": "code",
   "execution_count": null,
   "metadata": {},
   "outputs": [],
   "source": [
    "for name in phonebook:\n",
    "    print(name)"
   ]
  },
  {
   "cell_type": "code",
   "execution_count": null,
   "metadata": {},
   "outputs": [],
   "source": [
    "for name in phonebook.keys():\n",
    "    print(name)"
   ]
  },
  {
   "cell_type": "markdown",
   "metadata": {
    "slideshow": {
     "slide_type": "fragment"
    }
   },
   "source": [
    "<style> li { margin-bottom: 1em; } code { font-family: Consolas, monospace; } h2 { margin-top: 1em; } table { width: 100%; } td, th { border: none!important; } </style>\n",
    "\n",
    "- Přes hodnoty"
   ]
  },
  {
   "cell_type": "code",
   "execution_count": null,
   "metadata": {},
   "outputs": [],
   "source": [
    "for phone in phonebook.values():\n",
    "    print(phone)"
   ]
  },
  {
   "cell_type": "markdown",
   "metadata": {
    "slideshow": {
     "slide_type": "fragment"
    }
   },
   "source": [
    "<style> li { margin-bottom: 1em; } code { font-family: Consolas, monospace; } h2 { margin-top: 1em; } table { width: 100%; } td, th { border: none!important; } </style>\n",
    "\n",
    "- Přes klíče a hodnoty"
   ]
  },
  {
   "cell_type": "code",
   "execution_count": null,
   "metadata": {},
   "outputs": [],
   "source": [
    "for name, phone in phonebook.items():\n",
    "    print(f'{name}: {phone}')"
   ]
  },
  {
   "cell_type": "markdown",
   "metadata": {},
   "source": [
    "<style> li { margin-bottom: 1em; } code { font-family: Consolas, monospace; } h2 { margin-top: 1em; } table { width: 100%; } td, th { border: none!important; } </style>\n",
    "\n",
    "<hr>"
   ]
  },
  {
   "cell_type": "markdown",
   "metadata": {},
   "source": [
    "<style> li { margin-bottom: 1em; } code { font-family: Consolas, monospace; } h2 { margin-top: 1em; } table { width: 100%; } td, th { border: none!important; } </style>\n",
    "\n",
    "## Vytvoření nového objektu vs modifikace objektu"
   ]
  },
  {
   "cell_type": "markdown",
   "metadata": {},
   "source": [
    "<style> li { margin-bottom: 1em; } code { font-family: Consolas, monospace; } h2 { margin-top: 1em; } table { width: 100%; } td, th { border: none!important; } </style>\n",
    "\n",
    "- Vytvoření nového objektu:"
   ]
  },
  {
   "cell_type": "code",
   "execution_count": 31,
   "metadata": {},
   "outputs": [
    {
     "name": "stdout",
     "output_type": "stream",
     "text": [
      "a: Spam spam spam.\n",
      "b: Spam ham ham.\n"
     ]
    }
   ],
   "source": [
    "a = 'Spam spam spam.'\n",
    "b = a.replace('spam', 'ham')\n",
    "print('a:', a)\n",
    "print('b:', b)"
   ]
  },
  {
   "cell_type": "code",
   "execution_count": null,
   "metadata": {},
   "outputs": [],
   "source": [
    "a = [1, 8, 5, 2]\n",
    "b = a[::-1]\n",
    "print('a:', a)\n",
    "print('b:', b)"
   ]
  },
  {
   "cell_type": "markdown",
   "metadata": {},
   "source": [
    "<style> li { margin-bottom: 1em; } code { font-family: Consolas, monospace; } h2 { margin-top: 1em; } table { width: 100%; } td, th { border: none!important; } </style>\n",
    "\n",
    "- Modifikace objektu:"
   ]
  },
  {
   "cell_type": "code",
   "execution_count": null,
   "metadata": {},
   "outputs": [],
   "source": [
    "a = [1, 8, 5, 2]\n",
    "b = a.sort()\n",
    "print('a:', a)\n",
    "print('b:', b)"
   ]
  },
  {
   "cell_type": "code",
   "execution_count": null,
   "metadata": {},
   "outputs": [],
   "source": [
    "a = [1, 8, 5, 2]\n",
    "b = a.append(0)\n",
    "print('a:', a)\n",
    "print('b:', b)"
   ]
  },
  {
   "cell_type": "markdown",
   "metadata": {},
   "source": [
    "<style> li { margin-bottom: 1em; } code { font-family: Consolas, monospace; } h2 { margin-top: 1em; } table { width: 100%; } td, th { border: none!important; } </style>\n",
    "\n",
    "<hr>"
   ]
  },
  {
   "cell_type": "markdown",
   "metadata": {},
   "source": [
    "<style> li { margin-bottom: 1em; } code { font-family: Consolas, monospace; } h2 { margin-top: 1em; } table { width: 100%; } td, th { border: none!important; } </style>\n",
    "\n",
    "## Stejné objekty vs ten samý objekt"
   ]
  },
  {
   "cell_type": "markdown",
   "metadata": {},
   "source": [
    "<style> li { margin-bottom: 1em; } code { font-family: Consolas, monospace; } h2 { margin-top: 1em; } table { width: 100%; } td, th { border: none!important; } </style>\n",
    "\n",
    "- Operátory `==` / `!=` testují, jestli jsou dva objekty stejné\n",
    "\n",
    "- Operátory `is` / `is not` testují, jestli se jedná o ten samý objekt\n",
    "\n",
    "- Dva stejné objekty:"
   ]
  },
  {
   "cell_type": "code",
   "execution_count": 1,
   "metadata": {},
   "outputs": [],
   "source": [
    "a = [1, 2, 3]\n",
    "b = [1, 2, 3]"
   ]
  },
  {
   "cell_type": "code",
   "execution_count": 2,
   "metadata": {},
   "outputs": [
    {
     "data": {
      "text/plain": [
       "True"
      ]
     },
     "execution_count": 2,
     "metadata": {},
     "output_type": "execute_result"
    }
   ],
   "source": [
    "a == b"
   ]
  },
  {
   "cell_type": "code",
   "execution_count": 3,
   "metadata": {},
   "outputs": [
    {
     "data": {
      "text/plain": [
       "False"
      ]
     },
     "execution_count": 3,
     "metadata": {},
     "output_type": "execute_result"
    }
   ],
   "source": [
    "a is b"
   ]
  },
  {
   "cell_type": "code",
   "execution_count": 4,
   "metadata": {},
   "outputs": [
    {
     "name": "stdout",
     "output_type": "stream",
     "text": [
      "a: [1, 2, 3, 4]\n",
      "b: [1, 2, 3]\n"
     ]
    }
   ],
   "source": [
    "a.append(4)\n",
    "print('a:', a)\n",
    "print('b:', b)"
   ]
  },
  {
   "cell_type": "markdown",
   "metadata": {},
   "source": [
    "<style> li { margin-bottom: 1em; } code { font-family: Consolas, monospace; } h2 { margin-top: 1em; } table { width: 100%; } td, th { border: none!important; } </style>\n",
    "\n",
    "- Ten samý objekt:"
   ]
  },
  {
   "cell_type": "code",
   "execution_count": 5,
   "metadata": {},
   "outputs": [],
   "source": [
    "a = [1, 2, 3]\n",
    "b = a"
   ]
  },
  {
   "cell_type": "code",
   "execution_count": 6,
   "metadata": {},
   "outputs": [
    {
     "data": {
      "text/plain": [
       "True"
      ]
     },
     "execution_count": 6,
     "metadata": {},
     "output_type": "execute_result"
    }
   ],
   "source": [
    "a == b"
   ]
  },
  {
   "cell_type": "code",
   "execution_count": 7,
   "metadata": {},
   "outputs": [
    {
     "data": {
      "text/plain": [
       "True"
      ]
     },
     "execution_count": 7,
     "metadata": {},
     "output_type": "execute_result"
    }
   ],
   "source": [
    "a is b"
   ]
  },
  {
   "cell_type": "code",
   "execution_count": 8,
   "metadata": {},
   "outputs": [
    {
     "name": "stdout",
     "output_type": "stream",
     "text": [
      "a: [1, 2, 3, 4]\n",
      "b: [1, 2, 3, 4]\n"
     ]
    }
   ],
   "source": [
    "a.append(4)\n",
    "print('a:', a)\n",
    "print('b:', b)"
   ]
  },
  {
   "cell_type": "markdown",
   "metadata": {},
   "source": [
    "<style> li { margin-bottom: 1em; } code { font-family: Consolas, monospace; } h2 { margin-top: 1em; } table { width: 100%; } td, th { border: none!important; } </style>\n",
    "\n",
    "- Všechny modifikovatelné kolekce můžeme duplikovat pomocí metody `.copy()` (vytváříme tak nový objekt)"
   ]
  },
  {
   "cell_type": "code",
   "execution_count": 9,
   "metadata": {},
   "outputs": [
    {
     "name": "stdout",
     "output_type": "stream",
     "text": [
      "a: [1, 3, 6, 8]\n",
      "b: [6, 8, 3, 1]\n"
     ]
    }
   ],
   "source": [
    "a = [6, 8, 3, 1]\n",
    "b = a.copy()\n",
    "a.sort()\n",
    "print('a:', a)\n",
    "print('b:', b)"
   ]
  },
  {
   "cell_type": "markdown",
   "metadata": {},
   "source": [
    "<style> li { margin-bottom: 1em; } code { font-family: Consolas, monospace; } h2 { margin-top: 1em; } table { width: 100%; } td, th { border: none!important; } </style>\n",
    "\n",
    "<hr>"
   ]
  }
 ],
 "metadata": {
  "kernelspec": {
   "display_name": "Python 3",
   "language": "python",
   "name": "python3"
  },
  "language_info": {
   "codemirror_mode": {
    "name": "ipython",
    "version": 3
   },
   "file_extension": ".py",
   "mimetype": "text/x-python",
   "name": "python",
   "nbconvert_exporter": "python",
   "pygments_lexer": "ipython3",
   "version": "3.12.6"
  },
  "title": "C2184 Úvod do programování v Pythonu"
 },
 "nbformat": 4,
 "nbformat_minor": 2
}

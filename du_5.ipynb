{
 "cells": [
  {
   "cell_type": "markdown",
   "metadata": {},
   "source": [
    "<style> li { margin-bottom: 1em; } code { font-family: Consolas, monospace; } h2 { margin-top: 1em; } table { width: 100%; } td, th { border: none!important; } </style>\n",
    "\n",
    "# Povinné domácí úkoly\n",
    "\n",
    "<hr>"
   ]
  },
  {
   "cell_type": "markdown",
   "metadata": {},
   "source": [
    "<style> li { margin-bottom: 1em; } code { font-family: Consolas, monospace; } h2 { margin-top: 1em; } table { width: 100%; } td, th { border: none!important; } </style>\n",
    "\n",
    "## DÚ 5.1: Popelka\n"
   ]
  },
  {
   "cell_type": "markdown",
   "metadata": {},
   "source": [
    "<style> li { margin-bottom: 1em; } code { font-family: Consolas, monospace; } h2 { margin-top: 1em; } table { width: 100%; } td, th { border: none!important; } </style>\n",
    "\n",
    "### Úkol:\n",
    "\n",
    "Na vstupu získate řádek s přirozenými čísly. Roztřiďte je a vypište lichá zvlášť, sudá zvlášť.\n",
    "\n",
    "|                              |                              |\n",
    "|:-----------------------------|:-----------------------------|\n",
    "| **Vzorový vstup 1: &emsp;**  | **Vzorový vstup 2: &emsp;**  |\n",
    "| `8 11 4 3 7 2 6 13 5 12`     | `9`                          |\n",
    "| **Vzorový výstup 1: &emsp;** | **Vzorový výstup 2: &emsp;** |\n",
    "| `Lichá: 11 3 7 13 5`         | `Lichá: 9`                   |\n",
    "| `Sudá: 8 4 2 6 12`           | `Sudá: `                     |\n",
    "\n",
    "\n",
    "<!--# CODE AREA du_5_1 #-->"
   ]
  },
  {
   "cell_type": "code",
   "execution_count": 6,
   "metadata": {
    "tags": []
   },
   "outputs": [
    {
     "name": "stdout",
     "output_type": "stream",
     "text": [
      "Lichá: 11 3 7 13 5\n",
      "Sudá: 8 4 2 6 12\n"
     ]
    }
   ],
   "source": [
    "cisla_in = input().split()\n",
    "cisla = []\n",
    "odd = []\n",
    "even = []\n",
    "\n",
    "for i in cisla_in:\n",
    "    cisla.append(float(i))\n",
    "    if int(i) % 2 == 1:\n",
    "        odd.append(int(i))\n",
    "    else:\n",
    "        even.append(int(i))\n",
    "\n",
    "print(\"Lichá:\", *odd)\n",
    "print(\"Sudá:\", *even)\n",
    "\n",
    "# Vzorové vstupy pro kopírování:\n",
    "# 8 11 4 3 7 2 6 13 5 12\n",
    "# 9"
   ]
  },
  {
   "cell_type": "markdown",
   "metadata": {},
   "source": [
    "<style> li { margin-bottom: 1em; } code { font-family: Consolas, monospace; } h2 { margin-top: 1em; } table { width: 100%; } td, th { border: none!important; } </style>\n",
    "\n",
    "### Testy: \n",
    "\n",
    "Spusťte následující buňku pro kontrolu řešení. \n",
    "\n",
    "Před spuštěním se ujistěte, že je notebook uložen (v záhlaví VSCode u názvu notebooku se nesmí zobrazovat \\* ani &#8226;).\n",
    "\n",
    "<!--# TEST AREA #-->"
   ]
  },
  {
   "cell_type": "code",
   "execution_count": 7,
   "metadata": {
    "tags": []
   },
   "outputs": [
    {
     "name": "stdout",
     "output_type": "stream",
     "text": [
      "Tests passed :)\n"
     ]
    }
   ],
   "source": [
    "# Tuto buňku neupravujte!  # TEST AREA #\n",
    "import testing\n",
    "testing.run_tests(notebook='du_5.ipynb', test_suite='du_5_1')"
   ]
  },
  {
   "cell_type": "markdown",
   "metadata": {},
   "source": [
    "<style> li { margin-bottom: 1em; } code { font-family: Consolas, monospace; } h2 { margin-top: 1em; } table { width: 100%; } td, th { border: none!important; } </style>\n",
    "\n",
    "<hr>"
   ]
  },
  {
   "cell_type": "markdown",
   "metadata": {},
   "source": [
    "<style> li { margin-bottom: 1em; } code { font-family: Consolas, monospace; } h2 { margin-top: 1em; } table { width: 100%; } td, th { border: none!important; } </style>\n",
    "\n",
    "## DÚ 5.2: Nejdelší a nejkratší slovo"
   ]
  },
  {
   "cell_type": "markdown",
   "metadata": {},
   "source": [
    "<style> li { margin-bottom: 1em; } code { font-family: Consolas, monospace; } h2 { margin-top: 1em; } table { width: 100%; } td, th { border: none!important; } </style>\n",
    "\n",
    "Ze vstupu načtěte slova a vypište nejkratší a nejdelší slovo.\n",
    "\n",
    "#### Vzorový vstup:\n",
    "`pes kočka holub slepice sokol anaconda slon liška`\n",
    "\n",
    "#### Vzorový výstup:\n",
    "```\n",
    "anaconda\n",
    "pes\n",
    "```\n",
    "\n",
    "<!--# CODE AREA du_5_2 #-->"
   ]
  },
  {
   "cell_type": "code",
   "execution_count": 1,
   "metadata": {},
   "outputs": [
    {
     "name": "stdout",
     "output_type": "stream",
     "text": [
      "anaconda\n",
      "pes\n"
     ]
    }
   ],
   "source": [
    "slova = input().split()\n",
    "delky = []\n",
    "\n",
    "for slovo in slova:\n",
    "    delky.append(len(slovo))\n",
    "\n",
    "l_num = delky.index(max(delky))\n",
    "s_num = delky.index(min(delky))\n",
    "\n",
    "print(slova[l_num])\n",
    "print(slova[s_num])\n",
    "\n",
    "# Vzorový vstup pro kopírování:\n",
    "# pes kočka holub slepice sokol anaconda slon liška"
   ]
  },
  {
   "cell_type": "markdown",
   "metadata": {},
   "source": [
    "<style> li { margin-bottom: 1em; } code { font-family: Consolas, monospace; } h2 { margin-top: 1em; } table { width: 100%; } td, th { border: none!important; } </style>\n",
    "\n",
    "### Testy: \n",
    "<!--# TEST AREA #-->"
   ]
  },
  {
   "cell_type": "code",
   "execution_count": 2,
   "metadata": {},
   "outputs": [
    {
     "name": "stdout",
     "output_type": "stream",
     "text": [
      "Tests passed :)\n"
     ]
    }
   ],
   "source": [
    "# Tuto buňku neupravujte!  # TEST AREA #\n",
    "import testing\n",
    "testing.run_tests(notebook='du_5.ipynb', test_suite='du_5_2')"
   ]
  },
  {
   "cell_type": "markdown",
   "metadata": {},
   "source": [
    "<style> li { margin-bottom: 1em; } code { font-family: Consolas, monospace; } h2 { margin-top: 1em; } table { width: 100%; } td, th { border: none!important; } </style>\n",
    "\n",
    "<hr>"
   ]
  },
  {
   "cell_type": "markdown",
   "metadata": {},
   "source": [
    "<style> li { margin-bottom: 1em; } code { font-family: Consolas, monospace; } h2 { margin-top: 1em; } table { width: 100%; } td, th { border: none!important; } </style>\n",
    "\n",
    "## DÚ 5.3: Nákupy"
   ]
  },
  {
   "cell_type": "markdown",
   "metadata": {},
   "source": [
    "<style> li { margin-bottom: 1em; } code { font-family: Consolas, monospace; } h2 { margin-top: 1em; } table { width: 100%; } td, th { border: none!important; } </style>\n",
    "\n",
    "### Úkol:\n",
    "\n",
    "Napište kód, který ze vstupu načte dva řádky:\n",
    "\n",
    "- ceník zboží (oddělený čárkami a dvojtečkami bez mezer)\n",
    "\n",
    "- obsah nákupního košíku (oddělený čárkami bez mezer)\n",
    "\n",
    "Ceník načtěte a uložte do vhodné kolekce. Poté spočítejte celkovou hodnotu zboží v nákupním košíku a vypište ji na výstup v požadovaném formátu.\n",
    "\n",
    "**Vzorový vstup 1:** \n",
    "\n",
    "```\n",
    "Rohlík:2.20,Banán:5.00,Jogurt:8.90,Sušenky:27.50,Čokoláda:24.00,Mléko:17.90,Spaghetti:21.90\n",
    "Rohlík,Rohlík,Rohlík,Mléko,Čokoláda\n",
    "```                   \n",
    "\n",
    "**Vzorový výstup 1:**\n",
    "\n",
    "`Celková cena: 48.50 Kč`              \n",
    "\n",
    "<!--# CODE AREA du_5_3 #-->"
   ]
  },
  {
   "cell_type": "code",
   "execution_count": 9,
   "metadata": {},
   "outputs": [
    {
     "name": "stdout",
     "output_type": "stream",
     "text": [
      "Položka \"Zemiaky\" není v ceníku!\n",
      "Celková cena: 48.50 Kč\n"
     ]
    }
   ],
   "source": [
    "cenik = {}\n",
    "\n",
    "cenik_in = input().split(\",\")\n",
    "kosik = input().split(\",\")\n",
    "\n",
    "for i in cenik_in:\n",
    "    polozka, cena = i.split(\":\")\n",
    "    cenik[polozka] = cena\n",
    "\n",
    "ceny = []\n",
    "for i in kosik:\n",
    "    if i in cenik:  \n",
    "        cena = cenik[i]\n",
    "        cena = float(cena)\n",
    "        ceny.append(cena)\n",
    "    else:\n",
    "        print(f\"\"\"Položka \"{i}\" není v ceníku!\"\"\")  \n",
    "\n",
    "\n",
    "celkem = sum(ceny)\n",
    "\n",
    "print(f\"Celková cena: {celkem:.2f} Kč\")\n",
    "\n",
    "# Vzorový vstup pro kopírování:\n",
    "# Rohlík:2.20,Banán:5.00,Jogurt:8.90,Sušenky:27.50,Čokoláda:24.00,Mléko:17.90,Spaghetti:21.90\n",
    "# Rohlík,Rohlík,Rohlík,Mléko,Čokoláda"
   ]
  },
  {
   "cell_type": "markdown",
   "metadata": {},
   "source": [
    "<style> li { margin-bottom: 1em; } code { font-family: Consolas, monospace; } h2 { margin-top: 1em; } table { width: 100%; } td, th { border: none!important; } </style>\n",
    "\n",
    "### Testy: \n",
    "<!--# TEST AREA #-->"
   ]
  },
  {
   "cell_type": "code",
   "execution_count": 1,
   "metadata": {},
   "outputs": [
    {
     "name": "stdout",
     "output_type": "stream",
     "text": [
      "Tests passed :)\n"
     ]
    }
   ],
   "source": [
    "# Tuto buňku neupravujte!  # TEST AREA #\n",
    "import testing\n",
    "testing.run_tests(notebook='du_5.ipynb', test_suite='du_5_3')"
   ]
  },
  {
   "cell_type": "markdown",
   "metadata": {},
   "source": [
    "<style> li { margin-bottom: 1em; } code { font-family: Consolas, monospace; } h2 { margin-top: 1em; } table { width: 100%; } td, th { border: none!important; } </style>\n",
    "\n",
    "<hr>"
   ]
  },
  {
   "cell_type": "markdown",
   "metadata": {},
   "source": [
    "<style> li { margin-bottom: 1em; } code { font-family: Consolas, monospace; } h2 { margin-top: 1em; } table { width: 100%; } td, th { border: none!important; } </style>\n",
    "\n",
    "## DÚ 5.4: Oko"
   ]
  },
  {
   "cell_type": "markdown",
   "metadata": {},
   "source": [
    "<style> li { margin-bottom: 1em; } code { font-family: Consolas, monospace; } h2 { margin-top: 1em; } table { width: 100%; } td, th { border: none!important; } </style>\n",
    "\n",
    "Ve hře Oko (Blackjack) je cílem získat co největší počet bodů, ne však víc než 21. Přitom karty 2 až 10 mají svou vlastní hodnotu; karty J, Q, K mají hodnotu 10; A má hodnotu 11.\n",
    "\n",
    "Příklady:\n",
    "\n",
    "- Mám-li na ruce karty 3, 5, K, 2, pak mám 3+5+10+2 = 20 bodů. \n",
    "- Mám-li na ruce karty 6, J, A, pak mám 0 bodů, protože 6+10+11 = 27, což je víc než 21.\n",
    "\n",
    "### Úkol:\n",
    "\n",
    "Na vstupu získáte posloupnost karet oddělených čárkami. Spočítejte, za kolik bodů se tyto karty počítají, a výsledek vypište na výstup.\n",
    "\n",
    "|                              |                              |\n",
    "|:-----------------------------|:-----------------------------|\n",
    "| **Vzorový vstup 1: &emsp;**  | **Vzorový vstup 2: &emsp;**  |\n",
    "| `2, 3, 5, K`                 | `6, J, A`                    |\n",
    "| **Vzorový výstup 1: &emsp;** | **Vzorový výstup 2: &emsp;** |\n",
    "| `20`                         | `0`                          |\n",
    "        \n",
    "\n",
    "<!--# CODE AREA du_5_4 #-->"
   ]
  },
  {
   "cell_type": "code",
   "execution_count": 4,
   "metadata": {},
   "outputs": [
    {
     "name": "stdout",
     "output_type": "stream",
     "text": [
      "0\n"
     ]
    }
   ],
   "source": [
    "ref_values = {\"2\": 2, \"3\": 3, \"4\": 4, \"5\": 5, \"6\": 6, \"7\": 7, \"8\": 8, \"9\": 9, \"10\": 10, \"J\": 10, \"Q\": 10, \"K\": 10, \"A\": 11}\n",
    "\n",
    "cards_drawn = input().split(\", \")\n",
    "cards_values = []\n",
    "\n",
    "for card in cards_drawn:\n",
    "    cards_values.append(int(ref_values[card]))\n",
    "\n",
    "total = sum(cards_values)\n",
    "\n",
    "if total > 21:\n",
    "    total = 0\n",
    "\n",
    "print(total)\n",
    "\n",
    "# Vzorové vstupy pro kopírování:\n",
    "# 2, 3, 5, K\n",
    "# 6, J, A\n"
   ]
  },
  {
   "cell_type": "markdown",
   "metadata": {},
   "source": [
    "<style> li { margin-bottom: 1em; } code { font-family: Consolas, monospace; } h2 { margin-top: 1em; } table { width: 100%; } td, th { border: none!important; } </style>\n",
    "\n",
    "### Testy: \n",
    "<!--# TEST AREA #-->"
   ]
  },
  {
   "cell_type": "code",
   "execution_count": 5,
   "metadata": {},
   "outputs": [
    {
     "name": "stdout",
     "output_type": "stream",
     "text": [
      "Tests passed :)\n"
     ]
    }
   ],
   "source": [
    "# Tuto buňku neupravujte!  # TEST AREA #\n",
    "import testing\n",
    "testing.run_tests(notebook='du_5.ipynb', test_suite='du_5_4')"
   ]
  },
  {
   "cell_type": "markdown",
   "metadata": {},
   "source": [
    "<style> li { margin-bottom: 1em; } code { font-family: Consolas, monospace; } h2 { margin-top: 1em; } table { width: 100%; } td, th { border: none!important; } </style>\n",
    "\n",
    "<hr>"
   ]
  },
  {
   "cell_type": "markdown",
   "metadata": {},
   "source": [
    "<style> li { margin-bottom: 1em; } code { font-family: Consolas, monospace; } h2 { margin-top: 1em; } table { width: 100%; } td, th { border: none!important; } </style>\n",
    "\n",
    "## DÚ 5.5: Hledáme kopie"
   ]
  },
  {
   "cell_type": "markdown",
   "metadata": {},
   "source": [
    "<style> li { margin-bottom: 1em; } code { font-family: Consolas, monospace; } h2 { margin-top: 1em; } table { width: 100%; } td, th { border: none!important; } </style>\n",
    "\n",
    "### Úkol:\n",
    "\n",
    "Na vstupu získáte několik slov, z nichž jedno se opakuje. Vypište, které slovo to je a na kterých dvou pozicích se nachází (pozice počítáme od nuly).\n",
    "\n",
    "Hint: Jde to i bez použití funkce `index`. Stačí využít vhodný typ kolekce.\n",
    "\n",
    "**Vzorový vstup 1:** \n",
    "\n",
    "`košík bouda kokos olovo mango kokos užovka karate`\n",
    "\n",
    "**Vzorový výstup 1:**\n",
    "\n",
    "`kokos 2 5`              \n",
    "\n",
    "<!--# CODE AREA du_5_5 #-->"
   ]
  },
  {
   "cell_type": "code",
   "execution_count": 1,
   "metadata": {},
   "outputs": [
    {
     "name": "stdout",
     "output_type": "stream",
     "text": [
      "kokos 2 5\n"
     ]
    }
   ],
   "source": [
    "words_in = input().split()\n",
    "words = {}\n",
    "\n",
    "for i, word in enumerate(words_in):\n",
    "    if word in words:\n",
    "        print(word, words[word], i)\n",
    "    else:\n",
    "        words[word] = i\n",
    "\n",
    "# Vzorový vstup pro kopírování:\n",
    "# košík bouda kokos olovo mango kokos užovka karate"
   ]
  },
  {
   "cell_type": "markdown",
   "metadata": {},
   "source": [
    "<style> li { margin-bottom: 1em; } code { font-family: Consolas, monospace; } h2 { margin-top: 1em; } table { width: 100%; } td, th { border: none!important; } </style>\n",
    "\n",
    "### Testy: \n",
    "<!--# TEST AREA #-->"
   ]
  },
  {
   "cell_type": "code",
   "execution_count": 2,
   "metadata": {},
   "outputs": [
    {
     "name": "stdout",
     "output_type": "stream",
     "text": [
      "Tests passed :)\n"
     ]
    }
   ],
   "source": [
    "# Tuto buňku neupravujte!  # TEST AREA #\n",
    "import testing\n",
    "testing.run_tests(notebook='du_5.ipynb', test_suite='du_5_5')"
   ]
  },
  {
   "cell_type": "markdown",
   "metadata": {},
   "source": [
    "<style> li { margin-bottom: 1em; } code { font-family: Consolas, monospace; } h2 { margin-top: 1em; } table { width: 100%; } td, th { border: none!important; } </style>\n",
    "\n",
    "<hr>"
   ]
  },
  {
   "cell_type": "markdown",
   "metadata": {},
   "source": [
    "<style> li { margin-bottom: 1em; } code { font-family: Consolas, monospace; } h2 { margin-top: 1em; } table { width: 100%; } td, th { border: none!important; } </style>\n",
    "\n",
    "## DÚ 5.6: Kombinujeme\n",
    "\n",
    "### Úkol:\n",
    "\n",
    "Ze vstupu načtěte řádek bude obsahující několik celých čísel. Zjistěte, jaké různé součty lze získat sčítáním dvojic z těchto čísel. \n",
    "\n",
    "Příklad: 8 12 1\n",
    "\n",
    "- 8 + 12 = 20\n",
    "\n",
    "- 8 + 1 = 9\n",
    "\n",
    "- 12 + 1 = 13\n",
    "\n",
    "\n",
    "Všechny možné součty vypište na výstup, od nejmenšího po největší. Žádný součet nevypisujte dvakrát, ani pokud ho lze získat více různými kombinacemi. Číslo nemůže tvořit dvojici samo se sebou, ledaže se na vstupu vyskytuje víckrát.\n",
    "\n",
    "|                              |                              |                              |\n",
    "|:-----------------------------|:-----------------------------|:-----------------------------|\n",
    "| **Vzorový vstup 1: &emsp;**  | **Vzorový vstup 2: &emsp;**  | **Vzorový vstup 3: &emsp;**  |\n",
    "| `8 12 1`                     | `1 2 2 5 6 7 8`              | `10 -10 -20 0`               |\n",
    "| **Vzorový výstup 1: &emsp;** | **Vzorový výstup 2: &emsp;** | **Vzorový výstup 3: &emsp;** |\n",
    "| `9 13 20`                    | `3 4 6 7 8 9 10 11 12 13 14 15`    | `-30 -20 -10 0 10`           |\n",
    "        \n",
    "<!--# CODE AREA du_5_6 #-->"
   ]
  },
  {
   "cell_type": "code",
   "execution_count": 15,
   "metadata": {},
   "outputs": [
    {
     "name": "stdout",
     "output_type": "stream",
     "text": [
      "-30 -20 -10 0 10\n"
     ]
    }
   ],
   "source": [
    "scitanec = list(input().split())\n",
    "soucty = set()\n",
    "\n",
    "for i in range(len(scitanec)):\n",
    "    for j in range(i+1, len(scitanec)):    \n",
    "        x = int(scitanec[i]) + int(scitanec[j])\n",
    "        soucty.add(x)\n",
    "    \n",
    "\n",
    "vysledky = sorted(list(soucty))\n",
    "\n",
    "print(*vysledky)\n",
    "# Vzorový vstup pro kopírování:\n",
    "# 8 12 1\n",
    "# 1 2 2 5 6 7 8\n",
    "# 10 -10 -20 0"
   ]
  },
  {
   "cell_type": "markdown",
   "metadata": {},
   "source": [
    "<style> li { margin-bottom: 1em; } code { font-family: Consolas, monospace; } h2 { margin-top: 1em; } table { width: 100%; } td, th { border: none!important; } </style>\n",
    "\n",
    "### Testy: \n",
    "<!--# TEST AREA #-->"
   ]
  },
  {
   "cell_type": "code",
   "execution_count": 16,
   "metadata": {},
   "outputs": [
    {
     "name": "stdout",
     "output_type": "stream",
     "text": [
      "Tests passed :)\n"
     ]
    }
   ],
   "source": [
    "# Tuto buňku neupravujte!  # TEST AREA #\n",
    "import testing\n",
    "testing.run_tests('du_5.ipynb', 'du_5_6')"
   ]
  },
  {
   "cell_type": "markdown",
   "metadata": {},
   "source": [
    "<style> li { margin-bottom: 1em; } code { font-family: Consolas, monospace; } h2 { margin-top: 1em; } table { width: 100%; } td, th { border: none!important; } </style>\n",
    "\n",
    "<hr>"
   ]
  }
 ],
 "metadata": {
  "kernelspec": {
   "display_name": "Python 3",
   "language": "python",
   "name": "python3"
  },
  "language_info": {
   "codemirror_mode": {
    "name": "ipython",
    "version": 3
   },
   "file_extension": ".py",
   "mimetype": "text/x-python",
   "name": "python",
   "nbconvert_exporter": "python",
   "pygments_lexer": "ipython3",
   "version": "3.12.6"
  },
  "title": "C2184 Úvod do programování v Pythonu"
 },
 "nbformat": 4,
 "nbformat_minor": 2
}

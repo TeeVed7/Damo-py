{
 "cells": [
  {
   "cell_type": "markdown",
   "metadata": {},
   "source": [
    "<style> li { margin-bottom: 1em; } code { font-family: Consolas, monospace; } h2 { margin-top: 1em; } table { width: 100%; } td, th { border: none!important; } </style>\n",
    "\n",
    "<style> \n",
    "    code { font-family: Consolas, monospace; font-weight: normal; } \n",
    "    table { width: 100%; }\n",
    "</style>\n",
    "\n",
    "# Povinné domácí úkoly\n",
    "\n",
    "V úkolech v této sadě je potřeba (narozdíl od předchozích sad) vždy zadefinovat nejakou funkci. Není třeba načítat vstup pomocí funkce `input`, testy budou volat Vaši funkci tak, jak uvádí **vzorové volání**.\n",
    "\n",
    "Pokud je uvedené **vzorové volání** a **vzorový výsledek**, chce se od Vás, aby návratovou hodnotou vzorového volání byl vzorový výsledek (`return`).\n",
    "\n",
    "Pokud je uvedené **vzorové volání** a **vzorový výstup**, nemá funkce vracet žádnou návratovou hodnotou, ale má vypisovat vzorový výstup (`print`).\n",
    "\n",
    "<hr>"
   ]
  },
  {
   "cell_type": "markdown",
   "metadata": {},
   "source": [
    "<style> li { margin-bottom: 1em; } code { font-family: Consolas, monospace; } h2 { margin-top: 1em; } table { width: 100%; } td, th { border: none!important; } </style>\n",
    "\n",
    "## DÚ 6.1: Vzdálenost bodů\n",
    "\n",
    "Mějme dva body v rovině: $A = [a_x, a_y]$, $B = [b_x, b_y]$.\n",
    "\n",
    "Vzdálenost mezi body $A$, $B$ umíme spočítat podle vzorce:\n",
    "\n",
    "$$\\left\\vert AB \\right\\vert = \\sqrt{(a_x-b_x)^2 + (a_y-b_y)^2}$$\n",
    "\n",
    "### Úkol:\n",
    "\n",
    "Napište funkci `distance`, která bere jako parametry souřadnice dvou bodů v rovině (tj. dvě dvojice reálných čísel) a vrací vzdálenost těchto bodů.\n",
    "\n",
    "|                                |                                      |\n",
    "|:-------------------------------|:-------------------------------------|\n",
    "| **Vzorové volání 1: &emsp;**   | **Vzorové volání 2: &emsp;**         |\n",
    "| `distance((1, 1), (5, 4))`     | `distance((-1.5, 3.2), (5.8, 12.6))` |\n",
    "| **Vzorový výsledek 1: &emsp;** | **Vzorový výsledek 2: &emsp;**       |\n",
    "| `5.0`                          | `11.901680553602503`                 |\n",
    "\n",
    "\n",
    "<!--# CODE AREA du_6_1 #-->"
   ]
  },
  {
   "cell_type": "code",
   "execution_count": 2,
   "metadata": {
    "tags": []
   },
   "outputs": [
    {
     "name": "stdout",
     "output_type": "stream",
     "text": [
      "11.901680553602503\n"
     ]
    }
   ],
   "source": [
    "import math\n",
    "def distance(pointA: tuple[float, float], pointB: tuple[float, float]) -> float: \n",
    "    a = pointA[0] - pointB[0]\n",
    "    b = pointA[1] - pointB[1]\n",
    "    c = math.sqrt(a**2 + b**2)\n",
    "    return c\n",
    "\n",
    "# print(distance((1, 1), (5, 4)))\n",
    "# print(distance((-1.5, 3.2), (5.8, 12.6)))"
   ]
  },
  {
   "cell_type": "markdown",
   "metadata": {},
   "source": [
    "<style> li { margin-bottom: 1em; } code { font-family: Consolas, monospace; } h2 { margin-top: 1em; } table { width: 100%; } td, th { border: none!important; } </style>\n",
    "\n",
    "### Testy: \n",
    "\n",
    "Spusťte následující buňku pro kontrolu řešení. \n",
    "\n",
    "Před spuštěním se ujistěte, že je notebook uložen (v záhlaví VSCode u názvu notebooku se nesmí zobrazovat \\* ani &#8226;).\n",
    "\n",
    "<!--# TEST AREA #-->"
   ]
  },
  {
   "cell_type": "code",
   "execution_count": 3,
   "metadata": {
    "tags": []
   },
   "outputs": [
    {
     "name": "stdout",
     "output_type": "stream",
     "text": [
      "Tests passed :)\n"
     ]
    }
   ],
   "source": [
    "# Tuto buňku neupravujte!  # TEST AREA #\n",
    "import testing\n",
    "testing.run_tests(notebook='du_6.ipynb', test_suite='du_6_1')"
   ]
  },
  {
   "cell_type": "markdown",
   "metadata": {},
   "source": [
    "<style> li { margin-bottom: 1em; } code { font-family: Consolas, monospace; } h2 { margin-top: 1em; } table { width: 100%; } td, th { border: none!important; } </style>\n",
    "\n",
    "<hr>"
   ]
  },
  {
   "cell_type": "markdown",
   "metadata": {},
   "source": [
    "<style> li { margin-bottom: 1em; } code { font-family: Consolas, monospace; } h2 { margin-top: 1em; } table { width: 100%; } td, th { border: none!important; } </style>\n",
    "\n",
    "## DÚ 6.2: Fibonacciho posloupnost\n",
    "\n",
    "Fibonacciho posloupnost je nekonečná posloupnost přirozených čísel, která začíná čísly 0, 1, a pak každé další číslo je součtem dvou předchozích:\n",
    "\n",
    "- 0, 1, 1, 2, 3, 5, 8, 13, 21, ...\n",
    "\n",
    "Zobecněná Fibonacciho posloupnost se může začínat libovolnými dvěma čísly a pak každé další je součtem dvou předchozích, například:\n",
    "\n",
    "- 2, 2, 4, 6, 10, 16, 26, 42, ..\n",
    "\n",
    "- 1, 10, 11, 21, 32, 53, 85, ...\n",
    "\n",
    "### Úkol:\n",
    "\n",
    "Napište funkci, která bere jako parametr číslo `n` a vrací seznam prvních `n` prvků Fibonacciho posloupnosti. \n",
    "\n",
    "Funkce může být volána také s nepovinným parametrem `start` (dvojice čísel), který určuje první dva prvky zobecněné Fibonacciho posloupnosti.\n",
    "\n",
    "|                                |                                      |\n",
    "|:-------------------------------|:-------------------------------------|\n",
    "| **Vzorové volání 1: &emsp;**   | **Vzorové volání 2: &emsp;**         |\n",
    "| `fibonacci(8)`                 | `fibonacci(6, start=(2, 2))`         |\n",
    "| **Vzorový výsledek 1: &emsp;** | **Vzorový výsledek 2: &emsp;**       |\n",
    "| `[0, 1, 1, 2, 3, 5, 8, 13]`    | `[2, 2, 4, 6, 10, 16]`               |\n",
    "\n",
    "<!--# CODE AREA du_6_2 #-->"
   ]
  },
  {
   "cell_type": "code",
   "execution_count": 9,
   "metadata": {},
   "outputs": [],
   "source": [
    "def fibonacci(n: int, start: tuple[int, int] = (0, 1)) -> list[int]: \n",
    "    numbers = list(start)\n",
    "    for i in range(2, n):\n",
    "        s = numbers[i-2] + numbers[i-1]\n",
    "        numbers.append(s)\n",
    "    return numbers\n",
    "\n",
    "# print(fibonacci(8))\n",
    "# print(fibonacci(6, start=(2, 2)))"
   ]
  },
  {
   "cell_type": "markdown",
   "metadata": {},
   "source": [
    "<style> li { margin-bottom: 1em; } code { font-family: Consolas, monospace; } h2 { margin-top: 1em; } table { width: 100%; } td, th { border: none!important; } </style>\n",
    "\n",
    "### Testy: \n",
    "<!--# TEST AREA #-->"
   ]
  },
  {
   "cell_type": "code",
   "execution_count": 10,
   "metadata": {},
   "outputs": [
    {
     "name": "stdout",
     "output_type": "stream",
     "text": [
      "Tests passed :)\n"
     ]
    }
   ],
   "source": [
    "# Tuto buňku neupravujte!  # TEST AREA #\n",
    "import testing\n",
    "testing.run_tests(notebook='du_6.ipynb', test_suite='du_6_2')"
   ]
  },
  {
   "cell_type": "markdown",
   "metadata": {},
   "source": [
    "<style> li { margin-bottom: 1em; } code { font-family: Consolas, monospace; } h2 { margin-top: 1em; } table { width: 100%; } td, th { border: none!important; } </style>\n",
    "\n",
    "<hr>"
   ]
  },
  {
   "cell_type": "markdown",
   "metadata": {},
   "source": [
    "<style> li { margin-bottom: 1em; } code { font-family: Consolas, monospace; } h2 { margin-top: 1em; } table { width: 100%; } td, th { border: none!important; } </style>\n",
    "\n",
    "## DÚ 6.3: Sněhulák\n",
    "\n",
    "Prasátko Peppa si chce vymodelovat z plastelíny sněhuláka a potřebuje vědet, kolik válečků plastelíny si musí koupit. \n",
    "\n",
    "### Úkol:\n",
    "\n",
    "Napište funkci `clay_pieces_for_snowman`, která bere tři argumenty: \n",
    "\n",
    "- `snowman_diameters` je seznam průměrů jednotlivých koulí sněhuláka (mohou být 3 nebo jiný počet),\n",
    "\n",
    "- `piece_diameter` je průměr válečku plastelíny,\n",
    "\n",
    "- `piece_length` je délka válečku plastelíny.\n",
    "\n",
    "Funkce vrátí počet válečků potřebný ke stavbě sněhuláka. Aby funkce nebyla příliš složitá, zadefinujte si pomocné funkce (např. na výpočet objemu koule, objemu celého sněhuláka, objemu válečku...), které pak můžete volat v hlavní funkci.\n",
    "\n",
    "Nápověda: funkce `math.ceil()` zaokrouhluje nahoru, `math.floor()` zaokrouhluje dolů. Při zápisu vzorců si dejte pozor na rozdíl mezi průměrem a poloměrem.\n",
    "\n",
    "|                                                |                                           |\n",
    "|:-----------------------------------------------|:------------------------------------------|\n",
    "| **Vzorové volání 1: &emsp;**                   | **Vzorové volání 2: &emsp;**              |\n",
    "| `clay_pieces_for_snowman([5, 4, 3], 2.2, 6.0)` | `clay_pieces_for_snowman([3.9, 2], 2, 6)` |\n",
    "| **Vzorový výsledek 1: &emsp;**                 | **Vzorový výsledek 2: &emsp;**            |\n",
    "| `5`                                            | `2`                                       |\n",
    "\n",
    "Pro kontrolu: ve vzorovém volání 1 má vyjít objem koulí zhruba 65.4, 33.5 a 14.1, objem válečku 22.8. Celý sněhulák tedy vyjde na 4.96 válečku, tj. musí si koupit 5.\n",
    "\n",
    "<!--# CODE AREA du_6_3 #-->"
   ]
  },
  {
   "cell_type": "code",
   "execution_count": 13,
   "metadata": {},
   "outputs": [
    {
     "name": "stdout",
     "output_type": "stream",
     "text": [
      "2\n"
     ]
    }
   ],
   "source": [
    "import math\n",
    "def clay_pieces_for_snowman(snowman_diameters: list[float], piece_diameter: float, piece_length: float) -> int:\n",
    "    snowman_volume = 0.0\n",
    "    for diameter in snowman_diameters:\n",
    "        snowman_volume += ( ((float(diameter)/2) ** 3) * math.pi * (4/3)) \n",
    "\n",
    "    piece_volume = (math.pi * ((piece_diameter/2) ** 2)) * piece_length\n",
    "    \n",
    "    result = snowman_volume / piece_volume\n",
    "    amount = math.ceil(result)\n",
    "    return amount\n",
    "\n",
    "# print(clay_pieces_for_snowman([5, 4, 3], 2.2, 6.0))\n",
    "# print(clay_pieces_for_snowman([3.9, 2], 2, 6))"
   ]
  },
  {
   "cell_type": "markdown",
   "metadata": {},
   "source": [
    "<style> li { margin-bottom: 1em; } code { font-family: Consolas, monospace; } h2 { margin-top: 1em; } table { width: 100%; } td, th { border: none!important; } </style>\n",
    "\n",
    "### Testy: \n",
    "<!--# TEST AREA #-->"
   ]
  },
  {
   "cell_type": "code",
   "execution_count": 14,
   "metadata": {},
   "outputs": [
    {
     "name": "stdout",
     "output_type": "stream",
     "text": [
      "Tests passed :)\n"
     ]
    }
   ],
   "source": [
    "# Tuto buňku neupravujte!  # TEST AREA #\n",
    "import testing\n",
    "testing.run_tests(notebook='du_6.ipynb', test_suite='du_6_3')"
   ]
  },
  {
   "cell_type": "markdown",
   "metadata": {},
   "source": [
    "<style> li { margin-bottom: 1em; } code { font-family: Consolas, monospace; } h2 { margin-top: 1em; } table { width: 100%; } td, th { border: none!important; } </style>\n",
    "\n",
    "<hr>"
   ]
  },
  {
   "cell_type": "markdown",
   "metadata": {},
   "source": [
    "<style> li { margin-bottom: 1em; } code { font-family: Consolas, monospace; } h2 { margin-top: 1em; } table { width: 100%; } td, th { border: none!important; } </style>\n",
    "\n",
    "## DÚ 6.4: Emívulm uktápzop\n",
    "\n",
    "### Úkol:\n",
    "\n",
    "Napište funkci `backwards`, která vezme jako argument větu a vrátí tuto větu s každým slovem pozpátku. Velikost písmen a interpunkci nemusíte řešit (ve větě budou pouze malá písmena a mezery). \n",
    "\n",
    "|                                     |                                           |\n",
    "|:------------------------------------|:------------------------------------------|\n",
    "| **Vzorové volání 1: &emsp;**        | **Vzorové volání 2: &emsp;**              |\n",
    "| `backwards('toto je tajná zpráva')` | `backwards('oktásarp appep ícarv redú')`  |\n",
    "| **Vzorový výsledek 1: &emsp;**      | **Vzorový výsledek 2: &emsp;**            |\n",
    "| `'otot ej ánjat avárpz'`            | `'prasátko peppa vrací úder'`             |    \n",
    "\n",
    "<!--# CODE AREA du_6_4 #-->"
   ]
  },
  {
   "cell_type": "code",
   "execution_count": 20,
   "metadata": {},
   "outputs": [
    {
     "name": "stdout",
     "output_type": "stream",
     "text": [
      "otot ej ánjat avárpz\n"
     ]
    }
   ],
   "source": [
    "def backwards(sentence: str) -> str: \n",
    "    sentence_rev = []\n",
    "    for word in sentence.split():\n",
    "        sentence_rev.append(word[::-1])\n",
    "    \n",
    "    return \" \".join(sentence_rev)\n",
    "# print(backwards('toto je tajná zpráva'))\n",
    "# print(backwards('oktásarp appep ícarv redú'))"
   ]
  },
  {
   "cell_type": "markdown",
   "metadata": {},
   "source": [
    "<style> li { margin-bottom: 1em; } code { font-family: Consolas, monospace; } h2 { margin-top: 1em; } table { width: 100%; } td, th { border: none!important; } </style>\n",
    "\n",
    "### Testy: \n",
    "<!--# TEST AREA #-->"
   ]
  },
  {
   "cell_type": "code",
   "execution_count": 21,
   "metadata": {},
   "outputs": [
    {
     "name": "stdout",
     "output_type": "stream",
     "text": [
      "Tests passed :)\n"
     ]
    }
   ],
   "source": [
    "# Tuto buňku neupravujte!  # TEST AREA #\n",
    "import testing\n",
    "testing.run_tests(notebook='du_6.ipynb', test_suite='du_6_4')"
   ]
  },
  {
   "cell_type": "markdown",
   "metadata": {},
   "source": [
    "<style> li { margin-bottom: 1em; } code { font-family: Consolas, monospace; } h2 { margin-top: 1em; } table { width: 100%; } td, th { border: none!important; } </style>\n",
    "\n",
    "<hr>"
   ]
  },
  {
   "cell_type": "markdown",
   "metadata": {},
   "source": [
    "<style> li { margin-bottom: 1em; } code { font-family: Consolas, monospace; } h2 { margin-top: 1em; } table { width: 100%; } td, th { border: none!important; } </style>\n",
    "\n",
    "## DÚ 6.5: Výpis slovníku\n",
    "\n",
    "### Úkol:\n",
    "\n",
    "Napište funkci `print_dict`, která bere slovník (parametr `dictionary`) a ten hezky vypíše na výstup v tomto formátu (viz vzorový výstup):\n",
    "\n",
    "- řádek s nadpisem (parametr `title`) a počtem klíčů ve slovníku \n",
    "\n",
    "- řádky s jednotlivými dvojicemi klíč:hodnota, seřazené podle klíčů, odsazené o 4 mezery\n",
    "\n",
    "Dále UPRAVTE HLAVIČKU funkce tak, aby ji bylo možné volat i bez parametru `title` (v takovém případě se místo nadpisu vypíše pouze `dict`).\n",
    "\n",
    "Funkce nemá nic vracet, pouze vypisovat (tj. návratová hodnota je `None`). Klíče a hodnoty mohou být libovolného typu, při jejich výpisu stačí použít defaultní formát.\n",
    "\n",
    "**Vzorové volání 1:** \n",
    "\n",
    "`print_dict({'bob': 10, 'cyril': 6, 'alice': 9}, title='Skóre v Kloboučku Hop')`\n",
    "\n",
    "**Vzorový výstup 1:**\n",
    "\n",
    "```\n",
    "Skóre v Kloboučku Hop [3]:\n",
    "    alice: 9\n",
    "    bob: 10\n",
    "    cyril: 6\n",
    "```\n",
    "\n",
    "**Vzorové volání 2:** \n",
    "\n",
    "`print_dict({1: 1, 3: 9, 5: 25, 2: 4, 4: 16})`\n",
    "\n",
    "**Vzorový výstup 2:**\n",
    "\n",
    "```\n",
    "dict [5]:\n",
    "    1: 1\n",
    "    2: 4\n",
    "    3: 9\n",
    "    4: 16\n",
    "    5: 25\n",
    "```\n",
    "\n",
    "<!--# CODE AREA du_6_5 #-->"
   ]
  },
  {
   "cell_type": "code",
   "execution_count": 1,
   "metadata": {},
   "outputs": [],
   "source": [
    "def print_dict(dictionary: dict, title: str = \"dict\") -> None: \n",
    "    print(f\"{title} [{str(len(dictionary))}]:\")\n",
    "    \n",
    "    for i, j in sorted(dictionary.items()):\n",
    "        print(f\"    {i}: {j}\")\n",
    "    return None\n",
    "\n",
    "# print_dict({'bob': 10, 'cyril': 6, 'alice': 9}, title='Skóre v Kloboučku Hop')\n",
    "# print_dict({1: 1, 3: 9, 5: 25, 2: 4, 4: 16})"
   ]
  },
  {
   "cell_type": "markdown",
   "metadata": {},
   "source": [
    "<style> li { margin-bottom: 1em; } code { font-family: Consolas, monospace; } h2 { margin-top: 1em; } table { width: 100%; } td, th { border: none!important; } </style>\n",
    "\n",
    "### Testy: \n",
    "<!--# TEST AREA #-->"
   ]
  },
  {
   "cell_type": "code",
   "execution_count": 2,
   "metadata": {},
   "outputs": [
    {
     "name": "stdout",
     "output_type": "stream",
     "text": [
      "Tests passed :)\n"
     ]
    }
   ],
   "source": [
    "# Tuto buňku neupravujte!  # TEST AREA #\n",
    "import testing\n",
    "testing.run_tests(notebook='du_6.ipynb', test_suite='du_6_5')"
   ]
  },
  {
   "cell_type": "markdown",
   "metadata": {},
   "source": [
    "<style> li { margin-bottom: 1em; } code { font-family: Consolas, monospace; } h2 { margin-top: 1em; } table { width: 100%; } td, th { border: none!important; } </style>\n",
    "\n",
    "<hr>"
   ]
  },
  {
   "cell_type": "markdown",
   "metadata": {},
   "source": [
    "<style> li { margin-bottom: 1em; } code { font-family: Consolas, monospace; } h2 { margin-top: 1em; } table { width: 100%; } td, th { border: none!important; } </style>\n",
    "\n",
    "## DÚ 6.6: Modus\n",
    "\n",
    "*Modus* (anglicky *mode*) je hodnota, která se v daném statistickém souboru vyskytuje nejčastěji. Obecně může mít soubor i víc modů, pokud je v něm víc různých hodnot se stejným počtem výskytů.\n",
    "\n",
    "### Úkol:\n",
    "\n",
    "Napište definici funkce `mode`, která bere seznam a vrací jeho modus. Pokud bude seznam prázdný, vraťte `None`. Pokud bude víc modů, vraťte jeden z nich – je jedno který.\n",
    "\n",
    "\n",
    "**Vzorové volání 1:** \n",
    "\n",
    "`mode([1, 2, 3, 3, 4, 4, 1, 2, 5, 3, 2, 1, 2])`\n",
    "\n",
    "**Vzorový výsledek 1:**\n",
    "\n",
    "`2`\n",
    "\n",
    "**Vzorové volání 2:** \n",
    "\n",
    "`mode(['jablko', 'pomeranč', 'hruška', 'pomeranč', 'jablko', 'jablko', 'hruška'])`\n",
    "\n",
    "**Vzorový výsledek 2:**\n",
    "\n",
    "`'jablko'`\n",
    "\n",
    "<!--# CODE AREA du_6_6 #-->"
   ]
  },
  {
   "cell_type": "code",
   "execution_count": 11,
   "metadata": {},
   "outputs": [
    {
     "name": "stdout",
     "output_type": "stream",
     "text": [
      "2\n"
     ]
    }
   ],
   "source": [
    "def mode(elements: list[object]) -> object:\n",
    "    if elements == []:\n",
    "        return None\n",
    "    \n",
    "    counts = {}\n",
    "\n",
    "    for i, j in enumerate(elements):\n",
    "        if j in counts:\n",
    "            counts[j] += 1\n",
    "        else:\n",
    "            counts[j] = 1\n",
    "    \n",
    "    for x, y in counts.items():\n",
    "        if y == max(counts.values()):\n",
    "            return x\n",
    "    \n",
    "    \n",
    "print(mode([1, 2, 3, 3, 4, 4, 1, 2, 5, 3, 2, 1, 2]))\n",
    "# print(mode(['jablko', 'pomeranč', 'hruška', 'pomeranč', 'jablko', 'jablko', 'hruška']))"
   ]
  },
  {
   "cell_type": "markdown",
   "metadata": {},
   "source": [
    "<style> li { margin-bottom: 1em; } code { font-family: Consolas, monospace; } h2 { margin-top: 1em; } table { width: 100%; } td, th { border: none!important; } </style>\n",
    "\n",
    "### Testy: \n",
    "<!--# TEST AREA #-->"
   ]
  },
  {
   "cell_type": "code",
   "execution_count": 12,
   "metadata": {},
   "outputs": [
    {
     "name": "stdout",
     "output_type": "stream",
     "text": [
      "Tests passed :)\n"
     ]
    }
   ],
   "source": [
    "# Tuto buňku neupravujte!  # TEST AREA #\n",
    "import testing\n",
    "testing.run_tests(notebook='du_6.ipynb', test_suite='du_6_6')"
   ]
  },
  {
   "cell_type": "markdown",
   "metadata": {},
   "source": [
    "<style> li { margin-bottom: 1em; } code { font-family: Consolas, monospace; } h2 { margin-top: 1em; } table { width: 100%; } td, th { border: none!important; } </style>\n",
    "\n",
    "<hr>"
   ]
  }
 ],
 "metadata": {
  "kernelspec": {
   "display_name": "Python 3",
   "language": "python",
   "name": "python3"
  },
  "language_info": {
   "codemirror_mode": {
    "name": "ipython",
    "version": 3
   },
   "file_extension": ".py",
   "mimetype": "text/x-python",
   "name": "python",
   "nbconvert_exporter": "python",
   "pygments_lexer": "ipython3",
   "version": "3.12.6"
  },
  "title": "C2184 Úvod do programování v Pythonu"
 },
 "nbformat": 4,
 "nbformat_minor": 2
}

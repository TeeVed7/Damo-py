{
 "cells": [
  {
   "cell_type": "markdown",
   "metadata": {},
   "source": [
    "<style> li { margin-bottom: 1em; } code { font-family: Consolas, monospace; } h2 { margin-top: 1em; } table { width: 100%; } td, th { border: none!important; } </style>\n",
    "\n",
    "# Nepovinné úkoly\n",
    "\n",
    "<hr>"
   ]
  },
  {
   "cell_type": "markdown",
   "metadata": {},
   "source": [
    "<style> li { margin-bottom: 1em; } code { font-family: Consolas, monospace; } h2 { margin-top: 1em; } table { width: 100%; } td, th { border: none!important; } </style>\n",
    "\n",
    "## Cvičení 5.1: Převrácené pořadí\n"
   ]
  },
  {
   "cell_type": "markdown",
   "metadata": {},
   "source": [
    "<style> li { margin-bottom: 1em; } code { font-family: Consolas, monospace; } h2 { margin-top: 1em; } table { width: 100%; } td, th { border: none!important; } </style>\n",
    "\n",
    "### Úkol:\n",
    "\n",
    "Napište program, který bude od uživatele načítat řádky textu až do chvíle, kdy uživatel zadá prázdný řádek. Poté program vypíše všechny doposud zadané řádky, ale v opačném pořadí.\n",
    "\n",
    "|                              |                                    |\n",
    "|:-----------------------------|:-----------------------------------|\n",
    "| **Vzorový vstup 1: &emsp;**  | **Vzorový vstup 2: &emsp;**        |\n",
    "| `1`                          | `v případě potřeby je možné`       |\n",
    "| `2`                          | `se seznámit s projektem`          |\n",
    "| `3`                          | `technické podpory a spolupráce`   |\n",
    "|                              | `s rozvojovými zeměmi na podlaze a`|\n",
    "|                              | `zabývali se také podílí`          |\n",
    "|                              | `na předním sedadle`               |\n",
    "|                              | &nbsp;                             |\n",
    "| **Vzorový výstup 1: &emsp;** | **Vzorový výstup 2: &emsp;**       |\n",
    "| `3`                          | `na předním sedadle`               |\n",
    "| `2`                          | `zabývali se také podílí`          |\n",
    "| `1`                          | `s rozvojovými zeměmi na podlaze a`|\n",
    "|                              | `technické podpory a spolupráce`   |\n",
    "|                              | `se seznámit s projektem`          |\n",
    "|                              | `v případě potřeby je možné`       |\n",
    "\n",
    "<!--# CODE AREA cviceni_5_1 #-->"
   ]
  },
  {
   "cell_type": "code",
   "execution_count": 6,
   "metadata": {},
   "outputs": [
    {
     "name": "stdout",
     "output_type": "stream",
     "text": [
      "na předním sedadle\n",
      "zabývali se také podílí\n",
      "s rozvojovými zeměmi na podlaze a\n",
      "technické podpory a spolupráce\n",
      "se seznámit s projektem\n",
      "v případě potřeby je možné\n"
     ]
    }
   ],
   "source": [
    "lines = []\n",
    "# lines = input().split(sep= \"\\n\")\n",
    "line = str\n",
    "\n",
    "while line != \"\":\n",
    "    line = input()\n",
    "    lines.append(line)\n",
    "lines.remove(\"\")\n",
    "lines.reverse()\n",
    "for line in lines:\n",
    "    print(line)    \n",
    "\n",
    "# v případě potřeby je možné\n",
    "# se seznámit s projektem\n",
    "# technické podpory a spolupráce\n",
    "# s rozvojovými zeměmi na podlaze a\n",
    "# zabývali se také podílí\n",
    "# na předním sedadle"
   ]
  },
  {
   "cell_type": "markdown",
   "metadata": {},
   "source": [
    "<style> li { margin-bottom: 1em; } code { font-family: Consolas, monospace; } h2 { margin-top: 1em; } table { width: 100%; } td, th { border: none!important; } </style>\n",
    "\n",
    "### Testy: \n",
    "\n",
    "Spusťte následující buňku pro kontrolu řešení. \n",
    "\n",
    "Před spuštěním se ujistěte, že je notebook uložen (v záhlaví VSCode u názvu notebooku se nesmí zobrazovat \\* ani &#8226;).\n",
    "\n",
    "<!--# TEST AREA #-->"
   ]
  },
  {
   "cell_type": "code",
   "execution_count": 7,
   "metadata": {
    "tags": []
   },
   "outputs": [
    {
     "name": "stdout",
     "output_type": "stream",
     "text": [
      "Tests passed :)\n"
     ]
    }
   ],
   "source": [
    "# Tuto buňku neupravujte!  # TEST AREA #\n",
    "import testing\n",
    "testing.run_tests(notebook='cviceni_5.ipynb', test_suite='cviceni_5_1')"
   ]
  },
  {
   "cell_type": "markdown",
   "metadata": {},
   "source": [
    "<style> li { margin-bottom: 1em; } code { font-family: Consolas, monospace; } h2 { margin-top: 1em; } table { width: 100%; } td, th { border: none!important; } </style>\n",
    "\n",
    "<hr>"
   ]
  },
  {
   "cell_type": "markdown",
   "metadata": {},
   "source": [
    "<style> li { margin-bottom: 1em; } code { font-family: Consolas, monospace; } h2 { margin-top: 1em; } table { width: 100%; } td, th { border: none!important; } </style>\n",
    "\n",
    "## Cvičení 5.2: Slovník"
   ]
  },
  {
   "cell_type": "markdown",
   "metadata": {},
   "source": [
    "<style> li { margin-bottom: 1em; } code { font-family: Consolas, monospace; } h2 { margin-top: 1em; } table { width: 100%; } td, th { border: none!important; } </style>\n",
    "\n",
    "Na vstupu získáte dvojice `klic=hodnota`. Vytvořte z nich slovník a vypište ho na výstup.\n",
    "\n",
    "#### Vzorový vstup:\n",
    "`pondělí=řízek úterý=smažák středa=halušky čtvrtek=guláš pátek=smažák`\n",
    "\n",
    "#### Vzorový výstup:\n",
    "`{'pondělí': 'řízek', 'úterý': 'smažák', 'středa': 'halušky', 'čtvrtek': 'guláš', 'pátek': 'smažák'}`\n",
    "\n",
    "<!--# CODE AREA cviceni_5_2 #-->"
   ]
  },
  {
   "cell_type": "code",
   "execution_count": 4,
   "metadata": {},
   "outputs": [
    {
     "name": "stdout",
     "output_type": "stream",
     "text": [
      "{'pondělí': 'řízek', 'úterý': 'smažák', 'středa': 'halušky', 'čtvrtek': 'guláš', 'pátek': 'smažák'}\n"
     ]
    }
   ],
   "source": [
    "plan = {}\n",
    "\n",
    "tyden = input().split()\n",
    "\n",
    "for i in tyden:\n",
    "    den, jidlo = i.split(\"=\")\n",
    "    plan[den] = jidlo\n",
    "\n",
    "print(plan)\n",
    "\n",
    "# Vzorový vstup pro kopírování:\n",
    "# pondělí=řízek úterý=smažák středa=halušky čtvrtek=guláš pátek=smažák"
   ]
  },
  {
   "cell_type": "markdown",
   "metadata": {},
   "source": [
    "<style> li { margin-bottom: 1em; } code { font-family: Consolas, monospace; } h2 { margin-top: 1em; } table { width: 100%; } td, th { border: none!important; } </style>\n",
    "\n",
    "### Testy: \n",
    "<!--# TEST AREA #-->"
   ]
  },
  {
   "cell_type": "code",
   "execution_count": 5,
   "metadata": {},
   "outputs": [
    {
     "name": "stdout",
     "output_type": "stream",
     "text": [
      "Tests passed :)\n"
     ]
    }
   ],
   "source": [
    "# Tuto buňku neupravujte!  # TEST AREA #\n",
    "import testing\n",
    "testing.run_tests(notebook='cviceni_5.ipynb', test_suite='cviceni_5_2')"
   ]
  },
  {
   "cell_type": "markdown",
   "metadata": {},
   "source": [
    "<style> li { margin-bottom: 1em; } code { font-family: Consolas, monospace; } h2 { margin-top: 1em; } table { width: 100%; } td, th { border: none!important; } </style>\n",
    "\n",
    "<hr>"
   ]
  },
  {
   "cell_type": "markdown",
   "metadata": {},
   "source": [
    "<style> li { margin-bottom: 1em; } code { font-family: Consolas, monospace; } h2 { margin-top: 1em; } table { width: 100%; } td, th { border: none!important; } </style>\n",
    "\n",
    "## Cvičení 5.3: Množina písmen"
   ]
  },
  {
   "cell_type": "markdown",
   "metadata": {},
   "source": [
    "<style> li { margin-bottom: 1em; } code { font-family: Consolas, monospace; } h2 { margin-top: 1em; } table { width: 100%; } td, th { border: none!important; } </style>\n",
    "\n",
    "### Úkol:\n",
    "\n",
    "Na vstupu získáte jeden řádek textu, který může obsahovat písmena anglické abecedy, číslice a jiné speciální znaky. Vypište na výstup všechna písmena, která se v textu vyskytují, bez ohledu na velikost (`A`/`a`) a počet výskytů. Písmena vypisujte vždy velká, v abecedním pořadí.\n",
    "\n",
    "Hint: ve znakové sadě Unicode jdou písmena anglické abecedy za sebou podle abecedy (nejdřív velká písmena A–Z s ordinálními čísly 65–90, pak malá písmena a–z s čísly 97–122). Porovnávání řetězců funguje na základě ordinálních čísel, např. `'A' < 'B' < 'C' < 'Z' < 'a' < 'b' < 'c' < 'z' < 'ý' < 'ň'` (pro písmena s diakritikou toto hezké uspořádání už bohužel neplatí). Stejný princip používají například i funkce `min`, `max`, `sorted`.\n",
    "\n",
    "|                              |                              |\n",
    "|:-----------------------------|:-----------------------------|\n",
    "| **Vzorový vstup 1: &emsp;**  | **Vzorový vstup 2: &emsp;**  |\n",
    "| `And I meant it!`            | `!@#$%^&*(123)`              |\n",
    "| **Vzorový výstup 1: &emsp;** | **Vzorový výstup 2: &emsp;** |\n",
    "| `ADEIMNT`                    |                              |    \n",
    "\n",
    "<!--# CODE AREA cviceni_5_3 #-->"
   ]
  },
  {
   "cell_type": "code",
   "execution_count": 10,
   "metadata": {},
   "outputs": [
    {
     "name": "stdout",
     "output_type": "stream",
     "text": [
      "\n"
     ]
    }
   ],
   "source": [
    "sentence = input()\n",
    "chars = set()\n",
    "sorted_char = []\n",
    "\n",
    "for char in sentence:\n",
    "    if char.isalpha():\n",
    "        char = char.upper()\n",
    "        chars.add(char)\n",
    "\n",
    "sorted_char = list(chars)\n",
    "\n",
    "sorted_char.sort()\n",
    "\n",
    "print(*sorted_char, sep=\"\")\n",
    "\n",
    "\n",
    "# Vzorové vstupy pro kopírování:\n",
    "# And I meant it!\n",
    "# !@#$%^&*(123)"
   ]
  },
  {
   "cell_type": "markdown",
   "metadata": {},
   "source": [
    "<style> li { margin-bottom: 1em; } code { font-family: Consolas, monospace; } h2 { margin-top: 1em; } table { width: 100%; } td, th { border: none!important; } </style>\n",
    "\n",
    "### Testy: \n",
    "<!--# TEST AREA #-->"
   ]
  },
  {
   "cell_type": "code",
   "execution_count": 12,
   "metadata": {},
   "outputs": [
    {
     "name": "stdout",
     "output_type": "stream",
     "text": [
      "Tests passed :)\n"
     ]
    }
   ],
   "source": [
    "# Tuto buňku neupravujte!  # TEST AREA #\n",
    "import testing\n",
    "testing.run_tests(notebook='cviceni_5.ipynb', test_suite='cviceni_5_3')"
   ]
  },
  {
   "cell_type": "markdown",
   "metadata": {},
   "source": [
    "<style> li { margin-bottom: 1em; } code { font-family: Consolas, monospace; } h2 { margin-top: 1em; } table { width: 100%; } td, th { border: none!important; } </style>\n",
    "\n",
    "<hr>"
   ]
  },
  {
   "cell_type": "markdown",
   "metadata": {},
   "source": [
    "<style> li { margin-bottom: 1em; } code { font-family: Consolas, monospace; } h2 { margin-top: 1em; } table { width: 100%; } td, th { border: none!important; } </style>\n",
    "\n",
    "## Cvičení 5.4: Čísla, čísla, čísla"
   ]
  },
  {
   "cell_type": "markdown",
   "metadata": {},
   "source": [
    "<style> li { margin-bottom: 1em; } code { font-family: Consolas, monospace; } h2 { margin-top: 1em; } table { width: 100%; } td, th { border: none!important; } </style>\n",
    "\n",
    "### Úkol:\n",
    "\n",
    "Na vstupu získáte posloupnost čísel oddělených mezerou. Spočítejte a vypište minimum, maximum, aritmetický průměr a medián.\n",
    "\n",
    "Vypisované hodnoty zarovnejte napravo, viz vzorový výstup (na každém řádku je dohromady 14 znaků).\n",
    "\n",
    "**Vzorový vstup 1: &emsp;** \n",
    "\n",
    "`150 13 7 10 11`\n",
    "\n",
    "**Vzorový výstup 1: &emsp;**\n",
    "\n",
    "```\n",
    "Min:      7.00\n",
    "Max:    150.00\n",
    "Mean:    38.20\n",
    "Median:  11.00\n",
    "```\n",
    "\n",
    "**Vzorový vstup 2: &emsp;** \n",
    "\n",
    "`1 2 3 4 8 9`\n",
    "\n",
    "**Vzorový výstup 2: &emsp;**\n",
    "\n",
    "```\n",
    "Min:      1.00\n",
    "Max:      9.00\n",
    "Mean:     4.50\n",
    "Median:   3.50\n",
    "```\n",
    "\n",
    "<!--# CODE AREA cviceni_5_4 #-->"
   ]
  },
  {
   "cell_type": "code",
   "execution_count": 27,
   "metadata": {
    "tags": []
   },
   "outputs": [
    {
     "name": "stdout",
     "output_type": "stream",
     "text": [
      "Min:      7.00\n",
      "Max:    150.00\n",
      "Mean:    38.20\n",
      "Median:   7.00\n"
     ]
    }
   ],
   "source": [
    "cisla_in = input().split()\n",
    "cisla = []\n",
    "\n",
    "for i in cisla_in:\n",
    "    cisla.append(float(i))\n",
    "\n",
    "avg_cisla = sum(cisla) / len(cisla)\n",
    "median_cisla = float\n",
    "\n",
    "if len(cisla) % 2 == 1:                         # nefunguje ti pocitanie medianu\n",
    "    median_cisla = cisla[(len(cisla)) // 2]\n",
    "else:\n",
    "    med1 = cisla[(len(cisla) // 2) - 1]\n",
    "    med2 = cisla[(len(cisla) // 2)]\n",
    "    median_cisla = (med1 + med2) / 2\n",
    "\n",
    "print(f\"Min: {min(cisla):>9.2f}\")\n",
    "print(f\"Max: {max(cisla):>9.2f}\")\n",
    "print(f\"Mean:{avg_cisla:>9.2f}\")\n",
    "print(f\"Median:{median_cisla:>7.2f}\")\n",
    "\n",
    "\n",
    "\n",
    "# Vzorové vstupy pro kopírování:\n",
    "# 150 13 7 10 11\n",
    "# 1 2 3 4 8 9"
   ]
  },
  {
   "cell_type": "markdown",
   "metadata": {},
   "source": [
    "<style> li { margin-bottom: 1em; } code { font-family: Consolas, monospace; } h2 { margin-top: 1em; } table { width: 100%; } td, th { border: none!important; } </style>\n",
    "\n",
    "### Testy: \n",
    "<!--# TEST AREA #-->"
   ]
  },
  {
   "cell_type": "code",
   "execution_count": 25,
   "metadata": {},
   "outputs": [
    {
     "name": "stdout",
     "output_type": "stream",
     "text": [
      "Test #1 failed - wrong output\n",
      "\n",
      "Test input:\n",
      "150 13 7 10 11\n",
      "\n",
      "Correct output:\n",
      "Min:      7.00\n",
      "Max:    150.00\n",
      "Mean:    38.20\n",
      "Median:  11.00\n",
      "\n",
      "Your output:\n",
      "Min:      7.00\n",
      "Max:    150.00\n",
      "Mean:    38.20\n",
      "Median:   7.00\n",
      "\n"
     ]
    }
   ],
   "source": [
    "# Tuto buňku neupravujte!  # TEST AREA #\n",
    "import testing\n",
    "testing.run_tests(notebook='cviceni_5.ipynb', test_suite='cviceni_5_4')"
   ]
  },
  {
   "cell_type": "markdown",
   "metadata": {},
   "source": [
    "<style> li { margin-bottom: 1em; } code { font-family: Consolas, monospace; } h2 { margin-top: 1em; } table { width: 100%; } td, th { border: none!important; } </style>\n",
    "\n",
    "<hr>"
   ]
  },
  {
   "cell_type": "markdown",
   "metadata": {},
   "source": [
    "<style> li { margin-bottom: 1em; } code { font-family: Consolas, monospace; } h2 { margin-top: 1em; } table { width: 100%; } td, th { border: none!important; } </style>\n",
    "\n",
    "## Cvičení 5.5: Pozice maxima"
   ]
  },
  {
   "cell_type": "markdown",
   "metadata": {},
   "source": [
    "<style> li { margin-bottom: 1em; } code { font-family: Consolas, monospace; } h2 { margin-top: 1em; } table { width: 100%; } td, th { border: none!important; } </style>\n",
    "\n",
    "Na vstupu získate posloupnost celých čísel oddělených mezerou. Vaším úkolem je nalézt největší číslo a vypsat jeho pozici a hodnotu. Pokud bude více největších čísel, vypište pozici prvního. Při výpisu počítejte pozice od jedničky (ne od nuly).\n",
    "\n",
    "|                                    |                                  |\n",
    "|:-----------------------------------|:---------------------------------|\n",
    "| **Vzorový vstup 1: &emsp;**        | **Vzorový vstup 2: &emsp;**      |\n",
    "| `150 13 7 10 11`                   | `2 3 5 5 1 5`                    |\n",
    "| **Vzorový výstup 1: &emsp;**       | **Vzorový výstup 2: &emsp;**     |\n",
    "| `1: 150`                           | `3: 5`                           |\n",
    "\n",
    "<!--# CODE AREA cviceni_5_5 #-->"
   ]
  },
  {
   "cell_type": "code",
   "execution_count": null,
   "metadata": {},
   "outputs": [],
   "source": [
    "...\n",
    "\n",
    "# Vzorové vstupy pro kopírování:\n",
    "# 150 13 7 10 11\n",
    "# 2 3 5 5 1 5"
   ]
  },
  {
   "cell_type": "markdown",
   "metadata": {},
   "source": [
    "<style> li { margin-bottom: 1em; } code { font-family: Consolas, monospace; } h2 { margin-top: 1em; } table { width: 100%; } td, th { border: none!important; } </style>\n",
    "\n",
    "### Testy: \n",
    "<!--# TEST AREA #-->"
   ]
  },
  {
   "cell_type": "code",
   "execution_count": null,
   "metadata": {},
   "outputs": [],
   "source": [
    "# Tuto buňku neupravujte!  # TEST AREA #\n",
    "import testing\n",
    "testing.run_tests(notebook='cviceni_5.ipynb', test_suite='cviceni_5_5')"
   ]
  },
  {
   "cell_type": "markdown",
   "metadata": {},
   "source": [
    "<style> li { margin-bottom: 1em; } code { font-family: Consolas, monospace; } h2 { margin-top: 1em; } table { width: 100%; } td, th { border: none!important; } </style>\n",
    "\n",
    "<hr>"
   ]
  }
 ],
 "metadata": {
  "kernelspec": {
   "display_name": "Python 3",
   "language": "python",
   "name": "python3"
  },
  "language_info": {
   "codemirror_mode": {
    "name": "ipython",
    "version": 3
   },
   "file_extension": ".py",
   "mimetype": "text/x-python",
   "name": "python",
   "nbconvert_exporter": "python",
   "pygments_lexer": "ipython3",
   "version": "3.12.6"
  },
  "title": "C2184 Úvod do programování v Pythonu"
 },
 "nbformat": 4,
 "nbformat_minor": 2
}

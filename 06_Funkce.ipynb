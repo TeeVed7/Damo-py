{
 "cells": [
  {
   "cell_type": "markdown",
   "metadata": {},
   "source": [
    "<style> li { margin-bottom: 1em; } code { font-family: Consolas, monospace; } h2 { margin-top: 1em; } table { width: 100%; } td, th { border: none!important; } </style>\n",
    "\n",
    "# 6. Funkce\n",
    "\n",
    "<hr>"
   ]
  },
  {
   "cell_type": "markdown",
   "metadata": {},
   "source": [
    "<style> li { margin-bottom: 1em; } code { font-family: Consolas, monospace; } h2 { margin-top: 1em; } table { width: 100%; } td, th { border: none!important; } </style>\n",
    "\n",
    "## Funkce"
   ]
  },
  {
   "cell_type": "markdown",
   "metadata": {},
   "source": [
    "<style> li { margin-bottom: 1em; } code { font-family: Consolas, monospace; } h2 { margin-top: 1em; } table { width: 100%; } td, th { border: none!important; } </style>\n",
    "\n",
    "- Objekt, který lze volat (pomocí závorek za jménem funkce)\n",
    "\n",
    "- *Function*, *callable*\n",
    "\n",
    "- Funkce při volání\n",
    "\n",
    "  1. Něco vezme (**argumenty**)\n",
    "  \n",
    "  2. Něco udělá\n",
    "  \n",
    "  3. Něco vrátí (**návratovou hodnotu**)"
   ]
  },
  {
   "cell_type": "markdown",
   "metadata": {},
   "source": [
    "<style> li { margin-bottom: 1em; } code { font-family: Consolas, monospace; } h2 { margin-top: 1em; } table { width: 100%; } td, th { border: none!important; } </style>\n",
    "\n",
    "- Příklad: funkce `abs`\n",
    "\n",
    "  1. Vezme 1 argument: číslo *x*\n",
    "\n",
    "  2. Spočítá absolutní hodnotu |*x*|\n",
    "\n",
    "  3. Vrátí návratovou hodnotu: |*x*|"
   ]
  },
  {
   "cell_type": "code",
   "execution_count": 3,
   "metadata": {},
   "outputs": [],
   "source": [
    "y = abs(-5)"
   ]
  },
  {
   "cell_type": "code",
   "execution_count": 4,
   "metadata": {},
   "outputs": [
    {
     "data": {
      "text/plain": [
       "5"
      ]
     },
     "execution_count": 4,
     "metadata": {},
     "output_type": "execute_result"
    }
   ],
   "source": [
    "y"
   ]
  },
  {
   "cell_type": "markdown",
   "metadata": {},
   "source": [
    "<style> li { margin-bottom: 1em; } code { font-family: Consolas, monospace; } h2 { margin-top: 1em; } table { width: 100%; } td, th { border: none!important; } </style>\n",
    "\n",
    "- Příklad: funkce `print`\n",
    "\n",
    "  1. Vezme libovolný počet argumentů: libovolných objektů\n",
    "\n",
    "  2. Převede všechny argumenty na řetězce a vypíše je na výstup\n",
    "\n",
    "  3. Vrátí návratovou hodnotu: `None`"
   ]
  },
  {
   "cell_type": "code",
   "execution_count": 5,
   "metadata": {},
   "outputs": [
    {
     "name": "stdout",
     "output_type": "stream",
     "text": [
      "ahoj 5 True\n"
     ]
    }
   ],
   "source": [
    "y = print('ahoj', 5, True)"
   ]
  },
  {
   "cell_type": "code",
   "execution_count": 6,
   "metadata": {},
   "outputs": [],
   "source": [
    "y"
   ]
  },
  {
   "cell_type": "markdown",
   "metadata": {},
   "source": [
    "<style> li { margin-bottom: 1em; } code { font-family: Consolas, monospace; } h2 { margin-top: 1em; } table { width: 100%; } td, th { border: none!important; } </style>\n",
    "\n",
    "- Příklad: funkce `input`\n",
    "\n",
    "  1. Vezme 0 argumentů\n",
    "\n",
    "  2. Počká na vstup od uživatele\n",
    "\n",
    "  3. Vrátí návratovou hodnotu: řetězec zadaný uživatelem"
   ]
  },
  {
   "cell_type": "code",
   "execution_count": 7,
   "metadata": {},
   "outputs": [],
   "source": [
    "y = input()"
   ]
  },
  {
   "cell_type": "code",
   "execution_count": 8,
   "metadata": {},
   "outputs": [
    {
     "data": {
      "text/plain": [
       "'kkkk'"
      ]
     },
     "execution_count": 8,
     "metadata": {},
     "output_type": "execute_result"
    }
   ],
   "source": [
    "y"
   ]
  },
  {
   "cell_type": "markdown",
   "metadata": {},
   "source": [
    "<style> li { margin-bottom: 1em; } code { font-family: Consolas, monospace; } h2 { margin-top: 1em; } table { width: 100%; } td, th { border: none!important; } </style>\n",
    "\n",
    "### Argumenty\n",
    "\n",
    "- **Poziční** (*positional arguments*, *args*)\n",
    "\n",
    "- **Pojmenované** (*keyword arguments*, *kwargs*)\n",
    "\n",
    "Příklad:"
   ]
  },
  {
   "cell_type": "code",
   "execution_count": 9,
   "metadata": {},
   "outputs": [
    {
     "name": "stdout",
     "output_type": "stream",
     "text": [
      "1-2-A;\n"
     ]
    }
   ],
   "source": [
    "print(1, 2, 'A', sep='-', end=';\\n')"
   ]
  },
  {
   "cell_type": "markdown",
   "metadata": {},
   "source": [
    "<style> li { margin-bottom: 1em; } code { font-family: Consolas, monospace; } h2 { margin-top: 1em; } table { width: 100%; } td, th { border: none!important; } </style>\n",
    "\n",
    "- 3 poziční argumenty: `1`, `2`, `'A'`\n",
    "\n",
    "- 2 pojmenované argumenty: `'-'`, `';\\n'`"
   ]
  },
  {
   "cell_type": "markdown",
   "metadata": {},
   "source": [
    "<style> li { margin-bottom: 1em; } code { font-family: Consolas, monospace; } h2 { margin-top: 1em; } table { width: 100%; } td, th { border: none!important; } </style>\n",
    "\n",
    "- Pojmenované argumenty lze přehazovat"
   ]
  },
  {
   "cell_type": "code",
   "execution_count": 10,
   "metadata": {},
   "outputs": [
    {
     "name": "stdout",
     "output_type": "stream",
     "text": [
      "1-2-A;\n"
     ]
    }
   ],
   "source": [
    "print(1, 2, 'A', sep='-', end=';\\n')"
   ]
  },
  {
   "cell_type": "code",
   "execution_count": 11,
   "metadata": {},
   "outputs": [
    {
     "name": "stdout",
     "output_type": "stream",
     "text": [
      "1-2-A;\n"
     ]
    }
   ],
   "source": [
    "print(1, 2, 'A', end=';\\n', sep='-')"
   ]
  },
  {
   "cell_type": "markdown",
   "metadata": {
    "slideshow": {
     "slide_type": "fragment"
    }
   },
   "source": [
    "<style> li { margin-bottom: 1em; } code { font-family: Consolas, monospace; } h2 { margin-top: 1em; } table { width: 100%; } td, th { border: none!important; } </style>\n",
    "\n",
    "- Ale vždy se uvádějí nejdřív poziční, pak pojmenované"
   ]
  },
  {
   "cell_type": "code",
   "execution_count": 12,
   "metadata": {},
   "outputs": [
    {
     "ename": "SyntaxError",
     "evalue": "positional argument follows keyword argument (2950625468.py, line 1)",
     "output_type": "error",
     "traceback": [
      "\u001b[1;36m  Cell \u001b[1;32mIn[12], line 1\u001b[1;36m\u001b[0m\n\u001b[1;33m    print(1, 2, sep='-', end=';\\n', 'A')\u001b[0m\n\u001b[1;37m                                       ^\u001b[0m\n\u001b[1;31mSyntaxError\u001b[0m\u001b[1;31m:\u001b[0m positional argument follows keyword argument\n"
     ]
    }
   ],
   "source": [
    "print(1, 2, sep='-', end=';\\n', 'A')"
   ]
  },
  {
   "cell_type": "markdown",
   "metadata": {},
   "source": [
    "<style> li { margin-bottom: 1em; } code { font-family: Consolas, monospace; } h2 { margin-top: 1em; } table { width: 100%; } td, th { border: none!important; } </style>\n",
    "\n",
    "### Metody\n",
    "\n",
    "- Funkce, které jsou součástí objektu\n",
    "\n",
    "- Voláme je pomocí tečky\n",
    "\n",
    "- Objekt, ke kterému patří (`self`), je jakoby argumentem"
   ]
  },
  {
   "cell_type": "code",
   "execution_count": 14,
   "metadata": {},
   "outputs": [
    {
     "data": {
      "text/plain": [
       "2"
      ]
     },
     "execution_count": 14,
     "metadata": {},
     "output_type": "execute_result"
    }
   ],
   "source": [
    "'ukazatel'.count('a')"
   ]
  },
  {
   "cell_type": "markdown",
   "metadata": {},
   "source": [
    "<style> li { margin-bottom: 1em; } code { font-family: Consolas, monospace; } h2 { margin-top: 1em; } table { width: 100%; } td, th { border: none!important; } </style>\n",
    "\n",
    "<hr>"
   ]
  },
  {
   "cell_type": "markdown",
   "metadata": {},
   "source": [
    "<style> li { margin-bottom: 1em; } code { font-family: Consolas, monospace; } h2 { margin-top: 1em; } table { width: 100%; } td, th { border: none!important; } </style>\n",
    "\n",
    "## Můžeme si vytvořit vlastní funkce"
   ]
  },
  {
   "cell_type": "markdown",
   "metadata": {},
   "source": [
    "<style> li { margin-bottom: 1em; } code { font-family: Consolas, monospace; } h2 { margin-top: 1em; } table { width: 100%; } td, th { border: none!important; } </style>\n",
    "\n",
    "- **Proč?**\n",
    "  - Nejakou operaci provádíme často a nechceme psát vždy to stejné (*DRY – Don't Repeat Yourself*)\n",
    "  \n",
    "    –> vytvoříme na to funkci\n",
    "  \n",
    "  - Máme dlouhý program a chceme ho zpřehlednit (*SoC – Separation of Concerns*)\n",
    "  \n",
    "    –> rozdělíme ho na několik snadno pochopitelných funkcí\n",
    "\n",
    "- **Jak?**\n",
    "  - Pomocí klíčového slova `def`  "
   ]
  },
  {
   "cell_type": "code",
   "execution_count": 15,
   "metadata": {},
   "outputs": [
    {
     "name": "stdout",
     "output_type": "stream",
     "text": [
      "Koule o poloměru 1.00 má objem 4.19.\n",
      "Koule o poloměru 5.00 má objem 523.60.\n",
      "Koule o poloměru 10.00 má objem 4188.79.\n"
     ]
    }
   ],
   "source": [
    "import math\n",
    "\n",
    "r1 = 1.0\n",
    "V1 = 4/3 * math.pi * r1**3\n",
    "print(f'Koule o poloměru {r1:.2f} má objem {V1:.2f}.')\n",
    "\n",
    "r2 = 5.0\n",
    "V2 = 4/3 * math.pi * r2**3\n",
    "print(f'Koule o poloměru {r2:.2f} má objem {V2:.2f}.')\n",
    "\n",
    "r3 = 10.0\n",
    "V3 = 4/3 * math.pi * r3**3\n",
    "print(f'Koule o poloměru {r3:.2f} má objem {V3:.2f}.')"
   ]
  },
  {
   "cell_type": "code",
   "execution_count": 16,
   "metadata": {
    "scrolled": true,
    "slideshow": {
     "slide_type": "fragment"
    }
   },
   "outputs": [
    {
     "name": "stdout",
     "output_type": "stream",
     "text": [
      "Koule o poloměru 1.00 má objem 4.19.\n",
      "Koule o poloměru 5.00 má objem 523.60.\n",
      "Koule o poloměru 10.00 má objem 4188.79.\n"
     ]
    }
   ],
   "source": [
    "def print_sphere_volume(r):\n",
    "    V = 4/3 * math.pi * r**3\n",
    "    print(f'Koule o poloměru {r:.2f} má objem {V:.2f}.')\n",
    "\n",
    "print_sphere_volume(1.0)\n",
    "print_sphere_volume(5.0)\n",
    "print_sphere_volume(10.0)"
   ]
  },
  {
   "cell_type": "markdown",
   "metadata": {},
   "source": [
    "<style> li { margin-bottom: 1em; } code { font-family: Consolas, monospace; } h2 { margin-top: 1em; } table { width: 100%; } td, th { border: none!important; } </style>\n",
    "\n",
    "### Definice (vytvoření) funkce\n",
    "\n",
    "- Pomocí klíčového slova `def`\n",
    "\n",
    "    ```python\n",
    "    def identifier(parameters...):\n",
    "\n",
    "        body...\n",
    "        \n",
    "    ```\n",
    "\n",
    "- Funkce má svůj název (*indentifier*), parametry (*parameters*) a tělo (*body*)\n",
    "\n",
    "- Funkce musí být nejdřív definována, až pak ji můžeme zavolat\n",
    "\n",
    "- Tělo funkce se nevykoná, dokud funkci nezavoláme"
   ]
  },
  {
   "cell_type": "code",
   "execution_count": 17,
   "metadata": {},
   "outputs": [],
   "source": [
    "def print_sphere_volume(r): \n",
    "    V = 4/3 * math.pi * r**3\n",
    "    print(f'Koule o poloměru {r:.2f} má objem {V:.2f}.')"
   ]
  },
  {
   "cell_type": "code",
   "execution_count": 18,
   "metadata": {
    "slideshow": {
     "slide_type": "fragment"
    }
   },
   "outputs": [
    {
     "data": {
      "text/plain": [
       "<function __main__.print_sphere_volume(r)>"
      ]
     },
     "execution_count": 18,
     "metadata": {},
     "output_type": "execute_result"
    }
   ],
   "source": [
    "print_sphere_volume"
   ]
  },
  {
   "cell_type": "code",
   "execution_count": 19,
   "metadata": {
    "slideshow": {
     "slide_type": "fragment"
    }
   },
   "outputs": [
    {
     "name": "stdout",
     "output_type": "stream",
     "text": [
      "Koule o poloměru 1.00 má objem 4.19.\n"
     ]
    }
   ],
   "source": [
    "print_sphere_volume(1.0)"
   ]
  },
  {
   "cell_type": "markdown",
   "metadata": {},
   "source": [
    "<style> li { margin-bottom: 1em; } code { font-family: Consolas, monospace; } h2 { margin-top: 1em; } table { width: 100%; } td, th { border: none!important; } </style>\n",
    "\n",
    "### Volání funkce\n",
    "\n",
    "1. Hodnoty *argumentů* se dosadí do *parametrů* v definici funkce\n",
    "\n",
    "2. Provede se tělo funkce\n",
    "\n",
    "3. Vrátí se hodnota uvedena za klíčovým slovem `return`"
   ]
  },
  {
   "cell_type": "code",
   "execution_count": 23,
   "metadata": {},
   "outputs": [],
   "source": [
    "def square_area(side):\n",
    "    print('Počítám obsah čtverce...')\n",
    "    area = side**2\n",
    "    return area"
   ]
  },
  {
   "cell_type": "code",
   "execution_count": 28,
   "metadata": {},
   "outputs": [
    {
     "name": "stdout",
     "output_type": "stream",
     "text": [
      "Počítám obsah čtverce...\n"
     ]
    }
   ],
   "source": [
    "S = square_area(5)"
   ]
  },
  {
   "cell_type": "code",
   "execution_count": 25,
   "metadata": {},
   "outputs": [
    {
     "data": {
      "text/plain": [
       "25"
      ]
     },
     "execution_count": 25,
     "metadata": {},
     "output_type": "execute_result"
    }
   ],
   "source": [
    "S"
   ]
  },
  {
   "cell_type": "markdown",
   "metadata": {},
   "source": [
    "<style> li { margin-bottom: 1em; } code { font-family: Consolas, monospace; } h2 { margin-top: 1em; } table { width: 100%; } td, th { border: none!important; } </style>\n",
    "\n",
    "### Návratová hodnota funkce (*return value*)\n",
    "\n",
    "- Hodnota, která je výsledkem volání funkce\n",
    "\n",
    "- Pomocí klíčového slova `return` v těle funkce\n",
    "\n",
    "- Jakmile se provede `return`, funkce skončí a zbývající část těla se ignoruje (podobné `break`)!"
   ]
  },
  {
   "cell_type": "code",
   "execution_count": 29,
   "metadata": {},
   "outputs": [],
   "source": [
    "def square_area(side):\n",
    "    print('Počítám obsah čtverce...')\n",
    "    area = side**2\n",
    "    return area\n",
    "    print('**********')"
   ]
  },
  {
   "cell_type": "code",
   "execution_count": 30,
   "metadata": {},
   "outputs": [
    {
     "name": "stdout",
     "output_type": "stream",
     "text": [
      "Počítám obsah čtverce...\n"
     ]
    }
   ],
   "source": [
    "S = square_area(5)"
   ]
  },
  {
   "cell_type": "code",
   "execution_count": 31,
   "metadata": {},
   "outputs": [
    {
     "data": {
      "text/plain": [
       "25"
      ]
     },
     "execution_count": 31,
     "metadata": {},
     "output_type": "execute_result"
    }
   ],
   "source": [
    "S"
   ]
  },
  {
   "cell_type": "markdown",
   "metadata": {},
   "source": [
    "<style> li { margin-bottom: 1em; } code { font-family: Consolas, monospace; } h2 { margin-top: 1em; } table { width: 100%; } td, th { border: none!important; } </style>\n",
    "\n",
    "### Defaultní návratová hodnota\n",
    "\n",
    "- Provede-li se celé tělo funkce bez nalezení `return`, funkce vrátí `None`\n",
    "\n",
    "- Pouhé `return` taky vrátí `None`"
   ]
  },
  {
   "cell_type": "code",
   "execution_count": 32,
   "metadata": {},
   "outputs": [
    {
     "name": "stdout",
     "output_type": "stream",
     "text": [
      "Hello Bob!\n",
      "None\n"
     ]
    }
   ],
   "source": [
    "def greet(name):\n",
    "    print(f'Hello {name}!')\n",
    "\n",
    "result = greet('Bob')\n",
    "print(result)"
   ]
  },
  {
   "cell_type": "code",
   "execution_count": 33,
   "metadata": {
    "slideshow": {
     "slide_type": "fragment"
    }
   },
   "outputs": [
    {
     "name": "stdout",
     "output_type": "stream",
     "text": [
      "Hello Alice!\n",
      "None\n"
     ]
    }
   ],
   "source": [
    "def greet(name):\n",
    "    print(f'Hello {name}!')\n",
    "    return\n",
    "\n",
    "result = greet('Alice')\n",
    "print(result)"
   ]
  },
  {
   "cell_type": "markdown",
   "metadata": {},
   "source": [
    "<style> li { margin-bottom: 1em; } code { font-family: Consolas, monospace; } h2 { margin-top: 1em; } table { width: 100%; } td, th { border: none!important; } </style>\n",
    "\n",
    "### Parametry a argumenty funkce\n",
    "\n",
    "- Při volání funkce se argumenty dosazují do parametrů funkce\n",
    "\n",
    "  - Poziční argumenty po pořadí\n",
    "  \n",
    "  - Pojmenované argumenty podle názvu"
   ]
  },
  {
   "cell_type": "code",
   "execution_count": 34,
   "metadata": {},
   "outputs": [],
   "source": [
    "def cylinder_volume(radius, height):\n",
    "    volume = math.pi * radius**2 * height\n",
    "    return volume"
   ]
  },
  {
   "cell_type": "markdown",
   "metadata": {
    "slideshow": {
     "slide_type": "fragment"
    }
   },
   "source": [
    "<style> li { margin-bottom: 1em; } code { font-family: Consolas, monospace; } h2 { margin-top: 1em; } table { width: 100%; } td, th { border: none!important; } </style>\n",
    "\n",
    "- Poziční argumenty:"
   ]
  },
  {
   "cell_type": "code",
   "execution_count": 35,
   "metadata": {},
   "outputs": [
    {
     "data": {
      "text/plain": [
       "15.707963267948966"
      ]
     },
     "execution_count": 35,
     "metadata": {},
     "output_type": "execute_result"
    }
   ],
   "source": [
    "cylinder_volume(1, 5)"
   ]
  },
  {
   "cell_type": "markdown",
   "metadata": {
    "slideshow": {
     "slide_type": "fragment"
    }
   },
   "source": [
    "<style> li { margin-bottom: 1em; } code { font-family: Consolas, monospace; } h2 { margin-top: 1em; } table { width: 100%; } td, th { border: none!important; } </style>\n",
    "\n",
    "- Pojmenované argumenty:"
   ]
  },
  {
   "cell_type": "code",
   "execution_count": 36,
   "metadata": {},
   "outputs": [
    {
     "data": {
      "text/plain": [
       "15.707963267948966"
      ]
     },
     "execution_count": 36,
     "metadata": {},
     "output_type": "execute_result"
    }
   ],
   "source": [
    "cylinder_volume(radius=1, height=5)"
   ]
  },
  {
   "cell_type": "code",
   "execution_count": 37,
   "metadata": {},
   "outputs": [
    {
     "data": {
      "text/plain": [
       "15.707963267948966"
      ]
     },
     "execution_count": 37,
     "metadata": {},
     "output_type": "execute_result"
    }
   ],
   "source": [
    "cylinder_volume(height=5, radius=1)"
   ]
  },
  {
   "cell_type": "markdown",
   "metadata": {},
   "source": [
    "<style> li { margin-bottom: 1em; } code { font-family: Consolas, monospace; } h2 { margin-top: 1em; } table { width: 100%; } td, th { border: none!important; } </style>\n",
    "\n",
    "- Počet argumentů musí sedět"
   ]
  },
  {
   "cell_type": "code",
   "execution_count": 38,
   "metadata": {},
   "outputs": [
    {
     "ename": "TypeError",
     "evalue": "cylinder_volume() missing 1 required positional argument: 'height'",
     "output_type": "error",
     "traceback": [
      "\u001b[1;31m---------------------------------------------------------------------------\u001b[0m",
      "\u001b[1;31mTypeError\u001b[0m                                 Traceback (most recent call last)",
      "Cell \u001b[1;32mIn[38], line 1\u001b[0m\n\u001b[1;32m----> 1\u001b[0m \u001b[43mcylinder_volume\u001b[49m\u001b[43m(\u001b[49m\u001b[38;5;241;43m1\u001b[39;49m\u001b[43m)\u001b[49m\n",
      "\u001b[1;31mTypeError\u001b[0m: cylinder_volume() missing 1 required positional argument: 'height'"
     ]
    }
   ],
   "source": [
    "cylinder_volume(1)"
   ]
  },
  {
   "cell_type": "code",
   "execution_count": 39,
   "metadata": {},
   "outputs": [
    {
     "ename": "TypeError",
     "evalue": "cylinder_volume() takes 2 positional arguments but 3 were given",
     "output_type": "error",
     "traceback": [
      "\u001b[1;31m---------------------------------------------------------------------------\u001b[0m",
      "\u001b[1;31mTypeError\u001b[0m                                 Traceback (most recent call last)",
      "Cell \u001b[1;32mIn[39], line 1\u001b[0m\n\u001b[1;32m----> 1\u001b[0m \u001b[43mcylinder_volume\u001b[49m\u001b[43m(\u001b[49m\u001b[38;5;241;43m1\u001b[39;49m\u001b[43m,\u001b[49m\u001b[43m \u001b[49m\u001b[38;5;241;43m5\u001b[39;49m\u001b[43m,\u001b[49m\u001b[43m \u001b[49m\u001b[38;5;241;43m8\u001b[39;49m\u001b[43m)\u001b[49m\n",
      "\u001b[1;31mTypeError\u001b[0m: cylinder_volume() takes 2 positional arguments but 3 were given"
     ]
    }
   ],
   "source": [
    "cylinder_volume(1, 5, 8)"
   ]
  },
  {
   "cell_type": "markdown",
   "metadata": {},
   "source": [
    "<style> li { margin-bottom: 1em; } code { font-family: Consolas, monospace; } h2 { margin-top: 1em; } table { width: 100%; } td, th { border: none!important; } </style>\n",
    "\n",
    "### Defaultní hodnoty parametrů\n",
    "\n",
    "- Můžeme nastavit v definici funkce pomocí `=`\n",
    "\n",
    "- Parametry s defaultní hodnotou musí být na konci výčtu parametrů"
   ]
  },
  {
   "cell_type": "code",
   "execution_count": 40,
   "metadata": {},
   "outputs": [],
   "source": [
    "def greet(name, repeat=1):\n",
    "    for i in range(repeat):\n",
    "        print(f'Hello {name}!')"
   ]
  },
  {
   "cell_type": "code",
   "execution_count": 41,
   "metadata": {},
   "outputs": [
    {
     "name": "stdout",
     "output_type": "stream",
     "text": [
      "Hello Bob!\n"
     ]
    }
   ],
   "source": [
    "greet('Bob')"
   ]
  },
  {
   "cell_type": "code",
   "execution_count": 42,
   "metadata": {},
   "outputs": [
    {
     "name": "stdout",
     "output_type": "stream",
     "text": [
      "Hello Bob!\n",
      "Hello Bob!\n",
      "Hello Bob!\n"
     ]
    }
   ],
   "source": [
    "greet('Bob', repeat=3)"
   ]
  },
  {
   "cell_type": "markdown",
   "metadata": {},
   "source": [
    "<style> li { margin-bottom: 1em; } code { font-family: Consolas, monospace; } h2 { margin-top: 1em; } table { width: 100%; } td, th { border: none!important; } </style>\n",
    "\n",
    "### Globální a lokální proměnné\n",
    "\n",
    "- Globální proměnné (*globals*) – zadefinované mimo funkce\n",
    "\n",
    "- Lokální proměnné (*locals*) – zadefinované v těle funkce"
   ]
  },
  {
   "cell_type": "markdown",
   "metadata": {},
   "source": [
    "<style> li { margin-bottom: 1em; } code { font-family: Consolas, monospace; } h2 { margin-top: 1em; } table { width: 100%; } td, th { border: none!important; } </style>\n",
    "\n",
    "- Lokální proměnné a parametry existují pouze v rámci konkrétního volání funkce, z vnějšku jsou nedostupné"
   ]
  },
  {
   "cell_type": "code",
   "execution_count": 43,
   "metadata": {},
   "outputs": [
    {
     "data": {
      "text/plain": [
       "25"
      ]
     },
     "execution_count": 43,
     "metadata": {},
     "output_type": "execute_result"
    }
   ],
   "source": [
    "def square_area(side):\n",
    "    area = side**2\n",
    "    return area\n",
    "\n",
    "square_area(5)"
   ]
  },
  {
   "cell_type": "code",
   "execution_count": 44,
   "metadata": {},
   "outputs": [
    {
     "ename": "NameError",
     "evalue": "name 'area' is not defined",
     "output_type": "error",
     "traceback": [
      "\u001b[1;31m---------------------------------------------------------------------------\u001b[0m",
      "\u001b[1;31mNameError\u001b[0m                                 Traceback (most recent call last)",
      "Cell \u001b[1;32mIn[44], line 1\u001b[0m\n\u001b[1;32m----> 1\u001b[0m \u001b[43marea\u001b[49m\n",
      "\u001b[1;31mNameError\u001b[0m: name 'area' is not defined"
     ]
    }
   ],
   "source": [
    "area"
   ]
  },
  {
   "cell_type": "code",
   "execution_count": 45,
   "metadata": {},
   "outputs": [
    {
     "ename": "NameError",
     "evalue": "name 'side' is not defined",
     "output_type": "error",
     "traceback": [
      "\u001b[1;31m---------------------------------------------------------------------------\u001b[0m",
      "\u001b[1;31mNameError\u001b[0m                                 Traceback (most recent call last)",
      "Cell \u001b[1;32mIn[45], line 1\u001b[0m\n\u001b[1;32m----> 1\u001b[0m \u001b[43mside\u001b[49m\n",
      "\u001b[1;31mNameError\u001b[0m: name 'side' is not defined"
     ]
    }
   ],
   "source": [
    "side"
   ]
  },
  {
   "cell_type": "markdown",
   "metadata": {},
   "source": [
    "<style> li { margin-bottom: 1em; } code { font-family: Consolas, monospace; } h2 { margin-top: 1em; } table { width: 100%; } td, th { border: none!important; } </style>\n",
    "\n",
    "- Globální proměnné jsou viditelné zevnitř funkce, ale nelze do nich zapisovat"
   ]
  },
  {
   "cell_type": "code",
   "execution_count": 46,
   "metadata": {},
   "outputs": [
    {
     "name": "stdout",
     "output_type": "stream",
     "text": [
      "The name is: Bob\n"
     ]
    }
   ],
   "source": [
    "the_name = 'Bob'\n",
    "\n",
    "def print_the_name():\n",
    "    print('The name is:', the_name)\n",
    "\n",
    "print_the_name()"
   ]
  },
  {
   "cell_type": "code",
   "execution_count": 47,
   "metadata": {},
   "outputs": [
    {
     "name": "stdout",
     "output_type": "stream",
     "text": [
      "Bob\n"
     ]
    }
   ],
   "source": [
    "the_name = 'Bob'\n",
    "\n",
    "def change_the_name(new_name):\n",
    "    the_name = new_name  # toto je lokální proměnná, která zakrývá globální proměnnou the_name\n",
    "\n",
    "change_the_name('Alice')\n",
    "print(the_name)"
   ]
  },
  {
   "cell_type": "code",
   "execution_count": 48,
   "metadata": {},
   "outputs": [
    {
     "ename": "UnboundLocalError",
     "evalue": "cannot access local variable 'the_name' where it is not associated with a value",
     "output_type": "error",
     "traceback": [
      "\u001b[1;31m---------------------------------------------------------------------------\u001b[0m",
      "\u001b[1;31mUnboundLocalError\u001b[0m                         Traceback (most recent call last)",
      "Cell \u001b[1;32mIn[48], line 8\u001b[0m\n\u001b[0;32m      5\u001b[0m     the_name \u001b[38;5;241m=\u001b[39m new_name  \u001b[38;5;66;03m# ale kdepak, the_name je lokální proměnná\u001b[39;00m\n\u001b[0;32m      6\u001b[0m     \u001b[38;5;66;03m# skončí chybou, protože lokální proměnnou nelze vypsat před její nastavením!\u001b[39;00m\n\u001b[1;32m----> 8\u001b[0m \u001b[43mprint_and_change_the_name\u001b[49m\u001b[43m(\u001b[49m\u001b[38;5;124;43m'\u001b[39;49m\u001b[38;5;124;43mAlice\u001b[39;49m\u001b[38;5;124;43m'\u001b[39;49m\u001b[43m)\u001b[49m\n\u001b[0;32m      9\u001b[0m \u001b[38;5;28mprint\u001b[39m(the_name)\n",
      "Cell \u001b[1;32mIn[48], line 4\u001b[0m, in \u001b[0;36mprint_and_change_the_name\u001b[1;34m(new_name)\u001b[0m\n\u001b[0;32m      3\u001b[0m \u001b[38;5;28;01mdef\u001b[39;00m \u001b[38;5;21mprint_and_change_the_name\u001b[39m(new_name):\n\u001b[1;32m----> 4\u001b[0m     \u001b[38;5;28mprint\u001b[39m(\u001b[38;5;124m'\u001b[39m\u001b[38;5;124mThe name is:\u001b[39m\u001b[38;5;124m'\u001b[39m, \u001b[43mthe_name\u001b[49m)  \u001b[38;5;66;03m# globální proměnná the_name?\u001b[39;00m\n\u001b[0;32m      5\u001b[0m     the_name \u001b[38;5;241m=\u001b[39m new_name\n",
      "\u001b[1;31mUnboundLocalError\u001b[0m: cannot access local variable 'the_name' where it is not associated with a value"
     ]
    }
   ],
   "source": [
    "the_name = 'Bob'\n",
    "\n",
    "def print_and_change_the_name(new_name):\n",
    "    print('The name is:', the_name)  # globální proměnná the_name?\n",
    "    the_name = new_name  # ale kdepak, the_name je lokální proměnná\n",
    "    # skončí chybou, protože lokální proměnnou nelze vypsat před její nastavením!\n",
    "\n",
    "print_and_change_the_name('Alice')\n",
    "print(the_name)"
   ]
  },
  {
   "cell_type": "markdown",
   "metadata": {},
   "source": [
    "<style> li { margin-bottom: 1em; } code { font-family: Consolas, monospace; } h2 { margin-top: 1em; } table { width: 100%; } td, th { border: none!important; } </style>\n",
    "\n",
    "- Klíčové slovo `global` umožňuje zápis do globální proměnné"
   ]
  },
  {
   "cell_type": "code",
   "execution_count": 49,
   "metadata": {},
   "outputs": [
    {
     "name": "stdout",
     "output_type": "stream",
     "text": [
      "Alice\n"
     ]
    }
   ],
   "source": [
    "the_name = 'Bob'\n",
    "\n",
    "def change_the_name(new_name):\n",
    "    global the_name\n",
    "    the_name = new_name  # toto je globální proměnná the_name\n",
    "\n",
    "change_the_name('Alice')\n",
    "print(the_name)"
   ]
  },
  {
   "cell_type": "markdown",
   "metadata": {},
   "source": [
    "<style> li { margin-bottom: 1em; } code { font-family: Consolas, monospace; } h2 { margin-top: 1em; } table { width: 100%; } td, th { border: none!important; } </style>\n",
    "\n",
    "- Použití `global` se nedoporučuje!\n",
    "\n",
    "  - Více funkcí může měnit proměnné zadefinované na různých místech\n",
    "\n",
    "  - Špatná čitelnost kódu\n",
    "\n",
    "  - Náchylnost na chyby"
   ]
  },
  {
   "cell_type": "code",
   "execution_count": 50,
   "metadata": {},
   "outputs": [
    {
     "name": "stdout",
     "output_type": "stream",
     "text": [
      "The name is: Alice\n"
     ]
    }
   ],
   "source": [
    "the_name = 'Bob'\n",
    "\n",
    "def print_the_name():\n",
    "    print('The name is:', the_name)\n",
    "\n",
    "the_name = 'Alice'\n",
    "print_the_name()"
   ]
  },
  {
   "cell_type": "code",
   "execution_count": 51,
   "metadata": {},
   "outputs": [
    {
     "name": "stdout",
     "output_type": "stream",
     "text": [
      "Rectangle area: 200\n",
      "Triangle area: 100.0\n"
     ]
    }
   ],
   "source": [
    "def calculate_rectangle_area(a, b):\n",
    "    global rectangle_area\n",
    "    rectangle_area = a*b\n",
    "\n",
    "def calculate_triangle_area(a, b):\n",
    "    global triangle_area\n",
    "    calculate_rectangle_area(a, b)\n",
    "    triangle_area = rectangle_area / 2\n",
    "\n",
    "calculate_rectangle_area(2, 3)\n",
    "calculate_triangle_area(10, 20)\n",
    "print('Rectangle area:', rectangle_area)\n",
    "print('Triangle area:', triangle_area)\n",
    "\n",
    "# FUJ!"
   ]
  },
  {
   "cell_type": "markdown",
   "metadata": {},
   "source": [
    "<style> li { margin-bottom: 1em; } code { font-family: Consolas, monospace; } h2 { margin-top: 1em; } table { width: 100%; } td, th { border: none!important; } </style>\n",
    "\n",
    "- Místo globálních proměnných používat:\n",
    "  \n",
    "  - parametry (když chci dostat data do funkce)\n",
    "  \n",
    "  - návratovou hodnotu (když chci dostat data z funkce)\n",
    "  \n",
    "- Použití globálních konstant ve funkci je OK"
   ]
  },
  {
   "cell_type": "code",
   "execution_count": null,
   "metadata": {},
   "outputs": [],
   "source": [
    "GREETING = 'Hello'\n",
    "\n",
    "def greet(name):\n",
    "    print(f'{GREETING}, {name}!')\n",
    "\n",
    "greet('Cyril')"
   ]
  },
  {
   "cell_type": "markdown",
   "metadata": {},
   "source": [
    "<style> li { margin-bottom: 1em; } code { font-family: Consolas, monospace; } h2 { margin-top: 1em; } table { width: 100%; } td, th { border: none!important; } </style>\n",
    "\n",
    "<hr>"
   ]
  },
  {
   "cell_type": "markdown",
   "metadata": {},
   "source": [
    "<style> li { margin-bottom: 1em; } code { font-family: Consolas, monospace; } h2 { margin-top: 1em; } table { width: 100%; } td, th { border: none!important; } </style>\n",
    "\n",
    "## Dokumentace"
   ]
  },
  {
   "cell_type": "markdown",
   "metadata": {},
   "source": [
    "<style> li { margin-bottom: 1em; } code { font-family: Consolas, monospace; } h2 { margin-top: 1em; } table { width: 100%; } td, th { border: none!important; } </style>\n",
    "\n",
    "- Aby bylo jasné, co funkce dělá, je zvykem doplnit *docstring* na začátek funkce.\n",
    "\n",
    "- Nepovinné, ale užitečné, zejména u větších projektů a při spolupráci více lidí."
   ]
  },
  {
   "cell_type": "code",
   "execution_count": null,
   "metadata": {},
   "outputs": [],
   "source": [
    "def cylinder_volume(radius, height):\n",
    "    '''Return the volume of a cylinder with specified radius and height.'''\n",
    "    volume = math.pi * radius**2 * height\n",
    "    return volume"
   ]
  },
  {
   "cell_type": "markdown",
   "metadata": {},
   "source": [
    "<style> li { margin-bottom: 1em; } code { font-family: Consolas, monospace; } h2 { margin-top: 1em; } table { width: 100%; } td, th { border: none!important; } </style>\n",
    "\n",
    "<hr>"
   ]
  },
  {
   "cell_type": "markdown",
   "metadata": {},
   "source": [
    "<style> li { margin-bottom: 1em; } code { font-family: Consolas, monospace; } h2 { margin-top: 1em; } table { width: 100%; } td, th { border: none!important; } </style>\n",
    "\n",
    "## Typové anotace"
   ]
  },
  {
   "cell_type": "markdown",
   "metadata": {},
   "source": [
    "<style> li { margin-bottom: 1em; } code { font-family: Consolas, monospace; } h2 { margin-top: 1em; } table { width: 100%; } td, th { border: none!important; } </style>\n",
    "\n",
    "- Můžeme označit typy parametrů a návratové hodnoty.\n",
    "\n",
    "- Nepovinné, ale užitečné, zejména u větších projektů a při spolupráci více lidí.\n",
    "\n",
    "- VSCode používá docstrings i typové anotace při napovídání"
   ]
  },
  {
   "cell_type": "code",
   "execution_count": null,
   "metadata": {},
   "outputs": [],
   "source": [
    "def cylinder_volume(radius: float, height: float) -> float:\n",
    "    '''Return the volume of a cylinder with specified radius and height.'''\n",
    "    volume = math.pi * radius**2 * height\n",
    "    return volume"
   ]
  },
  {
   "cell_type": "code",
   "execution_count": null,
   "metadata": {},
   "outputs": [],
   "source": [
    "def greet(name: str, repeat: int = 1) -> None:\n",
    "    '''Print `repeat` greetings to a person called `name`.'''\n",
    "    for i in range(repeat):\n",
    "        print(f'Hello {name}!')"
   ]
  },
  {
   "cell_type": "markdown",
   "metadata": {},
   "source": [
    "<style> li { margin-bottom: 1em; } code { font-family: Consolas, monospace; } h2 { margin-top: 1em; } table { width: 100%; } td, th { border: none!important; } </style>\n",
    "\n",
    "- Interpret nekontroluje typy – funkce poběží i když argumenty budou jiných typů.\n",
    "\n",
    "- Kontrolu typů lze provést pomocí modulu `mypy` (probereme příště)."
   ]
  },
  {
   "cell_type": "code",
   "execution_count": null,
   "metadata": {},
   "outputs": [],
   "source": [
    "greet('Alice')"
   ]
  },
  {
   "cell_type": "code",
   "execution_count": null,
   "metadata": {},
   "outputs": [],
   "source": [
    "greet([1, 2, 3])"
   ]
  },
  {
   "cell_type": "markdown",
   "metadata": {},
   "source": [
    "<style> li { margin-bottom: 1em; } code { font-family: Consolas, monospace; } h2 { margin-top: 1em; } table { width: 100%; } td, th { border: none!important; } </style>\n",
    "\n",
    "### Generické typy\n",
    "\n",
    "- `list`, `set`, `tuple`, `dict` – nespecifikují konkrétní typ prvků\n",
    "\n",
    "### Parametrizované generické typy\n",
    "\n",
    "- `list[A]` – seznam prvků typu `A`\n",
    "\n",
    "- `set[A]` – množina prvků typu `A`\n",
    "\n",
    "- `tuple[A, B, C]` – n-tice s prvním prvkem typu `A`, druhým typu `B`, třetím typu `C`\n",
    "\n",
    "- `dict[A, B]` – slovník s klíči typu `A` a hodnotami typu `B`"
   ]
  },
  {
   "cell_type": "code",
   "execution_count": null,
   "metadata": {},
   "outputs": [],
   "source": [
    "def min_avg_max(numbers: list) -> tuple:\n",
    "    '''Return the minimum, average, and maximum of `numbers`.'''\n",
    "    minimum = min(numbers)\n",
    "    average = sum(numbers) / len(numbers)\n",
    "    maximum = max(numbers)\n",
    "    return (minimum, average, maximum)"
   ]
  },
  {
   "cell_type": "code",
   "execution_count": null,
   "metadata": {},
   "outputs": [],
   "source": [
    "def min_avg_max(numbers: list[int]) -> tuple[int, float, int]:\n",
    "    '''Return the minimum, average, and maximum of the numbers.'''\n",
    "    minimum = min(numbers)\n",
    "    average = sum(numbers) / len(numbers)\n",
    "    maximum = max(numbers)\n",
    "    return (minimum, average, maximum)\n",
    "\n",
    "min_avg_max([1, 8, 5, 3])"
   ]
  },
  {
   "cell_type": "code",
   "execution_count": null,
   "metadata": {},
   "outputs": [],
   "source": [
    "def word_indices(words: list[str]) -> dict[str, int]:\n",
    "    '''Return dictionary with index of each word from `words`.'''\n",
    "    result = {}\n",
    "    for i, word in enumerate(words):\n",
    "        result[word] = i\n",
    "    return result\n",
    "\n",
    "word_indices('they have been contaminated by pollution'.split())"
   ]
  },
  {
   "cell_type": "markdown",
   "metadata": {},
   "source": [
    "<style> li { margin-bottom: 1em; } code { font-family: Consolas, monospace; } h2 { margin-top: 1em; } table { width: 100%; } td, th { border: none!important; } </style>\n",
    "\n",
    "- Parametrizované generické typy jsou novinka v Pythonu 3.9, v starších verzích musíme použít:\n",
    "  \n",
    "  - `from __future__ import annotations` (jako první import)\n",
    "\n",
    "  - Nebo generické typy s velkým písmenem (`List`, `Dict`...) z modulu `typing`"
   ]
  },
  {
   "cell_type": "code",
   "execution_count": null,
   "metadata": {},
   "outputs": [],
   "source": [
    "from __future__ import annotations\n",
    "\n",
    "def min_avg_max(numbers: list[int]) -> tuple[int, float, int]:\n",
    "    ..."
   ]
  },
  {
   "cell_type": "code",
   "execution_count": null,
   "metadata": {},
   "outputs": [],
   "source": [
    "from typing import List, Tuple\n",
    "\n",
    "def min_avg_max(numbers: List[int]) -> Tuple[int, float, int]:\n",
    "    ..."
   ]
  },
  {
   "cell_type": "markdown",
   "metadata": {},
   "source": [
    "<style> li { margin-bottom: 1em; } code { font-family: Consolas, monospace; } h2 { margin-top: 1em; } table { width: 100%; } td, th { border: none!important; } </style>\n",
    "\n",
    "### Sjednocení typů\n",
    "\n",
    "- Vyjádřuje, že povolujeme hodnoty více různých typů\n",
    "\n",
    "- `int | str | bool` – celé číslo nebo řetězec nebo logická hodnota\n",
    "\n",
    "- `float | None` – reálné číslo nebo `None`"
   ]
  },
  {
   "cell_type": "code",
   "execution_count": null,
   "metadata": {},
   "outputs": [],
   "source": [
    "def foo(a: int | str | bool, b: float | None) -> list[str] | None:\n",
    "    ..."
   ]
  },
  {
   "cell_type": "markdown",
   "metadata": {},
   "source": [
    "<style> li { margin-bottom: 1em; } code { font-family: Consolas, monospace; } h2 { margin-top: 1em; } table { width: 100%; } td, th { border: none!important; } </style>\n",
    "\n",
    "- Sjednocení typů je novinka v Pythonu 3.10, v starších verzích musíme použít:\n",
    "  \n",
    "  - `from __future__ import annotations` (jako první import)\n",
    "  \n",
    "  - Nebo generické typy s velkým písmenem (`Union`, `Optional`...) z modulu `typing`:\n",
    "  \n",
    "    ```\n",
    "    Union[A, B, C]  =  A | B | C\n",
    "\n",
    "    Optional[A]  =  Union[A, None]  =  A | None\n",
    "    ```"
   ]
  },
  {
   "cell_type": "code",
   "execution_count": null,
   "metadata": {},
   "outputs": [],
   "source": [
    "from __future__ import annotations\n",
    "\n",
    "def foo(a: int | str | bool, b: float | None) -> list[str] | None:\n",
    "    ..."
   ]
  },
  {
   "cell_type": "code",
   "execution_count": null,
   "metadata": {},
   "outputs": [],
   "source": [
    "from typing import Union, Optional, List\n",
    "\n",
    "def foo(a: Union[int, str, bool], b: Optional[float]) -> Optional[List[str]]:\n",
    "    ..."
   ]
  },
  {
   "cell_type": "markdown",
   "metadata": {},
   "source": [
    "<style> li { margin-bottom: 1em; } code { font-family: Consolas, monospace; } h2 { margin-top: 1em; } table { width: 100%; } td, th { border: none!important; } </style>\n",
    "\n",
    "- Další možnosti typových anotací\n",
    "\n",
    "  - Z modulu `typing` (<https://docs.python.org/3/library/typing.html>):\n",
    "\n",
    "    - `Literal` – přesný výčet povolených hodnot\n",
    "\n",
    "    - `Any` – sedí na libovolný typ, libovolný typ sedí na `Any`\n",
    "\n",
    "    - ...\n",
    "\n",
    "  - Z modulu `collections.abc` (<https://docs.python.org/3/library/collections.abc.html>):\n",
    "    \n",
    "    - `Iterable[A]` – iterovatelný objekt s prvky typu `A`\n",
    "\n",
    "    - `Sequence[A]` – iterovatelný objekt s prvky typu `A`, indexovatelný přes číselné indexy\n",
    "    \n",
    "    - ..."
   ]
  },
  {
   "cell_type": "code",
   "execution_count": null,
   "metadata": {},
   "outputs": [],
   "source": [
    "from typing import Literal\n",
    "from collections.abc import Iterable\n",
    "\n",
    "def print_students(students: Iterable[str], sort_by: Literal['name', 'surname', 'uco']) -> None:\n",
    "    ...\n",
    "    # students může být např. typu list[str] nebo set[str]\n",
    "    # sort_by může být pouze 'name' nebo 'surname' nebo 'uco'"
   ]
  },
  {
   "cell_type": "markdown",
   "metadata": {},
   "source": [
    "<style> li { margin-bottom: 1em; } code { font-family: Consolas, monospace; } h2 { margin-top: 1em; } table { width: 100%; } td, th { border: none!important; } </style>\n",
    "\n",
    "### Hierarchie typů\n",
    "\n",
    "- Typ `A` může být podtypem jiného typu `B`\n",
    "\n",
    "- Každá hodnota podtypu `A` je pak zároveň hodnotou nadtypu `B`\n",
    "\n",
    "- Na vrcholu hierarchie je typ `object`, proto:\n",
    "\n",
    "  - Všechny typy jsou podtypem typu `object`\n",
    "\n",
    "  - Hodnota libovolného typu je zároveň hodnotou typu `object`\n",
    "\n",
    "- Velmi zjednodušená hierarchie v Pythonu:\n",
    "\n",
    "```text\n",
    "                              object\n",
    "                                │\n",
    "  ┌───────┬─────────────────────┴──┬──────────────────────┬───────┐\n",
    "  │       │                     Iterable                  │       │\n",
    "  │       │               ┌────────┴──────┬───────┐       │       │\n",
    "  │       │            Sequence           │       │       │       │\n",
    "  │       │       ┌───────┼───────┐       │       │       │       │\n",
    " int    float    str     list   tuple    set     dict    None    type\n",
    "  │\n",
    " bool\n",
    "```\n",
    "\n",
    "- `issubclass(A, B)` – zjišťuje, jestli typ `A` je podtypem typu `B`\n",
    "\n",
    "- `isinstance(x, B)` – zjišťuje, jestli hodnota `x` je typu `B ` (`issubclass(type(x), B)`)"
   ]
  },
  {
   "cell_type": "code",
   "execution_count": null,
   "metadata": {},
   "outputs": [],
   "source": [
    "issubclass(int, object)"
   ]
  },
  {
   "cell_type": "code",
   "execution_count": null,
   "metadata": {},
   "outputs": [],
   "source": [
    "issubclass(int, str)"
   ]
  },
  {
   "cell_type": "code",
   "execution_count": null,
   "metadata": {},
   "outputs": [],
   "source": [
    "isinstance(5, int)"
   ]
  },
  {
   "cell_type": "code",
   "execution_count": null,
   "metadata": {},
   "outputs": [],
   "source": [
    "isinstance(5, str)"
   ]
  },
  {
   "cell_type": "code",
   "execution_count": null,
   "metadata": {},
   "outputs": [],
   "source": [
    "isinstance(5, object)"
   ]
  },
  {
   "cell_type": "code",
   "execution_count": null,
   "metadata": {},
   "outputs": [],
   "source": [
    "def last(elements: list[object]) -> object:\n",
    "    '''Return the last element of a list.'''\n",
    "    return elements[-1]"
   ]
  },
  {
   "cell_type": "markdown",
   "metadata": {},
   "source": [
    "<style> li { margin-bottom: 1em; } code { font-family: Consolas, monospace; } h2 { margin-top: 1em; } table { width: 100%; } td, th { border: none!important; } </style>\n",
    "\n",
    "- `int` sice není podtypem `float`, ale do parametru typu `float` můžeme vždy dosadit i `int`"
   ]
  },
  {
   "cell_type": "code",
   "execution_count": null,
   "metadata": {},
   "outputs": [],
   "source": [
    "def square_area(a: float, b: float) -> float:\n",
    "    return a * b\n",
    "\n",
    "print(square_area(2, 3))"
   ]
  },
  {
   "cell_type": "markdown",
   "metadata": {},
   "source": [
    "<style> li { margin-bottom: 1em; } code { font-family: Consolas, monospace; } h2 { margin-top: 1em; } table { width: 100%; } td, th { border: none!important; } </style>\n",
    "\n",
    "<hr>"
   ]
  },
  {
   "cell_type": "markdown",
   "metadata": {},
   "source": [
    "<style> li { margin-bottom: 1em; } code { font-family: Consolas, monospace; } h2 { margin-top: 1em; } table { width: 100%; } td, th { border: none!important; } </style>\n",
    "\n",
    "## Rozbalování argumentů (*unpacking*)"
   ]
  },
  {
   "cell_type": "markdown",
   "metadata": {},
   "source": [
    "<style> li { margin-bottom: 1em; } code { font-family: Consolas, monospace; } h2 { margin-top: 1em; } table { width: 100%; } td, th { border: none!important; } </style>\n",
    "\n",
    "- Poziční argumenty můžeme rozbalit pomocí `*` (z iterovatelného objektu)\n",
    "\n",
    "- Pojmenované argumenty můžeme rozbalit pomocí `**` (ze slovníku)"
   ]
  },
  {
   "cell_type": "code",
   "execution_count": 1,
   "metadata": {},
   "outputs": [],
   "source": [
    "numbers = [3, 2, 1]\n",
    "formatting = {'sep': ', ', 'end': '.'}"
   ]
  },
  {
   "cell_type": "code",
   "execution_count": 2,
   "metadata": {},
   "outputs": [
    {
     "name": "stdout",
     "output_type": "stream",
     "text": [
      "[3, 2, 1]\n"
     ]
    }
   ],
   "source": [
    "print(numbers)"
   ]
  },
  {
   "cell_type": "code",
   "execution_count": 3,
   "metadata": {},
   "outputs": [
    {
     "name": "stdout",
     "output_type": "stream",
     "text": [
      "3 2 1\n"
     ]
    }
   ],
   "source": [
    "print(*numbers)  # Ekvivalentní print(3, 2, 1) "
   ]
  },
  {
   "cell_type": "code",
   "execution_count": 4,
   "metadata": {},
   "outputs": [
    {
     "name": "stdout",
     "output_type": "stream",
     "text": [
      "3, 2, 1."
     ]
    }
   ],
   "source": [
    "print(*numbers, **formatting)  # Ekvivalentní print(3, 2, 1, sep=', ', end='.') "
   ]
  },
  {
   "cell_type": "markdown",
   "metadata": {},
   "source": [
    "<style> li { margin-bottom: 1em; } code { font-family: Consolas, monospace; } h2 { margin-top: 1em; } table { width: 100%; } td, th { border: none!important; } </style>\n",
    "\n",
    "### Nenasytné parametry\n",
    "\n",
    "- Pokud použijete `*` před názvem posledního (předposledního) parametru funkce, tento parametr bude obsahovat všechny nadbytečné poziční argumenty\n",
    "\n",
    "- Pokud použijete `**` před názvem posledního parametru, tento parametr bude obsahovat všechny nadbytečné pojmenované argumenty"
   ]
  },
  {
   "cell_type": "code",
   "execution_count": 5,
   "metadata": {},
   "outputs": [],
   "source": [
    "def foo(a, b, *args, **kwargs):\n",
    "    print('a:', a)\n",
    "    print('b:', b)\n",
    "    print('args:', args)\n",
    "    print('kwargs:', kwargs)"
   ]
  },
  {
   "cell_type": "code",
   "execution_count": 6,
   "metadata": {},
   "outputs": [
    {
     "name": "stdout",
     "output_type": "stream",
     "text": [
      "a: 1\n",
      "b: 2\n",
      "args: (3, 4, 5, 6)\n",
      "kwargs: {'x': 100, 'y': 200}\n"
     ]
    }
   ],
   "source": [
    "foo(1, 2, 3, 4, 5, 6, x=100, y=200)"
   ]
  }
 ],
 "metadata": {
  "kernelspec": {
   "display_name": "Python 3",
   "language": "python",
   "name": "python3"
  },
  "language_info": {
   "codemirror_mode": {
    "name": "ipython",
    "version": 3
   },
   "file_extension": ".py",
   "mimetype": "text/x-python",
   "name": "python",
   "nbconvert_exporter": "python",
   "pygments_lexer": "ipython3",
   "version": "3.12.6"
  },
  "title": "C2184 Úvod do programování v Pythonu"
 },
 "nbformat": 4,
 "nbformat_minor": 2
}

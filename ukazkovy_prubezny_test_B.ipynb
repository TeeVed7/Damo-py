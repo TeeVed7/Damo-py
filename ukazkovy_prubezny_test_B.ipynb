{
 "cells": [
  {
   "cell_type": "markdown",
   "metadata": {},
   "source": [
    "<style> li { margin-bottom: 1em; } code { font-family: Consolas, monospace; } h2 { margin-top: 1em; } table { width: 100%; } td, th { border: none!important; } </style>\n",
    "\n",
    "# Ukázkový průběžný test (B)\n",
    "\n",
    "<hr>\n",
    "\n",
    "Toto je pouze ukázkový test a slouží na procvičení. Řešení není potřeba nikam odevzdávat, níže uvedené pokyny pouze popisují, jak by test probíhal naostro.\n",
    "\n",
    "## Pokyny:\n",
    "\n",
    "- Během testu je povoleno používat libovolné materiály vč. internetu. Zakázána je pouze komunikace (online i fyzická) s jiným člověkem (kromě učitele).\n",
    "\n",
    "- Na řešení testu jsou vyhrazeny 2 hodiny, lze získat maximálně 50 bodů.\n",
    "\n",
    "- Řešení je nutné vyplnit:\n",
    "\n",
    "  - Přímo do tohoto souboru `ukazkovy_prubezny_test_B.ipynb` (a testy si spustit pomocí testovacích buněk)\n",
    "\n",
    "  - Nebo každý úkol zvlášť do souborů `prubezny_B_?.py`, kde `?` je číslo úkolu (a testy si spustit z příkazového řádku: `python testing.py prubezny_B_?.py`).\n",
    "\n",
    "- Pozor, úkoly jsou dvou typů: \n",
    "  \n",
    "  - Napsat program: je třeba načítat vstup pomocí `input` a vypsat výstup pomocí `print`. V zadání je uveden **vzorový vstup** a **vzorový výstup**.\n",
    "\n",
    "  - Napsat funkci: není třeba načítat vstup (vstupní data budou předána v parametrech funkce), výsledek má být vrácen jako návratová hodnota funkce (`return`). V zadání je uvedeno **vzorové volání** a **vzorový výsledek**. Typové anotace v šablonách funkcí považujte za součást zadání.\n",
    "\n",
    "- Řešení odevzdejte včas do připravené odevzdávárny.\n",
    "\n",
    "<hr>"
   ]
  },
  {
   "cell_type": "markdown",
   "metadata": {},
   "source": [
    "<style> li { margin-bottom: 1em; } code { font-family: Consolas, monospace; } h2 { margin-top: 1em; } table { width: 100%; } td, th { border: none!important; } </style>\n",
    "\n",
    "## Úkol 1 (10 bodů)\n",
    "\n",
    "Napište program, který načte ze vstupu řádek složený z několika obdélníků (každý obdélník je zapsán jako `axb`, kde `a`, `b` jsou délky jeho stran). Program pak vypíše na výstup délky stran `a`, `b` a obsah každého obdélníku v požadovaném formátu (viz vzorový výstup, každý sloupec má šířku 8 znaků, mezi nimi je trojice znaků mezera-svislítko-mezera, hodnoty se vypisují na 2 desetinná místa zarovnané doprava)."
   ]
  },
  {
   "cell_type": "markdown",
   "metadata": {},
   "source": [
    "<style> li { margin-bottom: 1em; } code { font-family: Consolas, monospace; } h2 { margin-top: 1em; } table { width: 100%; } td, th { border: none!important; } </style>\n",
    "\n",
    "**Vzorový vstup:** \n",
    "\n",
    "`1x1 0.4x0.25 80x500`\n",
    "\n",
    "**Vzorový výstup:**\n",
    "\n",
    "```\n",
    "Strana a | Strana b |    Obsah\n",
    "    1.00 |     1.00 |     1.00\n",
    "    0.40 |     0.25 |     0.10\n",
    "   80.00 |   500.00 | 40000.00\n",
    "```\n",
    "\n",
    "<!--# CODE AREA prubezny_B_1 #-->"
   ]
  },
  {
   "cell_type": "code",
   "execution_count": null,
   "metadata": {},
   "outputs": [],
   "source": [
    "vstupy = input().split()\n",
    "\n",
    "print(f\"Strana a | Strana b |    Obsah\")\n",
    "for vstup in vstupy:\n",
    "    a, b = vstup.split(sep=\"x\")\n",
    "    a = float(a)\n",
    "    b = float(b)\n",
    "    s = a * b\n",
    "    print (f\"{a:>8.2f} | {b:>8.2f} | {s:>8.2f}\")\n",
    "\n",
    "# Pro kopírování:\n",
    "# 1x1 0.4x0.25 80x500\n",
    "# Strana a | Strana b |    Obsah"
   ]
  },
  {
   "cell_type": "markdown",
   "metadata": {},
   "source": [
    "<style> li { margin-bottom: 1em; } code { font-family: Consolas, monospace; } h2 { margin-top: 1em; } table { width: 100%; } td, th { border: none!important; } </style>\n",
    "\n",
    "### Testy: \n",
    "\n",
    "Spusťte následující buňku pro kontrolu řešení. \n",
    "\n",
    "Před spuštěním se ujistěte, že je notebook uložen (v záhlaví VSCode u názvu notebooku se nesmí zobrazovat \\* ani &#8226;).\n",
    "\n",
    "<!--# TEST AREA #-->"
   ]
  },
  {
   "cell_type": "code",
   "execution_count": null,
   "metadata": {
    "tags": []
   },
   "outputs": [],
   "source": [
    "# Tuto buňku neupravujte!  # TEST AREA #\n",
    "import testing\n",
    "testing.run_tests(notebook='ukazkovy_prubezny_test_B.ipynb', test_suite='prubezny_B_1')"
   ]
  },
  {
   "cell_type": "markdown",
   "metadata": {},
   "source": [
    "<style> li { margin-bottom: 1em; } code { font-family: Consolas, monospace; } h2 { margin-top: 1em; } table { width: 100%; } td, th { border: none!important; } </style>\n",
    "\n",
    "<hr>"
   ]
  },
  {
   "cell_type": "markdown",
   "metadata": {},
   "source": [
    "<style> li { margin-bottom: 1em; } code { font-family: Consolas, monospace; } h2 { margin-top: 1em; } table { width: 100%; } td, th { border: none!important; } </style>\n",
    "\n",
    "## Úkol 2 (10 bodů)\n",
    "\n",
    "Doplňte funkci `my_filter`, která bere jako parametr seznam řetězců (složených pouze z písmen). Návratovou hodnotou funkce bude přefiltrovaný seznam obsahující pouze řetězce začínající velkým písmenem (další písmena v řetězci mohou být velká nebo malá).\n",
    "\n",
    "#### Vzorové volání:\n",
    "\n",
    "```python\n",
    "my_filter(['Hello', 'jaj', 'KONEC', 'mRNA', 'X', 'camelCase', ''])\n",
    "```\n",
    "\n",
    "#### Vzorový výsledek:\n",
    "```python\n",
    "['Hello', 'KONEC', 'X']\n",
    "```\n",
    "\n",
    "<!--# CODE AREA prubezny_B_2 #-->"
   ]
  },
  {
   "cell_type": "code",
   "execution_count": null,
   "metadata": {},
   "outputs": [],
   "source": [
    "from __future__ import annotations\n",
    "\n",
    "def my_filter(strings: list[str]) -> list[str]:\n",
    "    strings_filter = []\n",
    "    for slovo in strings:\n",
    "        if slovo[0].isupper():\n",
    "            strings_filter.append(slovo)\n",
    "    return strings_filter\n",
    "\n",
    "# my_filter(['Hello', 'jaj', 'KONEC', 'mRNA', 'X', 'camelCase', ''])"
   ]
  },
  {
   "cell_type": "markdown",
   "metadata": {},
   "source": [
    "<style> li { margin-bottom: 1em; } code { font-family: Consolas, monospace; } h2 { margin-top: 1em; } table { width: 100%; } td, th { border: none!important; } </style>\n",
    "\n",
    "### Testy: \n",
    "<!--# TEST AREA #-->"
   ]
  },
  {
   "cell_type": "code",
   "execution_count": null,
   "metadata": {},
   "outputs": [],
   "source": [
    "# Tuto buňku neupravujte!  # TEST AREA #\n",
    "import testing\n",
    "testing.run_tests(notebook='ukazkovy_prubezny_test_B.ipynb', test_suite='prubezny_B_2')"
   ]
  },
  {
   "cell_type": "markdown",
   "metadata": {},
   "source": [
    "<style> li { margin-bottom: 1em; } code { font-family: Consolas, monospace; } h2 { margin-top: 1em; } table { width: 100%; } td, th { border: none!important; } </style>\n",
    "\n",
    "<hr>"
   ]
  },
  {
   "cell_type": "markdown",
   "metadata": {},
   "source": [
    "<style> li { margin-bottom: 1em; } code { font-family: Consolas, monospace; } h2 { margin-top: 1em; } table { width: 100%; } td, th { border: none!important; } </style>\n",
    "\n",
    "## Úkol 3 (10 bodů)\n",
    "\n",
    "Sekvence DNA se skládá ze čtyř typů nukleových bazí (A, C, G, T). Relativní četnost báze vyjádřuje, jaká část sekvence je tvořena daným typem báze (počet výskytů báze / délka\n",
    "sekvence). Součet relativních četností je tedy vždy roven 1. \n",
    "\n",
    "Napište definici funkce `count_bases`, která vezme jako parametr sekvenci DNA a vrátí slovník s absolutní četností nukleových bazí.\n",
    "\n",
    "#### Vzorové volání:\n",
    "```python\n",
    "count_bases('ACGTTTTGAG')\n",
    "```\n",
    "\n",
    "#### Vzorový výsledek:\n",
    "```python\n",
    "{'A': 0.2, 'C': 0.1, 'G': 0.3, 'T': 0.4}\n",
    "```\n",
    "\n",
    "<!--# CODE AREA prubezny_B_3 #-->"
   ]
  },
  {
   "cell_type": "code",
   "execution_count": null,
   "metadata": {},
   "outputs": [],
   "source": [
    "from __future__ import annotations\n",
    "\n",
    "def count_bases(sequence: str) -> dict[str, float]:\n",
    "    a_number = 0\n",
    "    c_number = 0\n",
    "    t_number = 0\n",
    "    g_number = 0\n",
    "    total = 0\n",
    "    for i in sequence:\n",
    "        total +=1\n",
    "        if i == \"A\":\n",
    "            a_number += 1\n",
    "        elif i == \"C\":\n",
    "            c_number += 1\n",
    "        elif i == \"T\":\n",
    "            t_number += 1\n",
    "        elif i == \"G\":\n",
    "            g_number += 1\n",
    "    if total == 0:\n",
    "        return {\"A\":0.0, \"C\":0.0, \"T\":0.0, \"G\":0.0, }\n",
    "    else:\n",
    "        return {\"A\": round(a_number/total, 1) ,\"C\": round(c_number/total, 1) ,\"T\": round(t_number/total, 1) ,\"G\": round(g_number/total, 1) , }\n",
    "\n",
    "# count_bases('ACGTTTTGAG')\n",
    "# count_bases('AAA')"
   ]
  },
  {
   "cell_type": "markdown",
   "metadata": {},
   "source": [
    "<style> li { margin-bottom: 1em; } code { font-family: Consolas, monospace; } h2 { margin-top: 1em; } table { width: 100%; } td, th { border: none!important; } </style>\n",
    "\n",
    "### Testy: \n",
    "<!--# TEST AREA #-->"
   ]
  },
  {
   "cell_type": "code",
   "execution_count": null,
   "metadata": {},
   "outputs": [],
   "source": [
    "# Tuto buňku neupravujte!  # TEST AREA #\n",
    "import testing\n",
    "testing.run_tests(notebook='ukazkovy_prubezny_test_B.ipynb', test_suite='prubezny_B_3')"
   ]
  },
  {
   "cell_type": "markdown",
   "metadata": {},
   "source": [
    "<style> li { margin-bottom: 1em; } code { font-family: Consolas, monospace; } h2 { margin-top: 1em; } table { width: 100%; } td, th { border: none!important; } </style>\n",
    "\n",
    "<hr>"
   ]
  },
  {
   "cell_type": "markdown",
   "metadata": {},
   "source": [
    "<style> li { margin-bottom: 1em; } code { font-family: Consolas, monospace; } h2 { margin-top: 1em; } table { width: 100%; } td, th { border: none!important; } </style>\n",
    "\n",
    "## Úkol 4 (10 bodů)\n",
    "\n",
    "Napište definici funkce `format_names`, která vezme jako parametr řetězec obsahující jména a příjmení osob oddělené čárkami (před a za čárkou může být libovolný počet mezer, mezi jménem a příjmením je jedna nebo více mezer, každá osoba má pouze jedno jméno a jedno příjmení). Funkce přeformátuje jména osob do formátu `Příjmení, Jméno`, jednotlivé osoby oddělí středníkem a mezerou. Návratovou hodnotou je takto přeformátovaný řetězec.\n",
    "\n",
    "#### Vzorové volání:\n",
    "\n",
    "```python\n",
    "format_names('Cyril   Novák ,    Alice Černá,Bob  Marley')\n",
    "```\n",
    "\n",
    "#### Vzorový výsledek:\n",
    "```python\n",
    "'Novák, Cyril; Černá, Alice; Marley, Bob'\n",
    "```\n",
    "\n",
    "<!--# CODE AREA prubezny_B_4 #-->"
   ]
  },
  {
   "cell_type": "code",
   "execution_count": null,
   "metadata": {
    "tags": []
   },
   "outputs": [],
   "source": [
    "def format_names(text: str) -> str:\n",
    "    ...\n",
    "\n",
    "# format_names('Cyril   Novák ,    Alice Černá,Bob  Marley')"
   ]
  },
  {
   "cell_type": "markdown",
   "metadata": {},
   "source": [
    "<style> li { margin-bottom: 1em; } code { font-family: Consolas, monospace; } h2 { margin-top: 1em; } table { width: 100%; } td, th { border: none!important; } </style>\n",
    "\n",
    "### Testy: \n",
    "<!--# TEST AREA #-->"
   ]
  },
  {
   "cell_type": "code",
   "execution_count": null,
   "metadata": {},
   "outputs": [],
   "source": [
    "# Tuto buňku neupravujte!  # TEST AREA #\n",
    "import testing\n",
    "testing.run_tests(notebook='ukazkovy_prubezny_test_B.ipynb', test_suite='prubezny_B_4')"
   ]
  },
  {
   "cell_type": "markdown",
   "metadata": {},
   "source": [
    "<style> li { margin-bottom: 1em; } code { font-family: Consolas, monospace; } h2 { margin-top: 1em; } table { width: 100%; } td, th { border: none!important; } </style>\n",
    "\n",
    "<hr>"
   ]
  },
  {
   "cell_type": "markdown",
   "metadata": {},
   "source": [
    "<style> li { margin-bottom: 1em; } code { font-family: Consolas, monospace; } h2 { margin-top: 1em; } table { width: 100%; } td, th { border: none!important; } </style>\n",
    "\n",
    "## Úkol 5 (10 bodů)\n",
    "\n",
    "Napište definici funkce `even_odd`, která vezme jako parametr seznam celých čísel. Funkce vrátí:\n",
    "\n",
    "- řetězec `'even'`, pokud je víc sudých než lichých čísel,\n",
    "- řetězec `'odd'`, pokud je víc lichých než sudých čísel,\n",
    "- řetězec `'?'`, pokud je stejný počet sudých a lichých čísel.\n",
    "\n",
    "#### Vzorové volání:\n",
    "\n",
    "```python\n",
    "even_odd([5, 11, 2])\n",
    "```\n",
    "\n",
    "#### Vzorový výsledek:\n",
    "```python\n",
    "'odd'\n",
    "```\n",
    "\n",
    "<!--# CODE AREA prubezny_B_5 #-->"
   ]
  },
  {
   "cell_type": "code",
   "execution_count": null,
   "metadata": {},
   "outputs": [],
   "source": [
    "from __future__ import annotations\n",
    "\n",
    "def even_odd(numbers: list[int]) -> str:\n",
    "    ...\n",
    "\n",
    "# even_odd([5, 11, 2])\n",
    "# even_odd([100])\n",
    "# even_odd([5, 10, -3, 8, -1, 0])"
   ]
  },
  {
   "cell_type": "markdown",
   "metadata": {},
   "source": [
    "<style> li { margin-bottom: 1em; } code { font-family: Consolas, monospace; } h2 { margin-top: 1em; } table { width: 100%; } td, th { border: none!important; } </style>\n",
    "\n",
    "### Testy: \n",
    "<!--# TEST AREA #-->"
   ]
  },
  {
   "cell_type": "code",
   "execution_count": null,
   "metadata": {},
   "outputs": [],
   "source": [
    "# Tuto buňku neupravujte!  # TEST AREA #\n",
    "import testing\n",
    "testing.run_tests(notebook='ukazkovy_prubezny_test_B.ipynb', test_suite='prubezny_B_5')"
   ]
  },
  {
   "cell_type": "markdown",
   "metadata": {},
   "source": [
    "<style> li { margin-bottom: 1em; } code { font-family: Consolas, monospace; } h2 { margin-top: 1em; } table { width: 100%; } td, th { border: none!important; } </style>\n",
    "\n",
    "<hr>"
   ]
  }
 ],
 "metadata": {
  "kernelspec": {
   "display_name": "Python 3.10.4 64-bit",
   "language": "python",
   "name": "python3"
  },
  "language_info": {
   "codemirror_mode": {
    "name": "ipython",
    "version": 3
   },
   "file_extension": ".py",
   "mimetype": "text/x-python",
   "name": "python",
   "nbconvert_exporter": "python",
   "pygments_lexer": "ipython3",
   "version": "3.10.6"
  },
  "title": "C2184 Úvod do programování v Pythonu",
  "vscode": {
   "interpreter": {
    "hash": "31f2aee4e71d21fbe5cf8b01ff0e069b9275f58929596ceb00d14d90e3e16cd6"
   }
  }
 },
 "nbformat": 4,
 "nbformat_minor": 2
}

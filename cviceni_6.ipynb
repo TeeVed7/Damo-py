{
 "cells": [
  {
   "cell_type": "markdown",
   "metadata": {},
   "source": [
    "<style> li { margin-bottom: 1em; } code { font-family: Consolas, monospace; } h2 { margin-top: 1em; } table { width: 100%; } td, th { border: none!important; } </style>\n",
    "\n",
    "<style> \n",
    "    code { font-family: Consolas, monospace; font-weight: normal; } \n",
    "    table { width: 100%; }\n",
    "</style>\n",
    "\n",
    "# Nepovinné úkoly\n",
    "\n",
    "V úkolech v této sadě je potřeba (narozdíl od předchozích sad) vždy zadefinovat nejakou funkci. Není třeba načítat vstup pomocí funkce `input`, testy budou volat Vaši funkci tak, jak uvádí **vzorové volání**.\n",
    "\n",
    "Pokud je uvedené **vzorové volání** a **vzorový výsledek**, chce se od Vás, aby návratovou hodnotou vzorového volání byl vzorový výsledek (`return`).\n",
    "\n",
    "Pokud je uvedené **vzorové volání** a **vzorový výstup**, nemá funkce vracet žádnou návratovou hodnotou, ale má vypisovat vzorový výstup (`print`).\n",
    "\n",
    "<hr>"
   ]
  },
  {
   "cell_type": "markdown",
   "metadata": {},
   "source": [
    "<style> li { margin-bottom: 1em; } code { font-family: Consolas, monospace; } h2 { margin-top: 1em; } table { width: 100%; } td, th { border: none!important; } </style>\n",
    "\n",
    "## Cvičení 6.1: Objem kužele\n",
    "\n",
    "### Úkol:\n",
    "\n",
    "Napište funkci `cone_volume`, která bere jako parametry poloměr podstavy kužele (`radius`) a jeho výšku (`height`) a vrací objem kužele. Objem kužele lze spočítat podle vzorce: \n",
    "\n",
    "$$V = \\frac{1}{3} \\pi r^2 h$$\n",
    "\n",
    "|                                |                                |\n",
    "|:-------------------------------|:-------------------------------|\n",
    "| **Vzorové volání 1: &emsp;**   | **Vzorové volání 2: &emsp;**   |\n",
    "| `cone_volume(10, 5)`           | `cone_volume(1.5, 3.2)`        |\n",
    "| **Vzorový výsledek 1: &emsp;** | **Vzorový výsledek 2: &emsp;** |\n",
    "| `523.5987755982989`            | `7.5398223686155035`           |\n",
    "\n",
    "<!--# CODE AREA cviceni_6_1 #-->"
   ]
  },
  {
   "cell_type": "code",
   "execution_count": 4,
   "metadata": {},
   "outputs": [
    {
     "name": "stdout",
     "output_type": "stream",
     "text": [
      "7.5398223686155035\n"
     ]
    }
   ],
   "source": [
    "import math\n",
    "\n",
    "def cone_volume(radius: float, height: float) -> float:\n",
    "    volume = (1/3) * math.pi * (radius**2) * height\n",
    "    return volume\n",
    "\n",
    "# print(cone_volume(10, 5))\n",
    "# print(cone_volume(1.5, 3.2))"
   ]
  },
  {
   "cell_type": "markdown",
   "metadata": {},
   "source": [
    "<style> li { margin-bottom: 1em; } code { font-family: Consolas, monospace; } h2 { margin-top: 1em; } table { width: 100%; } td, th { border: none!important; } </style>\n",
    "\n",
    "### Testy: \n",
    "\n",
    "Spusťte následující buňku pro kontrolu řešení. \n",
    "\n",
    "Před spuštěním se ujistěte, že je notebook uložen (v záhlaví VSCode u názvu notebooku se nesmí zobrazovat \\* ani &#8226;).\n",
    "\n",
    "<!--# TEST AREA #-->"
   ]
  },
  {
   "cell_type": "code",
   "execution_count": 2,
   "metadata": {
    "tags": []
   },
   "outputs": [
    {
     "name": "stdout",
     "output_type": "stream",
     "text": [
      "Tests passed :)\n"
     ]
    }
   ],
   "source": [
    "# Tuto buňku neupravujte!  # TEST AREA #\n",
    "import testing\n",
    "testing.run_tests(notebook='cviceni_6.ipynb', test_suite='cviceni_6_1')"
   ]
  },
  {
   "cell_type": "markdown",
   "metadata": {},
   "source": [
    "<style> li { margin-bottom: 1em; } code { font-family: Consolas, monospace; } h2 { margin-top: 1em; } table { width: 100%; } td, th { border: none!important; } </style>\n",
    "\n",
    "<hr>"
   ]
  },
  {
   "cell_type": "markdown",
   "metadata": {},
   "source": [
    "<style> li { margin-bottom: 1em; } code { font-family: Consolas, monospace; } h2 { margin-top: 1em; } table { width: 100%; } td, th { border: none!important; } </style>\n",
    "\n",
    "## Cvičení 6.2: Dělitelé\n",
    " \n",
    "### Úkol:\n",
    "\n",
    "Napište funkci `divisors`, která bere jako parametr přirozené číslo `n` a vrací seznam všech dělitelů čísla `n` (v pořadí od nejmenšího). \n",
    "\n",
    "Funkce navíc bere nepovinný parametr `proper`: \n",
    "\n",
    "- Pokud je `proper` nastaveno na `False` (default), pak funkce vrací všechny dělitele, včetně samotného `n`.\n",
    "\n",
    "- Pokud je `proper` nastaveno na `True`, pak funkce vrací pouze *vlastní dělitele*, tj. všechny dělitele kromě samotného `n`.\n",
    "\n",
    "Poznámka: na hledání dělitelů existují efektivnější algoritmy, ale v této úloze úplně postačí naivní řešení, tj. zkusit všechna čísla od 1 až po n.\n",
    "\n",
    "|                                |                                |\n",
    "|:-------------------------------|:-------------------------------|\n",
    "| **Vzorové volání 1: &emsp;**   | **Vzorové volání 2: &emsp;**   |\n",
    "| `divisors(12)`                 | `divisors(30, proper=True)`    |\n",
    "| **Vzorový výsledek 1: &emsp;** | **Vzorový výsledek 2: &emsp;** |\n",
    "| `[1, 2, 3, 4, 6, 12]`          | `[1, 2, 3, 5, 6, 10, 15]`      |\n",
    "\n",
    "<!--# CODE AREA cviceni_6_2 #-->"
   ]
  },
  {
   "cell_type": "code",
   "execution_count": 21,
   "metadata": {},
   "outputs": [],
   "source": [
    "def divisors(n: int, proper: bool = False) -> list[int]:\n",
    "    div = set()\n",
    "    for i in range(1, n+1):\n",
    "        if n % i == 0:\n",
    "            div.add(i)\n",
    "    if proper == True:\n",
    "        div.remove(n)\n",
    "    div_numbers = sorted(list(div))\n",
    "    return div_numbers\n",
    "\n",
    "\n",
    "# print(divisors(12))\n",
    "# print(divisors(30, proper=True))"
   ]
  },
  {
   "cell_type": "markdown",
   "metadata": {},
   "source": [
    "<style> li { margin-bottom: 1em; } code { font-family: Consolas, monospace; } h2 { margin-top: 1em; } table { width: 100%; } td, th { border: none!important; } </style>\n",
    "\n",
    "### Testy: \n",
    "<!--# TEST AREA #-->"
   ]
  },
  {
   "cell_type": "code",
   "execution_count": 22,
   "metadata": {},
   "outputs": [
    {
     "name": "stdout",
     "output_type": "stream",
     "text": [
      "Tests passed :)\n"
     ]
    }
   ],
   "source": [
    "# Tuto buňku neupravujte!  # TEST AREA #\n",
    "import testing\n",
    "testing.run_tests(notebook='cviceni_6.ipynb', test_suite='cviceni_6_2')"
   ]
  },
  {
   "cell_type": "markdown",
   "metadata": {},
   "source": [
    "<style> li { margin-bottom: 1em; } code { font-family: Consolas, monospace; } h2 { margin-top: 1em; } table { width: 100%; } td, th { border: none!important; } </style>\n",
    "\n",
    "<hr>"
   ]
  },
  {
   "cell_type": "markdown",
   "metadata": {},
   "source": [
    "<style> li { margin-bottom: 1em; } code { font-family: Consolas, monospace; } h2 { margin-top: 1em; } table { width: 100%; } td, th { border: none!important; } </style>\n",
    "\n",
    "## Cvičení 6.3: Společná písmena\n",
    "\n",
    "### Úkol:\n",
    "\n",
    "Napište definici funkce `common_letters`, která přijímá seznam řetězců. Funkce vrátí množinu znaků, které se vyskytují v každém z těchto řetězců. Pokud bude funkce volána na prázdném seznamu, vrátí prázdnou množinu.\n",
    "\n",
    "Nápověda: při řešení lze využít množinové operace (průnik `intersection` (`&`), sjednocení `union` (`|`)...).\n",
    "\n",
    "|                                                   |                                |\n",
    "|:--------------------------------------------------|:-------------------------------|\n",
    "| **Vzorové volání 1: &emsp;**                      | **Vzorové volání 2: &emsp;**   |\n",
    "| `common_letters(['mrkev', 'krkavec', 'krabice'])` | `common_letters([])`           |\n",
    "| **Vzorový výsledek 1: &emsp;**                    | **Vzorový výsledek 2: &emsp;** |\n",
    "| `{'e', 'k', 'r'}`                                 | `set()`                        |    \n",
    "\n",
    "<!--# CODE AREA cviceni_6_3 #-->"
   ]
  },
  {
   "cell_type": "code",
   "execution_count": 38,
   "metadata": {},
   "outputs": [
    {
     "name": "stdout",
     "output_type": "stream",
     "text": [
      "{'r', 'e', 'k'}\n"
     ]
    }
   ],
   "source": [
    "def common_letters(words: list[str]) -> set[str]: \n",
    "    if words == []:\n",
    "        result = set()\n",
    "    else:\n",
    "        result = set(words[0])\n",
    "\n",
    "    for word in words[1:]:\n",
    "        letters_current = set()\n",
    "        for i in word:\n",
    "            letters_current.add(i)\n",
    "        result &= letters_current\n",
    "    \n",
    "    return result\n",
    "\n",
    "print(common_letters(['mrkev', 'krkavec', 'krabice']))\n",
    "# print(common_letters([]))"
   ]
  },
  {
   "cell_type": "markdown",
   "metadata": {},
   "source": [
    "<style> li { margin-bottom: 1em; } code { font-family: Consolas, monospace; } h2 { margin-top: 1em; } table { width: 100%; } td, th { border: none!important; } </style>\n",
    "\n",
    "### Testy: \n",
    "<!--# TEST AREA #-->"
   ]
  },
  {
   "cell_type": "code",
   "execution_count": 37,
   "metadata": {},
   "outputs": [
    {
     "name": "stdout",
     "output_type": "stream",
     "text": [
      "Tests passed :)\n"
     ]
    }
   ],
   "source": [
    "# Tuto buňku neupravujte!  # TEST AREA #\n",
    "import testing\n",
    "testing.run_tests(notebook='cviceni_6.ipynb', test_suite='cviceni_6_3')"
   ]
  },
  {
   "cell_type": "markdown",
   "metadata": {},
   "source": [
    "<style> li { margin-bottom: 1em; } code { font-family: Consolas, monospace; } h2 { margin-top: 1em; } table { width: 100%; } td, th { border: none!important; } </style>\n",
    "\n",
    "<hr>"
   ]
  },
  {
   "cell_type": "markdown",
   "metadata": {},
   "source": [
    "<style> li { margin-bottom: 1em; } code { font-family: Consolas, monospace; } h2 { margin-top: 1em; } table { width: 100%; } td, th { border: none!important; } </style>\n",
    "\n",
    "## Cvičení 6.4: Úhel\n",
    "\n",
    "Mějme dva vektory v rovině: $\\vec{u} = (u_x, u_y)$, $\\vec{v} = (v_x, v_y)$.\n",
    "\n",
    "Pak velikost úhlu $\\alpha$ mezi těmito vektory umíme spočítat podle vzorce\n",
    "\n",
    "$$\\cos(\\alpha) = \\frac{\\vec{u} \\cdot \\vec{v}}{\\left\\vert \\vec{u} \\right\\vert \\left\\vert \\vec{v} \\right\\vert} $$\n",
    "\n",
    "V tomto vzorci $\\vec{u} \\cdot \\vec{v}$ značí skalární součin vektorů a $\\left\\vert \\vec{u} \\right\\vert$ značí velikost vektoru.\n",
    "\n",
    "$$\\vec{u} \\cdot \\vec{v} = u_x v_x + u_y v_y$$\n",
    "\n",
    "$$\\left\\vert \\vec{u} \\right\\vert = \\sqrt{\\vec{u} \\cdot \\vec{u}}$$\n",
    "\n",
    "### Úkol:\n",
    "\n",
    "Napište funkci `angle`, která spočítá velikost úhlu (v radiánech) mezi dvěma zadanými vektory. Vektory budou reprezentovány dvojicemi reálných čísel. \n",
    "\n",
    "Řešení je vhodné rozdělit na jednodušší podúkoly, například definovat nejdřív funkce `dot` (skalární součin) a `size` (velikost) a ty pak vhodně volat ve funkci `angle`.\n",
    "\n",
    "|                                |                                 |\n",
    "|:-------------------------------|:--------------------------------|\n",
    "| **Vzorové volání 1: &emsp;**   | **Vzorové volání 2: &emsp;**    |\n",
    "| `angle((1, 1), (2, -2))`       | `angle((1.5, 2.2), (5.2, 4.8))` |\n",
    "| **Vzorový výsledek 1: &emsp;** | **Vzorový výsledek 2: &emsp;**  |\n",
    "| `1.5707963267948966`           | `0.22695795704220176`           |\n",
    "\n",
    "Pro kontrolu: velikost vektorů ve vzorovém volání 1 má vyjít zhruba 1.414 a 2.828, skalární součin 0.0.\n",
    "\n",
    "<!--# CODE AREA cviceni_6_4 #-->"
   ]
  },
  {
   "cell_type": "code",
   "execution_count": 40,
   "metadata": {
    "tags": []
   },
   "outputs": [
    {
     "name": "stdout",
     "output_type": "stream",
     "text": [
      "1.5707963267948966\n"
     ]
    }
   ],
   "source": [
    "import math\n",
    "\n",
    "def angle(u: tuple[float, float], v: tuple[float, float]) -> float:\n",
    "    \n",
    "    alpha_rad = math.acos(dot(u, v)/(size(u)*size(v)))\n",
    "    #alpha = alpha_rad * (180/math.pi)\n",
    "    return alpha_rad\n",
    "\n",
    "def dot(u: tuple[float, float], v: tuple[float, float]) -> float:\n",
    "    scalar = (u[0]*v[0]) + (u[1]*v[1])\n",
    "    return scalar\n",
    "    \n",
    "def size(u: tuple[float, float]) -> float:\n",
    "    a = u[0]\n",
    "    b = u[1]\n",
    "    c = math.sqrt(a**2 + b**2)\n",
    "    return c\n",
    "\n",
    "print(angle((1, 1), (2, -2)))\n",
    "# print(angle((1.5, 2.2), (5.2, 4.8)))"
   ]
  },
  {
   "cell_type": "markdown",
   "metadata": {},
   "source": [
    "<style> li { margin-bottom: 1em; } code { font-family: Consolas, monospace; } h2 { margin-top: 1em; } table { width: 100%; } td, th { border: none!important; } </style>\n",
    "\n",
    "### Testy: \n",
    "<!--# TEST AREA #-->"
   ]
  },
  {
   "cell_type": "code",
   "execution_count": 41,
   "metadata": {},
   "outputs": [
    {
     "name": "stdout",
     "output_type": "stream",
     "text": [
      "Tests passed :)\n"
     ]
    }
   ],
   "source": [
    "# Tuto buňku neupravujte!  # TEST AREA #\n",
    "import testing\n",
    "testing.run_tests(notebook='cviceni_6.ipynb', test_suite='cviceni_6_4')"
   ]
  },
  {
   "cell_type": "markdown",
   "metadata": {},
   "source": [
    "<style> li { margin-bottom: 1em; } code { font-family: Consolas, monospace; } h2 { margin-top: 1em; } table { width: 100%; } td, th { border: none!important; } </style>\n",
    "\n",
    "<hr>"
   ]
  }
 ],
 "metadata": {
  "kernelspec": {
   "display_name": "Python 3",
   "language": "python",
   "name": "python3"
  },
  "language_info": {
   "codemirror_mode": {
    "name": "ipython",
    "version": 3
   },
   "file_extension": ".py",
   "mimetype": "text/x-python",
   "name": "python",
   "nbconvert_exporter": "python",
   "pygments_lexer": "ipython3",
   "version": "3.12.6"
  },
  "title": "C2184 Úvod do programování v Pythonu"
 },
 "nbformat": 4,
 "nbformat_minor": 2
}
